{
 "cells": [
  {
   "cell_type": "markdown",
   "metadata": {},
   "source": [
    "# Pythonが苦手です。どうやってべんきょうしたらいいですか。\n",
    "なぜPythonが苦手と感じるかと自己反省してみると、この収拾のなさというかいい加減さが覚えにくい。  \n",
    "なんらかの思想で統一されているとそれを頼りに記憶のわくぐみをつくるのだが、とかなんとか言う前に勉強しよう。  \n",
    "\n",
    "というので立ち上げたJupyter notebookですのであまり期待しないで進みましょう。\n",
    "\n",
    "文字列がわかりません。  \n",
    "質問  charはあるのですか。見つからないのでないのではないか。\n",
    "まあいいいか。  \n",
    "\n",
    "\n",
    "変数は事前に定義するのかどうか。突然`x=3`とか使っていいの。  \n",
    "やってみてください。 べつにいいみたいです。  \n",
    "`3 + \"5\"`とかしたらさすがエラーになりました。\n",
    "\n",
    "### 質問フラグと問題フラグについて。  \n",
    "あとで質問で検索したり、問題で復習したりするために、適宜質問と問題という表題を立てますが読むときはあまりきにしないでよい。\n",
    "\n",
    "問題\n",
    "色のリストについて文字数のリストを作る。append()を使う。"
   ]
  },
  {
   "cell_type": "code",
   "execution_count": null,
   "metadata": {},
   "outputs": [],
   "source": [
    "colors = [\"yellow\", \"red\", \"green\", \"blue\", \"purple\"]\n",
    "colorlength = []\n",
    "for color in colors :\n",
    "    colorlength.append(len(color))\n",
    "print (colorlength)"
   ]
  },
  {
   "cell_type": "markdown",
   "metadata": {},
   "source": [
    "質問 連想配列（dict、hash）はどうやって作るのですか。  \n",
    "質問 リストからzipで簡単に作れますか。例えばzip(colors, colorlength)とか。  \n",
    "質問 いちいちprintした方がいいですか。それとも変数を素でうちこむのがいいですか。  \n",
    "\n",
    "`zip()`という関数があった。  \n",
    "思っていたのとはだいぶ違うが例を転記してみる。実験。うむ、これは便利かも。"
   ]
  },
  {
   "cell_type": "code",
   "execution_count": null,
   "metadata": {},
   "outputs": [],
   "source": [
    "days = ['Monday', 'Tuesday', 'Wednesday']\n",
    "fruits = ['banana', 'orange', 'peach']\n",
    "desserts = ['tiramisu', 'ice cream', 'pie', 'pudding']\n",
    "drinks = ['coffee', 'tea', 'beer']\n",
    "for day, fruit, drink, dessert in zip(days, fruits, drinks, desserts):\n",
    "    print(day, \": drink\", drink, \"- eat\", fruit, \"- enjoy\", dessert)"
   ]
  },
  {
   "cell_type": "code",
   "execution_count": null,
   "metadata": {},
   "outputs": [],
   "source": [
    "english = 'Monday', 'Tuesday', 'Wednesday'\n",
    "french = 'Lundi', 'Mardi', 'Mercredi'\n",
    "dict( zip(english, french))"
   ]
  },
  {
   "cell_type": "code",
   "execution_count": null,
   "metadata": {},
   "outputs": [],
   "source": [
    "list(zip(english,french))"
   ]
  },
  {
   "cell_type": "markdown",
   "metadata": {},
   "source": [
    "`list()`とか`dict()`とか変な関数ですね。\n",
    "\n",
    "`range()`を`list()`で囲むと数列ができる。  \n",
    "おー、これは便利。"
   ]
  },
  {
   "cell_type": "code",
   "execution_count": null,
   "metadata": {},
   "outputs": [],
   "source": [
    "list(range(10, -1, -1))"
   ]
  },
  {
   "cell_type": "markdown",
   "metadata": {},
   "source": [
    "さて、それ以前にPython dictionaryがわからないのでテキストを読む。\n",
    "\n",
    "`{}`で作成する。"
   ]
  },
  {
   "cell_type": "code",
   "execution_count": null,
   "metadata": {},
   "outputs": [],
   "source": [
    "bierce = {\n",
    "        \"day\": \"A period of twenty-four hours, mostly misspent\",\n",
    "        \"positive\": \"Mistaken at the top of one's voice\",\n",
    "        \"misfortune\": \"The kind of fortune that never misses\",\n",
    "        }\n",
    "bierce[\"day\"]"
   ]
  },
  {
   "cell_type": "markdown",
   "metadata": {},
   "source": [
    "問題\n",
    "色のリストについて色名をキーに文字数をvalueにした辞書を作る。できた。"
   ]
  },
  {
   "cell_type": "code",
   "execution_count": 2,
   "metadata": {
    "scrolled": true
   },
   "outputs": [
    {
     "data": {
      "text/plain": [
       "{'blue': 4, 'green': 5, 'purple': 6, 'red': 3, 'yellow': 6}"
      ]
     },
     "execution_count": 2,
     "metadata": {},
     "output_type": "execute_result"
    }
   ],
   "source": [
    "colors = [\"yellow\", \"red\", \"green\", \"blue\", \"purple\"]\n",
    "colorlength = []\n",
    "for color in colors :\n",
    "    colorlength.append(len(color))\n",
    "\n",
    "dict(zip(colors,colorlength))"
   ]
  },
  {
   "cell_type": "code",
   "execution_count": null,
   "metadata": {},
   "outputs": [],
   "source": []
  }
 ],
 "metadata": {
  "kernelspec": {
   "display_name": "Python 3",
   "language": "python",
   "name": "python3"
  },
  "language_info": {
   "codemirror_mode": {
    "name": "ipython",
    "version": 3
   },
   "file_extension": ".py",
   "mimetype": "text/x-python",
   "name": "python",
   "nbconvert_exporter": "python",
   "pygments_lexer": "ipython3",
   "version": "3.6.4"
  }
 },
 "nbformat": 4,
 "nbformat_minor": 2
}
