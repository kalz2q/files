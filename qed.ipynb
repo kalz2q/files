{
 "cells": [
  {
   "cell_type": "markdown",
   "metadata": {},
   "source": [
    "証明終わりの記号をJupyterで$\\LaTeX$で書こうとして、`\\qed`とか、`\\qedsymbol`とか書いてみたのですが、うまく行きません。"
   ]
  },
  {
   "cell_type": "markdown",
   "metadata": {},
   "source": [
    "ユニコードを使える、`\\unicode{}`というのがあるので、少し実験してみました。"
   ]
  },
  {
   "cell_type": "markdown",
   "metadata": {},
   "source": [
    "$\n",
    "\\unicode{x220E}\\\\\n",
    "\\unicode{x25a1}\\\\\n",
    "\\unicode{x25af}\n",
    "$"
   ]
  },
  {
   "cell_type": "markdown",
   "metadata": {},
   "source": [
    "```\n",
    "$\n",
    "\\unicode{x220E}\\\\\n",
    "\\unicode{x25a1}\\\\\n",
    "\\unicode{x25af}\n",
    "$\n",
    "```\n"
   ]
  },
  {
   "cell_type": "markdown",
   "metadata": {},
   "source": [
    "```$\n",
    "\\unicode{x220E}\\\\\n",
    "\\unicode{x25a1}\\\\\n",
    "\\unicode{x25af}\n",
    "$\n",
    "```"
   ]
  },
  {
   "cell_type": "markdown",
   "metadata": {},
   "source": [
    "Wikipediaによると一番上の黒い長四角U+220Eが割り当てられているとのことですが、黒いのはあまり見かけないよね。  \n",
    "いわゆる白四角25a1でいいじゃん、と思ったのですが、テキストを写経していると、どうも縦の長四角が多い気がする。  \n",
    "で、結局x25afを使っています。"
   ]
  },
  {
   "cell_type": "markdown",
   "metadata": {},
   "source": [
    "Jupyter notebookで数学書を読む、という実験をしているのですが、基本方針としては\n",
    "\n",
    "1. 数式は写す。\n",
    "2. 問題は解く。\n",
    "\n",
    "で証明は面倒なので書き写したり、写さなかったりします。  \n",
    "書き写すときはできるだけ、元のに似せたいので、証明終わりにもこだわりました。"
   ]
  },
  {
   "cell_type": "markdown",
   "metadata": {},
   "source": []
  },
  {
   "cell_type": "markdown",
   "metadata": {},
   "source": []
  }
 ],
 "metadata": {
  "kernelspec": {
   "display_name": "Python 3",
   "language": "python",
   "name": "python3"
  },
  "language_info": {
   "codemirror_mode": {
    "name": "ipython",
    "version": 3
   },
   "file_extension": ".py",
   "mimetype": "text/x-python",
   "name": "python",
   "nbconvert_exporter": "python",
   "pygments_lexer": "ipython3",
   "version": "3.6.6"
  },
  "toc": {
   "base_numbering": 1,
   "nav_menu": {},
   "number_sections": true,
   "sideBar": true,
   "skip_h1_title": false,
   "title_cell": "Table of Contents",
   "title_sidebar": "Contents",
   "toc_cell": false,
   "toc_position": {},
   "toc_section_display": true,
   "toc_window_display": true
  }
 },
 "nbformat": 4,
 "nbformat_minor": 2
}
