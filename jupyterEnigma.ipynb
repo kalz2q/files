{
 "cells": [
  {
   "cell_type": "markdown",
   "metadata": {},
   "source": [
    "# MyEnigmaというサイト\n",
    "\n",
    "Jupyter notebookを使って技術ノート環境を構築する方法\n",
    "\n",
    "ここでは pip installしているけどわたしはたしかanacondaで自動で入っていたような気がする。\n",
    "\n",
    "dropboxで云々のところはgithubで云々。にしたい。\n",
    "\n",
    "aliasを作って、'cd ~/Dropbox/ipythondir; jupyter-notebook'ということは、\n",
    "cd ~/mygit/files; jupyter-notebook\n",
    "って、いつもやっていることか。aliasをつくるかどうかは別として。\n",
    "\n"
   ]
  },
  {
   "cell_type": "markdown",
   "metadata": {},
   "source": [
    "## 数式\n",
    "$$\\sqrt{a+b}$$"
   ]
  },
  {
   "cell_type": "markdown",
   "metadata": {},
   "source": [
    "## 数式その2\n",
    "```\n",
    "\\begin{equation*}\n",
    "\\sqrt{a+b}\n",
    "\\end{equation*}```\n",
    "github上でちゃんと表示させたい場合はこういうふうに書いた方がいいって。  \n",
    "ふむ。よくわからない。なぜだろう。  \n",
    "\n",
    "以前紹介した、Pythonの数式演算ライブラリsympyを使用すれば、  \n",
    "Jupyter上で数式の計算も出来ます。  "
   ]
  },
  {
   "cell_type": "code",
   "execution_count": 2,
   "metadata": {},
   "outputs": [],
   "source": [
    "%matplotlib inline\n",
    "from sympy import *\n",
    "init_printing()\n",
    "x=Symbol('x')\n",
    "y=Symbol('y')"
   ]
  },
  {
   "cell_type": "code",
   "execution_count": 3,
   "metadata": {},
   "outputs": [
    {
     "data": {
      "image/png": "[encoded data removed]",
      "text/latex": [
       "$$\\left(x + y\\right)^{5}$$"
      ],
      "text/plain": [
       "       5\n",
       "(x + y) "
      ]
     },
     "execution_count": 3,
     "metadata": {},
     "output_type": "execute_result"
    }
   ],
   "source": [
    "expr = (x+y)**5\n",
    "expr"
   ]
  },
  {
   "cell_type": "code",
   "execution_count": 4,
   "metadata": {},
   "outputs": [
    {
     "data": {
      "image/png": "[encoded data removed]",
      "text/latex": [
       "$$x^{5} + 5 x^{4} y + 10 x^{3} y^{2} + 10 x^{2} y^{3} + 5 x y^{4} + y^{5}$$"
      ],
      "text/plain": [
       " 5      4         3  2       2  3        4    5\n",
       "x  + 5⋅x ⋅y + 10⋅x ⋅y  + 10⋅x ⋅y  + 5⋅x⋅y  + y "
      ]
     },
     "execution_count": 4,
     "metadata": {},
     "output_type": "execute_result"
    }
   ],
   "source": [
    "expand(expr)"
   ]
  },
  {
   "cell_type": "code",
   "execution_count": 6,
   "metadata": {},
   "outputs": [
    {
     "data": {
      "image/png": "[encoded data removed]",
      "text/latex": [
       "$$x^{4} + 4 x^{3} y + 6 x^{2} y^{2} + 4 x y^{3} + y^{4}$$"
      ],
      "text/plain": [
       " 4      3        2  2        3    4\n",
       "x  + 4⋅x ⋅y + 6⋅x ⋅y  + 4⋅x⋅y  + y "
      ]
     },
     "execution_count": 6,
     "metadata": {},
     "output_type": "execute_result"
    }
   ],
   "source": [
    "expand((x+y)**4)"
   ]
  },
  {
   "cell_type": "code",
   "execution_count": 8,
   "metadata": {},
   "outputs": [
    {
     "data": {
      "image/png": "[encoded data removed]",
      "text/latex": [
       "$$\\cos{\\left (x \\right )} \\cos{\\left (y \\right )} + \\frac{2}{y}$$"
      ],
      "text/plain": [
       "                2\n",
       "cos(x)⋅cos(y) + ─\n",
       "                y"
      ]
     },
     "execution_count": 8,
     "metadata": {},
     "output_type": "execute_result"
    }
   ],
   "source": [
    "expr = cos(x) * cos(y) + 2/y\n",
    "expr"
   ]
  },
  {
   "cell_type": "code",
   "execution_count": 10,
   "metadata": {},
   "outputs": [
    {
     "data": {
      "image/png": "[encoded data removed]",
      "text/latex": [
       "$$\\left [ - \\operatorname{acos}{\\left (- \\frac{2}{y \\cos{\\left (y \\right )}} \\right )} + 2 \\pi, \\quad \\operatorname{acos}{\\left (- \\frac{2}{y \\cos{\\left (y \\right )}} \\right )}\\right ]$$"
      ],
      "text/plain": [
       "⎡      ⎛  -2    ⎞            ⎛  -2    ⎞⎤\n",
       "⎢- acos⎜────────⎟ + 2⋅π, acos⎜────────⎟⎥\n",
       "⎣      ⎝y⋅cos(y)⎠            ⎝y⋅cos(y)⎠⎦"
      ]
     },
     "execution_count": 10,
     "metadata": {},
     "output_type": "execute_result"
    }
   ],
   "source": [
    "solve(expr, x)"
   ]
  },
  {
   "cell_type": "code",
   "execution_count": null,
   "metadata": {},
   "outputs": [],
   "source": []
  },
  {
   "cell_type": "code",
   "execution_count": null,
   "metadata": {},
   "outputs": [],
   "source": []
  },
  {
   "cell_type": "code",
   "execution_count": null,
   "metadata": {},
   "outputs": [],
   "source": []
  },
  {
   "cell_type": "code",
   "execution_count": null,
   "metadata": {},
   "outputs": [],
   "source": []
  }
 ],
 "metadata": {
  "kernelspec": {
   "display_name": "Python 3",
   "language": "python",
   "name": "python3"
  },
  "language_info": {
   "codemirror_mode": {
    "name": "ipython",
    "version": 3
   },
   "file_extension": ".py",
   "mimetype": "text/x-python",
   "name": "python",
   "nbconvert_exporter": "python",
   "pygments_lexer": "ipython3",
   "version": "3.6.4"
  }
 },
 "nbformat": 4,
 "nbformat_minor": 2
}
