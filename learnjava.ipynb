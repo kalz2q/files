{
 "cells": [
  {
   "cell_type": "markdown",
   "metadata": {},
   "source": [
    "# はじめに\n",
    "\n",
    "れれれ。jupyterの使い方を忘れている。  \n",
    "まあいいか。\n",
    "\n",
    "とりあえず、IJavaというカーネルをいれたのでNewでJavaがあるかどうか確認したらあったのでlearnjavaというノートをつくったところ。  \n",
    "どうか。\n",
    "\n",
    "なにかやってみないとダメですね。\n"
   ]
  },
  {
   "cell_type": "code",
   "execution_count": 4,
   "metadata": {},
   "outputs": [
    {
     "ename": "EvalException",
     "evalue": "Exception occurred while running line magic 'maven': Unable to collect/resolve dependency tree for a resolution due to: Could not find artifact org.known.xchart:xchart:jar:3.5.2 in central (https://repo1.maven.org/maven2), caused by: Could not find artifact org.known.xchart:xchart:jar:3.5.2 in central (https://repo1.maven.org/maven2)",
     "output_type": "error",
     "traceback": [
      "\u001b[1m\u001b[31m---------------------------------------------------------------------------\u001b[0m",
      "\u001b[1m\u001b[31mjava.lang.RuntimeException: Exception occurred while running line magic 'maven': Unable to collect/resolve dependency tree for a resolution due to: Could not find artifact org.known.xchart:xchart:jar:3.5.2 in central (https://repo1.maven.org/maven2), caused by: Could not find artifact org.known.xchart:xchart:jar:3.5.2 in central (https://repo1.maven.org/maven2)\u001b[0m",
      "\u001b[1m\u001b[31m\tat .lineMagic(#9:10)\u001b[0m",
      "\u001b[1m\u001b[31m\tat .(#22:1)\u001b[0m"
     ]
    }
   ],
   "source": [
    "%maven org.known.xchart:xchart:3.5.2\n",
    "import org.known.xchart.*;\n",
    "\n",
    "double[] xData = new double[] { .0, 1.0, 2.0 };\n",
    "double[] yData = new double[] { .0, 1.0, 0.0 };\n",
    "\n",
    "XYChart chart = QuickChart.getCahrt(\"Sample Chart\", \"X\", \"Y\", \"y(x)\", xData, yData);\n",
    "\n",
    "BitmatpEncoder.getBufferedImage(chart);"
   ]
  },
  {
   "cell_type": "markdown",
   "metadata": {},
   "source": [
    "これはエラーになりました。\n",
    "\n",
    "java.lang.RuntimeException: Exception occurred while running line magic 'maven': Unable to collect/resolve dependency tree for a resolution due to: Could not find artifact org.known.xchart:xchart:jar:3.5.2 in central (https://repo1.maven.org/maven2), caused by: Could not find artifact org.known.xchart:xchart:jar:3.5.2 in central (https://repo1.maven.org/maven2)\n",
    "\tat .lineMagic(#9:10)\n",
    "\tat .(#22:1)\n",
    "    \n",
    "  "
   ]
  },
  {
   "cell_type": "code",
   "execution_count": 3,
   "metadata": {},
   "outputs": [
    {
     "name": "stdout",
     "output_type": "stream",
     "text": [
      "Output on stdout\n"
     ]
    },
    {
     "name": "stderr",
     "output_type": "stream",
     "text": [
      "Output on stderr\n"
     ]
    },
    {
     "data": {
      "text/plain": [
       "Expression value as expression result"
      ]
     },
     "execution_count": 3,
     "metadata": {},
     "output_type": "execute_result"
    }
   ],
   "source": [
    "System.out.println(\"Output on stdout\");\n",
    "System.err.println(\"Output on stderr\");\n",
    "\n",
    "String expressionOutput = \"expression result\";\n",
    "\"Expression value as \" + expressionOutput"
   ]
  },
  {
   "cell_type": "code",
   "execution_count": 8,
   "metadata": {},
   "outputs": [
    {
     "data": {
      "text/plain": [
       "6"
      ]
     },
     "execution_count": 8,
     "metadata": {},
     "output_type": "execute_result"
    }
   ],
   "source": [
    "(int) eval(\"1 + 2\") + 3"
   ]
  },
  {
   "cell_type": "markdown",
   "metadata": {},
   "source": [
    "### とりあえずの予定\n",
    "まずはjupyterの復習をする。  \n",
    "それからpythonの復習もした方がいいかもしれない。  \n",
    "それぞれ30分。  \n",
    "それからせっかくだからJavaを少し続けてみる。\n",
    "\n",
    "いま、ドットインストールでJava入門をみているのでそれをここに入れてみよう。  \n",
    "\n",
    "ひとつにはほかの言語と違って、ファイル作ってコンパイルして実行のサイクルや命名がめんどうなのですよね。javaって。\n"
   ]
  }
 ],
 "metadata": {
  "kernelspec": {
   "display_name": "Java",
   "language": "java",
   "name": "java"
  },
  "language_info": {
   "codemirror_mode": "java",
   "file_extension": ".java",
   "mimetype": "text/x-java-source",
   "name": "Java",
   "pygments_lexer": "java",
   "version": "10.0.1+10-Ubuntu-3ubuntu1"
  }
 },
 "nbformat": 4,
 "nbformat_minor": 2
}
