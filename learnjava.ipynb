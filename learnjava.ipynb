{
 "cells": [
  {
   "cell_type": "markdown",
   "metadata": {},
   "source": [
    "# はじめに\n",
    "\n",
    "れれれ。jupyterの使い方を忘れている。  \n",
    "まあいいか。\n",
    "\n",
    "とりあえず、IJavaというカーネルをいれたのでNewでJavaがあるかどうか確認したらあったのでlearnjavaというノートをつくったところ。  \n",
    "どうか。\n",
    "\n",
    "なにかやってみないとダメですね。\n"
   ]
  },
  {
   "cell_type": "code",
   "execution_count": 3,
   "metadata": {},
   "outputs": [
    {
     "name": "stdout",
     "output_type": "stream",
     "text": [
      "Output on stdout\n"
     ]
    },
    {
     "name": "stderr",
     "output_type": "stream",
     "text": [
      "Output on stderr\n"
     ]
    },
    {
     "data": {
      "text/plain": [
       "Expression value as expression result"
      ]
     },
     "execution_count": 3,
     "metadata": {},
     "output_type": "execute_result"
    }
   ],
   "source": [
    "System.out.println(\"Output on stdout\");\n",
    "System.err.println(\"Output on stderr\");\n",
    "\n",
    "String expressionOutput = \"expression result\";\n",
    "\"Expression value as \" + expressionOutput"
   ]
  },
  {
   "cell_type": "code",
   "execution_count": 8,
   "metadata": {},
   "outputs": [
    {
     "data": {
      "text/plain": [
       "6"
      ]
     },
     "execution_count": 8,
     "metadata": {},
     "output_type": "execute_result"
    }
   ],
   "source": [
    "(int) eval(\"1 + 2\") + 3"
   ]
  },
  {
   "cell_type": "markdown",
   "metadata": {},
   "source": [
    "### とりあえずの予定\n",
    "まずはjupyterの復習をする。  \n",
    "それからpythonの復習もした方がいいかもしれない。  \n",
    "それぞれ5分。  \n",
    "それからせっかくだからJavaを少し続けてみる。\n",
    "\n",
    "いま、ドットインストールでJava入門をみているのでそれをここに入れてみよう。  \n",
    "\n",
    "ひとつにはほかの言語と違って、ファイル作ってコンパイルして実行のサイクルや命名がめんどうなのですよね。javaって。"
   ]
  },
  {
   "cell_type": "markdown",
   "metadata": {},
   "source": [
    "普通のpythonみたいに変数に云々。  \n",
    "やってみよう。"
   ]
  },
  {
   "cell_type": "code",
   "execution_count": 3,
   "metadata": {},
   "outputs": [
    {
     "name": "stdout",
     "output_type": "stream",
     "text": [
      "3\n"
     ]
    }
   ],
   "source": [
    "int x = 3;\n",
    "System.out.println(x);"
   ]
  },
  {
   "cell_type": "code",
   "execution_count": 4,
   "metadata": {},
   "outputs": [
    {
     "data": {
      "text/plain": [
       "3"
      ]
     },
     "execution_count": 4,
     "metadata": {},
     "output_type": "execute_result"
    }
   ],
   "source": [
    "x"
   ]
  },
  {
   "cell_type": "code",
   "execution_count": 5,
   "metadata": {},
   "outputs": [
    {
     "data": {
      "text/plain": [
       "thsis is a penn."
      ]
     },
     "execution_count": 5,
     "metadata": {},
     "output_type": "execute_result"
    }
   ],
   "source": [
    "\"thsis is a penn.\""
   ]
  },
  {
   "cell_type": "markdown",
   "metadata": {},
   "source": [
    "#### とりあえずわかったこと\n",
    "意外に挙動が普通である。  "
   ]
  },
  {
   "cell_type": "code",
   "execution_count": 10,
   "metadata": {},
   "outputs": [
    {
     "data": {
      "text/plain": [
       "1.2"
      ]
     },
     "execution_count": 10,
     "metadata": {},
     "output_type": "execute_result"
    }
   ],
   "source": [
    "private static final double VERSION = 1.1;\n",
    "VERSION = 1.2;\n",
    "VERSION;"
   ]
  },
  {
   "cell_type": "markdown",
   "metadata": {},
   "source": [
    "これはエラーになる予定でしたがエラーになりません。\n",
    "\n",
    "いま、Javaの勉強はドットインストールをやっている。これをJupyter上で復習しよう。  \n",
    "それから  \n",
    "JavaでAizuに挑戦しよう。"
   ]
  }
 ],
 "metadata": {
  "kernelspec": {
   "display_name": "Java",
   "language": "java",
   "name": "java"
  },
  "language_info": {
   "codemirror_mode": "java",
   "file_extension": ".java",
   "mimetype": "text/x-java-source",
   "name": "Java",
   "pygments_lexer": "java",
   "version": "10.0.1+10-Ubuntu-3ubuntu1"
  }
 },
 "nbformat": 4,
 "nbformat_minor": 2
}
