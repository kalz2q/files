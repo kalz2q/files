{
 "cells": [
  {
   "cell_type": "markdown",
   "metadata": {},
   "source": [
    "# JupyterでC++をもっと学ぶ！！！\n",
    "ちょっとちがうかな。まあいいか。 learncpp.ipynbの続きでlearncpp02.ipynbというファイルです。\n",
    "\n",
    "JupyterのノートブックはJSONで書かれていて、開くときに解析されるので、ファイルが大きくなるとちょっと時間がかかる。  \n",
    "ファイル名をつけると自動で拡張子`.ipynb`がつく。  \n",
    "この意味は多分ipython notebookだね。  \n",
    "Jupyterはipython notebookの別名だということはそれはそれでいいのではないか、と思う。  \n",
    "別名になっていなければここでこうしてC++の勉強に使うということもやっっていなかったのではないか、と思ったりする。\n",
    "\n",
    "プログラミングはコードだけでなく周辺のいろいろが大事でそれを統一的にあつかえるのだからいい環境だと思います。  \n",
    "コメントに書く、という考え方もあるけど、そうではない。\n",
    "少なくともここなら数式を$\\rm\\LaTeX$で入れられたり、画像をいれたりすることができて、textだけではそうはいかない。\n",
    "\n",
    "あたらしく始めるに当たって、JupyterのC++環境の使い方をまとめておく。  \n",
    "たぶんすぐ陳腐化すると思うが、いい方に、変わっていくのであまり気にしない。\n",
    "\n",
    "1. セルに書いたC++のコードはCtrl-Enterで実行（評価）する。  \n",
    "2. C++の場合、セルごとに評価して行き、ときおり`Restart & Clear Output`する。\n",
    "3. 現在のC++(Clang上のClingが使われている)では、セルのなかに関数を複数持てなかったり、ほかにも不都合があるが、いくつかのセルにわけて同時に評価するとか、Classでくるむとか工夫すればなんとかなる。    \n",
    "\n",
    "具体的には、わたしの場合、`Restart & Clear Output`はキーボード・ショートカットで`g`にした。これはコマンドモードである必要があるので、`g`を押す前にEscを押す。かな漢字変換(fcitx mozc)からの脱出もEscにしているので、実際にはEscを2回押して確実にコマンドモードになってから`g`を押すことになる。Ubuntuのgnome-tweak-toolでCapsLockとEscをとりかえてあるので、CapsLock-CapsLock-gになる。\n",
    "\n",
    "これでいつでもまっさらな状態になるので快適です。\n",
    "\n",
    "### string\n",
    "C++で文字列を扱うのはポインターでもなく、配列でもなく、stringを使う、と聞いている。 \n",
    "よくわからない。#include <cstring>が配列で、#include <string>がstringで、stringでどんな関数があるのか。  \n",
    "まあいいか。ゆっくり学びましょう。  \n",
    "いずれにしても日本語、2バイト文字は別に考える必要がある。\n",
    "\n",
    "問題  \n",
    "次のプログラムはなにをしているのか。"
   ]
  },
  {
   "cell_type": "code",
   "execution_count": null,
   "metadata": {},
   "outputs": [],
   "source": [
    "#include <iostream>\n",
    "#include <string>\n",
    "#include <sstream>\n",
    "bool isvowel(char c) {\n",
    "    return(c=='a'||c=='e'||c=='i'||c=='o'||c=='u');\n",
    "}\n",
    "using namespace std;\n",
    "string s = \"Let's study C++ using Jupyter notebook!!!\";\n",
    "stringstream ss(s);\n",
    "string word;\n",
    "int k;\n",
    "while(ss >> word) {\n",
    "    k = word.find(\"t\");\n",
    "    if(k < word.length() && isvowel(word[k+1])) {\n",
    "        word.replace(k+1,0,\"eg\");\n",
    "    }\n",
    "    cout << word << ',';\n",
    "}"
   ]
  },
  {
   "cell_type": "markdown",
   "metadata": {},
   "source": [
    "`Let's,stegudy,C++,using,Jupyteger,notegebook!!!, `\n",
    "と出力します。  \n",
    "\n",
    "入力をwordに分解して、wordのなかに\"t\"があって、その次が母音だったら、その母音を\"eg\"に置換する。  \n",
    "結果をwordごとにカンマで区切って出力する。  \n",
    "ということをやっているみたいです。\n",
    "\n",
    "考えたこと\n",
    "1. stringstreamを使っておくと普通に標準入力を使った`cin`に書き直すのが楽。\n",
    "1. isvowelをstringのメソッドにできないか。word[k+1].isvowel()と書きたい。\n",
    "1. アウトプットの最後のカンマが余計である。\n",
    "1. 今回は関数が1つだが2つあるとセルが評価できない。ここでは関数は定義できません、というエラーになる。\n",
    "1. 関数定義のなかでstdが必要なときは、関数の中でusing namespace stad;と書く。関数の前に書くと、ここでは関数は定義できません、というエラーになる。\n",
    "1. find()関数のようなどんな関数があるのか。\n",
    "1. 2バイト文字対応もstringのままできそうな気がする。\n",
    "1. 配列に入れて、stringに戻したりできるのか。その方法で2バイト文字対応もできそうな気がする。\n",
    "1. いずれにせよすでに標準化された方法がありそうなので探す。\n",
    "1. at coderとかは入力、出力という形なのだけれど、その中に文字列系統があるか。数学問題ばかりか。\n",
    "1. 今回はstringでやったがテキストファイルから入力してやる形にするには`nclude <ifstream>`を使う。\n",
    "1. 入力がwordに分解されるのはスペースが役割を持っているということ。"
   ]
  },
  {
   "cell_type": "markdown",
   "metadata": {},
   "source": [
    "### ファイルの入出力\n",
    "\n",
    "問題  \n",
    "\"\\\\ temp.txt\\n\\nこれは添付テキストです。\"という内容のinput.txtを\\mycpp\\内に作る。\n"
   ]
  },
  {
   "cell_type": "code",
   "execution_count": null,
   "metadata": {},
   "outputs": [],
   "source": [
    "#include <fstream>\n",
    "#include <string>\n",
    "using namespace std;\n",
    "string s = \"\\\\ input.txt\\n\\nこれはテンプテキストです。\";\n",
    "ofstream ofs(\"./mycpp/input.txt\");\n",
    "ofs << s << \"\\n\\n\\n\\nはてな。\" << endl;"
   ]
  },
  {
   "cell_type": "markdown",
   "metadata": {},
   "source": [
    "考えたこと\n",
    "1. 最後の << endl;がないとファイルは作られるが空っぽだった。endl;はただの改行ではなかったのか！！\n",
    "1. すでにファイルがあってもあたらしく作られてしまう。エラーにはならない。\n",
    "5. 読み込んで、appendして書きだせばいいのではないか。\n",
    "1. ま、とりあえず便利そう。\n",
    "\n",
    "考えるのはよいことだが、わからないことをくどくど考えても先へ進もう。\n",
    "\n",
    "問題  \n",
    "つぎのプログラムは何をしているのか。"
   ]
  },
  {
   "cell_type": "code",
   "execution_count": null,
   "metadata": {},
   "outputs": [],
   "source": [
    "#include <fstream>\n",
    "#include <iostream>\n",
    "#include <string>\n",
    "using namespace std;\n",
    "\n",
    "ifstream infile(\"./mycpp/input.txt\");\n",
    "ofstream outfile(\"./mycpp/output.txt\");\n",
    "\n",
    "string word;\n",
    "char c;\n",
    "\n",
    "while(infile >> word){\n",
    "    if (word[0] >= 'a' && word[0] <= 'z') {\n",
    "        word[0] += 'A' - 'a';\n",
    "    } \n",
    "    outfile << word;\n",
    "    infile.get(c);\n",
    "    outfile.put(c);\n",
    "}\n",
    "outfile << endl;"
   ]
  },
  {
   "cell_type": "markdown",
   "metadata": {},
   "source": [
    "えっと、infileからwordを取ってきて、outfileへ書き込む、という流れだけどなんか変。  \n",
    "そうすると、改行コードとか消えてしまうので、救おうとしてget(c)とかしているけど、while infile >> wordだから\\nがいくつあっても一つしか救われない。  \n",
    "そもそも日本語はどうword区切りしているかというとたぶんスペース区切りだから区切れていない。チェックするか。"
   ]
  },
  {
   "cell_type": "code",
   "execution_count": null,
   "metadata": {},
   "outputs": [],
   "source": [
    "#include <fstream>\n",
    "#include <iostream>\n",
    "#include <string>\n",
    "using namespace std;\n",
    "\n",
    "ifstream infile(\"./mycpp/input.txt\");\n",
    "\n",
    "string word;\n",
    "\n",
    "while(infile >> word){\n",
    "    cout << word << \",\" ;\n",
    "}\n",
    "cout << endl;"
   ]
  },
  {
   "cell_type": "markdown",
   "metadata": {},
   "source": [
    "ちぇっくするまでもなかったですね。思った通り、日本語は句読点があろうがなかろうが、おっとそう言ういみでは英語もピリオドは関係ないのですね。あくまでスペース区切りか。あと多分\\tとか\\nとかも区切りになっている。\n",
    "\n"
   ]
  },
  {
   "cell_type": "code",
   "execution_count": null,
   "metadata": {},
   "outputs": [],
   "source": [
    "#include <bits/stdc++.h>\n",
    "using namespace std;\n",
    "string s = \"this is a pen.\";\n",
    "int n = 3333;\n",
    "stringstream ss(s);\n",
    "ss << n;\n",
    "ss >> s;\n",
    "cout << ss.str() << endl;\n",
    "cout << s << endl;\n",
    "ss >> s;\n",
    "cout << s << endl;\n",
    "s = ss.str();\n",
    "cout << s << endl;"
   ]
  },
  {
   "cell_type": "markdown",
   "metadata": {},
   "source": [
    "`#include <bits/stdc++.h>`は全部まとめてインクルードしてくれます。\n",
    "\n",
    "上記のプログラムの結果は\n",
    "```\n",
    "3333 is a pen.\n",
    "3333\n",
    "is\n",
    "3333 is a pen.\n",
    "```\n",
    "でした。"
   ]
  },
  {
   "cell_type": "markdown",
   "metadata": {},
   "source": [
    "`utf8.h`というライブラリーを入れてみました。    \n",
    "使い方がわからない。  \n",
    "下記のプログラムは\n",
    "`Length of line C++は is 4`となって、無事文字数が数えられました。"
   ]
  },
  {
   "cell_type": "code",
   "execution_count": null,
   "metadata": {},
   "outputs": [],
   "source": [
    "#include <bits/stdc++.h>\n",
    "#include \"utf8.h\"\n",
    "using namespace std;\n",
    "string line = \"C++は\";\n",
    "\n",
    "int length = utf8::distance(line.begin(), line.end());\n",
    "cout << \"Length of line \" << line << \" is \" << length <<  \"\\n\";"
   ]
  },
  {
   "cell_type": "markdown",
   "metadata": {},
   "source": [
    "utf8_string.hppというのがあったので入れてみました。  \n",
    "簡単そうだけどエラーになってしまいます。残念。"
   ]
  },
  {
   "cell_type": "code",
   "execution_count": null,
   "metadata": {},
   "outputs": [],
   "source": [
    "/*\n",
    "#include <bits/stdc++.h>\n",
    "#include \"utf8_string.hpp\"\n",
    "using namespace std;\n",
    "\n",
    "UTF8string s(\"C++は\");\n",
    "s.utf8_length();\n",
    "*/"
   ]
  },
  {
   "cell_type": "code",
   "execution_count": null,
   "metadata": {},
   "outputs": [],
   "source": [
    "#include <bits/stdc++.h>\n",
    "using namespace std;\n",
    "\n",
    "string s=\"ABCDEFG\";\n",
    "int n=33;\n",
    "double x=2.718;\n",
    "stringstream ss;\n",
    "cout << ss.str() << endl;\n",
    "ss << \" s = \" <<  s;\n",
    "cout << ss.str() << endl;\n",
    "ss << \" n = \" << n;\n",
    "cout << ss.str() << endl;\n",
    "ss << \" x = \" << x;\n",
    "cout << ss.str() << endl;"
   ]
  },
  {
   "cell_type": "markdown",
   "metadata": {},
   "source": [
    "```\n",
    "s = ABCDEFG\n",
    "s = ABCDEFG n = 33\n",
    "s = ABCDEFG n = 33 x = 2.718\n",
    "```\n",
    "と出力されます。"
   ]
  },
  {
   "cell_type": "markdown",
   "metadata": {},
   "source": [
    "### ベクター\n",
    "find()関数はベクターの成分を探すのに用いられる。"
   ]
  },
  {
   "cell_type": "code",
   "execution_count": null,
   "metadata": {},
   "outputs": [],
   "source": [
    "/*\n",
    "#include <bits/stdc++.h>\n",
    "typedef vector<string> Strings;\n",
    "typedef Strings::iterator Sit;\n",
    "\n",
    "void load(Strings& v)\n",
    "{\n",
    "    v.push back(\"Japan\");\n",
    "    v.push back(\"America\");\n",
    "    v.push back(\"Austria\");\n",
    "    v.push back(\"Germany\");\n",
    "    v.push back(\"England\");\n",
    "    v.push back(\"Italy\");\n",
    "    v.push back(\"Spain\");\n",
    "    v.push back(\"Korea\");\n",
    "}\n",
    "\n",
    "using namespace std;\n",
    "Strings v;\n",
    "load(v);\n",
    "for(Sit it=v.begin(); it != v.end(); it++){\n",
    "    cout << *it << endl;\n",
    "}\n",
    "cout << endl;\n",
    "Sit japan=find(v.begin(),v.end(),\"Japan\");\n",
    "Sit spain=find(v.begin(),v.end(),\"Spain\");\n",
    "sort(japan,spain);\n",
    "for(Sit it=v.begin(); it != v.end(); it++){\n",
    "    cout << *it << endl;\n",
    "}\n",
    "cout << endl;\n",
    "*/\n"
   ]
  },
  {
   "cell_type": "markdown",
   "metadata": {},
   "source": [
    "\"C++ Primer, Fifth Edition\"に戻ります。  "
   ]
  },
  {
   "cell_type": "code",
   "execution_count": null,
   "metadata": {
    "scrolled": true
   },
   "outputs": [],
   "source": [
    "#include <bits/stdc++.h>\n",
    "#include \"./mycpp/Sales_data.h\"\n",
    "using namespace std;\n",
    "\n",
    "Sales_data data1, data2;\n",
    "string s = \n",
    "\" 0-201-78345-X 3 20.00 0-201-78345-X 2 25.00\";\n",
    "double price;\n",
    "stringstream ss(s);\n",
    "\n",
    "ss >> data1.bookNo >> data1.units_sold >> price;\n",
    "data1.revenue = data1.units_sold * price;\n",
    "\n",
    "ss >> data2.bookNo >> data2.units_sold >> price;\n",
    "data2.revenue = data2.units_sold * price;\n",
    "\n",
    "if (data1.bookNo == data2.bookNo) {\n",
    "    unsigned totalCnt = data1.units_sold + data2.units_sold;\n",
    "    double totalRevenue = data1.revenue + data2.revenue;\n",
    "    // print: ISBN, total sold, total revenue, average price per book\n",
    "    std::cout << data1.bookNo << \" \" << totalCnt\n",
    "        << \" \" << totalRevenue << \" \";\n",
    "    if (totalCnt != 0)\n",
    "        std::cout << totalRevenue/totalCnt << std::endl;\n",
    "    else\n",
    "        std::cout << \"(no sales)\" << std::endl;\n",
    "    return 0; // indicate success\n",
    "} else {  // transactions weren't for the same ISBN\n",
    "    std::cerr << \"Data must refer to the same ISBN\"\n",
    "        << std::endl;\n",
    "    return -1; // indicate failure\n",
    "}\n"
   ]
  },
  {
   "cell_type": "markdown",
   "metadata": {},
   "source": [
    "```\n",
    "0-201-78345-X 5 110 22\n",
    "(int) 0\n",
    "```\n",
    "と出力されています。\n",
    "\n",
    "考えたこと。\n",
    "1. string s = \" ... \"でデータを用意するのは見えてよいのだが、改行したり、見やすくできるかどうか。\n",
    "1. Sales_data.hの内容を書いておく必要がある。\n",
    "1. 合計は関数化したい。total = data1 + data2; total.cout();とか。\n",
    "\n",
    "Sales_data.h\n",
    "```\n",
    "#ifndef SALES_DATA_H\n",
    "#define SALES_DATA_H\n",
    "\n",
    "#include <string>\n",
    "\n",
    "struct Sales_data {\n",
    "\tstd::string bookNo;\n",
    "\tunsigned units_sold = 0;\n",
    "\tdouble revenue = 0.0;\n",
    "};\n",
    "#endif\n",
    "```\n",
    "考えたこと。\n",
    "1. SALES_DATA_Hとは何か。マクロか。定数か。 -> ヘッダーのダブリを防止するためにpreprocessorに出す指令#ifndef #define #endifで使う。\n",
    "1. structとは何か。classと何が違うのか。\n",
    "1. こんなヘッダーは必要なのか。なぜプログラムの中に書かないのか。\n"
   ]
  },
  {
   "cell_type": "code",
   "execution_count": null,
   "metadata": {},
   "outputs": [],
   "source": []
  },
  {
   "cell_type": "code",
   "execution_count": null,
   "metadata": {},
   "outputs": [],
   "source": []
  },
  {
   "cell_type": "code",
   "execution_count": null,
   "metadata": {},
   "outputs": [],
   "source": []
  },
  {
   "cell_type": "code",
   "execution_count": null,
   "metadata": {},
   "outputs": [],
   "source": []
  }
 ],
 "metadata": {
  "kernelspec": {
   "display_name": "C++17",
   "language": "C++",
   "name": "cling-cpp17"
  },
  "language_info": {
   "codemirror_mode": "c++",
   "file_extension": ".c++",
   "mimetype": "text/x-c++src",
   "name": "c++"
  }
 },
 "nbformat": 4,
 "nbformat_minor": 2
}
