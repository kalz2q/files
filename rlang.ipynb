{
 "cells": [
  {
   "cell_type": "markdown",
   "metadata": {},
   "source": [
    "## 最初に、ということになるのかな\n",
    "JupyterでR言語を勉強する。なのですが、Jupyter notebookで書かれたR tutorialとかない。\n",
    "\n",
    "自分で勉強するしかないのか。まあいいか。\n",
    "\n",
    "### まずは四則演算から\n",
    "実行してみて下さい。実験して見てください。"
   ]
  },
  {
   "cell_type": "code",
   "execution_count": 1,
   "metadata": {},
   "outputs": [
    {
     "data": {
      "text/html": [
       "4"
      ],
      "text/latex": [
       "4"
      ],
      "text/markdown": [
       "4"
      ],
      "text/plain": [
       "[1] 4"
      ]
     },
     "metadata": {},
     "output_type": "display_data"
    }
   ],
   "source": [
    "1+3"
   ]
  },
  {
   "cell_type": "code",
   "execution_count": 2,
   "metadata": {
    "scrolled": true
   },
   "outputs": [
    {
     "data": {
      "text/html": [
       "1424"
      ],
      "text/latex": [
       "1424"
      ],
      "text/markdown": [
       "1424"
      ],
      "text/plain": [
       "[1] 1424"
      ]
     },
     "metadata": {},
     "output_type": "display_data"
    }
   ],
   "source": [
    "10+4*(3/4+100)+1011"
   ]
  },
  {
   "cell_type": "code",
   "execution_count": 7,
   "metadata": {},
   "outputs": [
    {
     "data": {
      "text/html": [
       "9"
      ],
      "text/latex": [
       "9"
      ],
      "text/markdown": [
       "9"
      ],
      "text/plain": [
       "[1] 9"
      ]
     },
     "metadata": {},
     "output_type": "display_data"
    },
    {
     "data": {
      "text/html": [
       "243"
      ],
      "text/latex": [
       "243"
      ],
      "text/markdown": [
       "243"
      ],
      "text/plain": [
       "[1] 243"
      ]
     },
     "metadata": {},
     "output_type": "display_data"
    }
   ],
   "source": [
    "3^2\n",
    "3**5"
   ]
  },
  {
   "cell_type": "code",
   "execution_count": 14,
   "metadata": {
    "scrolled": true
   },
   "outputs": [
    {
     "data": {
      "text/html": [
       "1.42857142857143"
      ],
      "text/latex": [
       "1.42857142857143"
      ],
      "text/markdown": [
       "1.42857142857143"
      ],
      "text/plain": [
       "[1] 1.428571"
      ]
     },
     "metadata": {},
     "output_type": "display_data"
    }
   ],
   "source": [
    "10 / 7"
   ]
  },
  {
   "cell_type": "markdown",
   "metadata": {},
   "source": [
    "割り算が%とかdivとかmodとかは実験したところエラーなので云々。"
   ]
  },
  {
   "cell_type": "markdown",
   "metadata": {},
   "source": [
    "### 環境\n",
    "いまの環境はubuntu 16.04。anacondaでpythonやjupyterを入れた。"
   ]
  },
  {
   "cell_type": "markdown",
   "metadata": {},
   "source": [
    "```\n",
    "conda install -c r r-essentials\n",
    "conda install rstudio\n",
    "conda install anaconda-navigater\n",
    "```"
   ]
  },
  {
   "cell_type": "markdown",
   "metadata": {},
   "source": [
    "とかした。\n",
    "\n",
    "anaconda-navigatorはとりあえずエラーで動かない。rstudioは画面が小さくてなんとかしなくては。\n",
    "\n",
    "とりあえず、jupyterのNewメニューでRが選べる状態。\n",
    "これはこれで大成果だと思う。これがなければRの勉強なんかしていない。\n",
    "\n",
    "マークダウンの中で上のcondaの例のように`<pre><code></code></pre>`で書きたい時はどうするのか。\n",
    "ひょっとするとただそう書けばいいかも。やってみよう。\n",
    "<pre><code>\n",
    "conda install r-essentials\n",
    "conda install rstudio\n",
    "conda install anaconda-navigater\n",
    "</code></pre>\n",
    "うむ。なんかとても冗長になるが、まあいいか。できた。文中の`<code>`はバッククォートで囲めばよかった。ということは云々。\n",
    "```\n",
    "    conda install r-essentials\n",
    "    conda install rstudio\n",
    "    conda install anaconda-navigater\n",
    "```\n",
    "これはどうだ。バッククォート3個で囲んでみた。"
   ]
  },
  {
   "cell_type": "markdown",
   "metadata": {},
   "source": [
    "いまやりながらインデントの実験していたら、キーボード・ショートカットの`Ctrl-]インデント、Ctrl-[インデント`が__英語キーボード__で**日本語キーボード**に対応していない！！ ま、いいか。Jupyterのキーボード・ショートカットは理不尽なのでどうせなんとかしなければいけない。編集して云々。"
   ]
  },
  {
   "cell_type": "markdown",
   "metadata": {},
   "source": [
    "```conda install -c r rpy2```でR magicを入れた。\n",
    "\n",
    "R magicの例が下記なのだがうまく動いていませんね。"
   ]
  },
  {
   "cell_type": "code",
   "execution_count": 2,
   "metadata": {},
   "outputs": [
    {
     "ename": "ERROR",
     "evalue": "Error in parse(text = x, srcfile = src): <text>:2:8:  想定外のシンボルです \n1: # Hide warnings if there are any\n2: import warnings\n          ^\n",
     "output_type": "error",
     "traceback": [
      "Error in parse(text = x, srcfile = src): <text>:2:8:  想定外のシンボルです \n1: # Hide warnings if there are any\n2: import warnings\n          ^\nTraceback:\n"
     ]
    }
   ],
   "source": [
    "# Hide warnings if there are any\n",
    "import warnings\n",
    "warnings.filterwarnings('ignore')\n",
    "# Load in the r magic\n",
    "%load_ext rpy2.ipython\n",
    "# We need ggplot2\n",
    "%R require(ggplot2)\n",
    "# Load in the pandas library\n",
    "import pandas as pd \n",
    "# Make a pandas DataFrame\n",
    "df = pd.DataFrame({'Alphabet': ['a', 'b', 'c', 'd','e', 'f', 'g', 'h','i'],\n",
    "                   'A': [4, 3, 5, 2, 1, 7, 7, 5, 9],\n",
    "                   'B': [0, 4, 3, 6, 7, 10,11, 9, 13],\n",
    "                   'C': [1, 2, 3, 1, 2, 3, 1, 2, 3]})\n",
    "# Take the name of input variable df and assign it to an R variable of the same name\n",
    "%%R -i df\n",
    "# Plot the DataFrame df\n",
    "ggplot(data=df) + geom_point(aes(x=A, y=B, color=C))"
   ]
  },
  {
   "cell_type": "markdown",
   "metadata": {},
   "source": [
    "RのテキストにRを起動するのはR、終了はq()と書いてありました。\n",
    "\n",
    "jupyterではどちらも関係ないですね。"
   ]
  },
  {
   "cell_type": "code",
   "execution_count": 3,
   "metadata": {},
   "outputs": [],
   "source": [
    "q()"
   ]
  },
  {
   "cell_type": "markdown",
   "metadata": {},
   "source": [
    "評価してもなにも起きません。"
   ]
  },
  {
   "cell_type": "code",
   "execution_count": null,
   "metadata": {},
   "outputs": [],
   "source": [
    "help.start()"
   ]
  },
  {
   "cell_type": "markdown",
   "metadata": {},
   "source": [
    "これはFirefoxが起動しました。なにか入力すると解説がでるみたい。使い方がわからん。"
   ]
  },
  {
   "cell_type": "code",
   "execution_count": 6,
   "metadata": {},
   "outputs": [],
   "source": [
    "x <- rnorm(50)\n",
    "y <- rnorm(50)"
   ]
  },
  {
   "cell_type": "markdown",
   "metadata": {},
   "source": [
    "$x, y$座標を表す2組の正規乱数を生成する。"
   ]
  },
  {
   "cell_type": "code",
   "execution_count": 12,
   "metadata": {},
   "outputs": [
    {
     "data": {
      "image/png": "[encoded data removed]",
      "text/plain": [
       "plot without title"
      ]
     },
     "metadata": {},
     "output_type": "display_data"
    }
   ],
   "source": [
    "plot(x,y)"
   ]
  },
  {
   "cell_type": "markdown",
   "metadata": {},
   "source": [
    "グラフが書けてやっとjupyterらしくなってきた。"
   ]
  },
  {
   "cell_type": "code",
   "execution_count": 13,
   "metadata": {},
   "outputs": [
    {
     "data": {
      "text/html": [
       "<ol class=list-inline>\n",
       "\t<li>'x'</li>\n",
       "\t<li>'y'</li>\n",
       "</ol>\n"
      ],
      "text/latex": [
       "\\begin{enumerate*}\n",
       "\\item 'x'\n",
       "\\item 'y'\n",
       "\\end{enumerate*}\n"
      ],
      "text/markdown": [
       "1. 'x'\n",
       "2. 'y'\n",
       "\n",
       "\n"
      ],
      "text/plain": [
       "[1] \"x\" \"y\""
      ]
     },
     "metadata": {},
     "output_type": "display_data"
    }
   ],
   "source": [
    "ls()"
   ]
  },
  {
   "cell_type": "markdown",
   "metadata": {},
   "source": [
    "R の作業スペースにどういうオブジェクトがあるか見ることができます。"
   ]
  },
  {
   "cell_type": "code",
   "execution_count": null,
   "metadata": {},
   "outputs": [],
   "source": [
    "rm(x, y)"
   ]
  },
  {
   "cell_type": "markdown",
   "metadata": {},
   "source": [
    "不要なオブジェクトを取り去る。"
   ]
  }
 ],
 "metadata": {
  "kernelspec": {
   "display_name": "R",
   "language": "R",
   "name": "ir"
  },
  "language_info": {
   "codemirror_mode": "r",
   "file_extension": ".r",
   "mimetype": "text/x-r-source",
   "name": "R",
   "pygments_lexer": "r",
   "version": "3.4.3"
  }
 },
 "nbformat": 4,
 "nbformat_minor": 2
}
