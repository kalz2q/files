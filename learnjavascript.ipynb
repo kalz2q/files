{
 "cells": [
  {
   "cell_type": "markdown",
   "metadata": {},
   "source": [
    "### ヘーイ。JavaScriptがJupyterに入ったぜ\n",
    "なんと、sudo apt install ijavascriptで入った。  \n",
    "しかし！ どれが入ったのだろう。  \n",
    "まいいか。  \n",
    "さて実験するための下敷きのテキストを探さなくては。  \n",
    "\n",
    "Learning JavaScript Ethan Brown\n",
    "\n",
    "というのを開いた。"
   ]
  }
 ],
 "metadata": {
  "kernelspec": {
   "display_name": "Javascript (Node.js)",
   "language": "javascript",
   "name": "ijavascript"
  },
  "language_info": {
   "file_extension": ".js",
   "mimetype": "application/javascript",
   "name": "javascript",
   "version": "4.2.6"
  }
 },
 "nbformat": 4,
 "nbformat_minor": 2
}
