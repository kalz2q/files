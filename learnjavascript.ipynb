{
 "cells": [
  {
   "cell_type": "markdown",
   "metadata": {},
   "source": [
    "# ヘーイ。JavaScriptがJupyterに入ったぜ\n",
    "なんと、sudo apt install ijavascriptで入った。  \n",
    "しかし！ どれが入ったのだろう。  \n",
    "まいいか。  \n",
    "さて実験するための下敷きのテキストを探さなくては。  \n",
    "\n",
    "Learning JavaScript Ethan Brown\n",
    "\n",
    "というのを開いた。\n",
    "\n",
    "\n",
    "いや、これは大きすぎる。大きな本なので、もっと簡単なのからやろう。\n",
    "\n",
    "というのもまずはJupyter上でJavaScriptって、イメージがつかめないし、Jupyter notebook自体の使い方もよくわからない。  \n",
    "実験しながら進めよう。\n",
    "\n",
    "まずはハローワールドから。"
   ]
  },
  {
   "cell_type": "code",
   "execution_count": 1,
   "metadata": {},
   "outputs": [
    {
     "name": "stdout",
     "output_type": "stream",
     "text": [
      "hello\n"
     ]
    }
   ],
   "source": [
    "console.log(\"hello\")"
   ]
  },
  {
   "cell_type": "markdown",
   "metadata": {},
   "source": [
    "`hello`とJupyter notebook上に出力されて、`Out[2]`に`undefined`と出ました。\n",
    "\n",
    "きっと意味があるのだろうが、とりあえずうまく動いたのでおめでとう。\n",
    "\n",
    "\n",
    "```\n",
    "<script>\n",
    "    console.log(\"hello, again\");\n",
    "</script>\n",
    "```\n",
    "としたらエラーになりました。\n",
    "\n",
    "そそ、Jupyter notebookの右上のKernelが表示されている欄にJavascript(Node.js)と書いてあるので、ここはNode.jsがベースになっているらしい。\n",
    "\n",
    "ひょっとしたら補完`autocompletion`も効くかもしれない、と思い、コードのセルで`enc<Tab>`としたら、`encodeURI`と`encodeURIComponent`の両方が候補として示されました。  \n",
    "これは便利。\n",
    "\n"
   ]
  },
  {
   "cell_type": "code",
   "execution_count": 2,
   "metadata": {},
   "outputs": [
    {
     "name": "stdout",
     "output_type": "stream",
     "text": [
      "Hello, World!\n"
     ]
    }
   ],
   "source": [
    "var msg = \"Hello, World!\"\n",
    "console.log(msg)"
   ]
  },
  {
   "cell_type": "markdown",
   "metadata": {},
   "source": [
    "Node.js = Runtime Environment + JavaScript Library\n",
    "\n",
    "プログラムをmain.jsとして保存し、\n",
    "\n",
    "node main.js\n",
    "\n",
    "とすると\n",
    "\n",
    "Hello, World!\n",
    "\n",
    "となるとのこと。\n",
    "\n",
    "まずは加減乗除から。  \n",
    "いろいろ実験ができます。"
   ]
  },
  {
   "cell_type": "code",
   "execution_count": 3,
   "metadata": {},
   "outputs": [
    {
     "data": {
      "text/plain": [
       "4"
      ]
     },
     "execution_count": 3,
     "metadata": {},
     "output_type": "execute_result"
    }
   ],
   "source": [
    "1 + 3"
   ]
  },
  {
   "cell_type": "code",
   "execution_count": 4,
   "metadata": {},
   "outputs": [
    {
     "name": "stdout",
     "output_type": "stream",
     "text": [
      "50\n"
     ]
    }
   ],
   "source": [
    "1 + (2 * 3)\n",
    "x = 20\n",
    "y = 30\n",
    "console.log(x + y)"
   ]
  },
  {
   "cell_type": "code",
   "execution_count": 5,
   "metadata": {},
   "outputs": [
    {
     "name": "stdout",
     "output_type": "stream",
     "text": [
      "x: 1\n",
      "x: 2\n",
      "x: 3\n",
      "x: 4\n",
      "x: 5\n"
     ]
    }
   ],
   "source": [
    "var x = 0\n",
    "do {\n",
    "    x++;\n",
    "    console.log(\"x: \" + x);\n",
    "} while (x < 5);"
   ]
  },
  {
   "cell_type": "code",
   "execution_count": 1,
   "metadata": {},
   "outputs": [
    {
     "data": {
      "text/plain": [
       "30"
      ]
     },
     "execution_count": 1,
     "metadata": {},
     "output_type": "execute_result"
    }
   ],
   "source": [
    "x = 10\n",
    "y = 20\n",
    "x + y"
   ]
  },
  {
   "cell_type": "code",
   "execution_count": 4,
   "metadata": {},
   "outputs": [
    {
     "name": "stdout",
     "output_type": "stream",
     "text": [
      "3時58分15秒\n"
     ]
    },
    {
     "data": {
      "text/plain": [
       "undefined"
      ]
     },
     "execution_count": 4,
     "metadata": {},
     "output_type": "execute_result"
    }
   ],
   "source": [
    "d = new Date();\n",
    "h = d.getHours();\n",
    "m = d.getMinutes();\n",
    "s = d.getSeconds();\n",
    "console.log(h + \"時\" + m + \"分\" + s + \"秒\");"
   ]
  },
  {
   "cell_type": "code",
   "execution_count": 14,
   "metadata": {},
   "outputs": [
    {
     "name": "stdout",
     "output_type": "stream",
     "text": [
      "2018\n",
      "1\n",
      "23\n"
     ]
    },
    {
     "data": {
      "text/plain": [
       "undefined"
      ]
     },
     "execution_count": 14,
     "metadata": {},
     "output_type": "execute_result"
    }
   ],
   "source": [
    "console.log(d.getFullYear()) // -> 2018\n",
    "console.log(d.getDay()) // -> 月曜日は1\n",
    "console.log(d.getDate())"
   ]
  },
  {
   "cell_type": "code",
   "execution_count": 15,
   "metadata": {},
   "outputs": [
    {
     "data": {
      "text/plain": [
       "1"
      ]
     },
     "execution_count": 15,
     "metadata": {},
     "output_type": "execute_result"
    }
   ],
   "source": [
    "10 % 3"
   ]
  },
  {
   "cell_type": "code",
   "execution_count": 18,
   "metadata": {},
   "outputs": [
    {
     "data": {
      "text/plain": [
       "3"
      ]
     },
     "execution_count": 18,
     "metadata": {},
     "output_type": "execute_result"
    }
   ],
   "source": [
    "Math.floor(10 / 3)"
   ]
  },
  {
   "cell_type": "code",
   "execution_count": 19,
   "metadata": {},
   "outputs": [
    {
     "data": {
      "text/plain": [
       "3"
      ]
     },
     "execution_count": 19,
     "metadata": {},
     "output_type": "execute_result"
    }
   ],
   "source": [
    "(10 - 10%3 ) / 3"
   ]
  },
  {
   "cell_type": "code",
   "execution_count": 17,
   "metadata": {},
   "outputs": [
    {
     "data": {
      "text/plain": [
       "3.3333333333333335"
      ]
     },
     "execution_count": 17,
     "metadata": {},
     "output_type": "execute_result"
    }
   ],
   "source": [
    "10 / 3"
   ]
  },
  {
   "cell_type": "markdown",
   "metadata": {},
   "source": [
    "無名関数、即時関数を使えるか。  \n",
    "感じとしては、\n",
    "```\n",
    "function(x, y) {\n",
    "   (x - x % y) / y\n",
    "} (10, 3)\n",
    "```\n",
    "みたいな感じ。"
   ]
  },
  {
   "cell_type": "code",
   "execution_count": 25,
   "metadata": {},
   "outputs": [
    {
     "name": "stdout",
     "output_type": "stream",
     "text": [
      "3\n"
     ]
    },
    {
     "data": {
      "text/plain": [
       "undefined"
      ]
     },
     "execution_count": 25,
     "metadata": {},
     "output_type": "execute_result"
    }
   ],
   "source": [
    "(function(x, y) {\n",
    "   console.log((x - x % y) / y)\n",
    "}) (10, 3)"
   ]
  },
  {
   "cell_type": "code",
   "execution_count": 22,
   "metadata": {},
   "outputs": [
    {
     "data": {
      "text/plain": [
       "'あいう えお'"
      ]
     },
     "execution_count": 22,
     "metadata": {},
     "output_type": "execute_result"
    }
   ],
   "source": [
    "\"あいう \" + \"えお\""
   ]
  },
  {
   "cell_type": "code",
   "execution_count": 6,
   "metadata": {},
   "outputs": [
    {
     "data": {
      "text/plain": [
       "true"
      ]
     },
     "execution_count": 6,
     "metadata": {},
     "output_type": "execute_result"
    }
   ],
   "source": [
    "1 === 1.0 ; // true"
   ]
  },
  {
   "cell_type": "code",
   "execution_count": 11,
   "metadata": {},
   "outputs": [
    {
     "name": "stdout",
     "output_type": "stream",
     "text": [
      "田中\n",
      "3\n"
     ]
    }
   ],
   "source": [
    "var student = [\"田中\", \"佐藤\", \"鈴木\"]\n",
    "console.log(student[0]);\n",
    "var seiseki = {\"田中\":3, \"佐藤\":5, \"鈴木\":8}\n",
    "console.log(seiseki[\"田中\"]);"
   ]
  },
  {
   "cell_type": "code",
   "execution_count": 25,
   "metadata": {},
   "outputs": [
    {
     "name": "stdout",
     "output_type": "stream",
     "text": [
      "[ { age: 21, name: '三郎' },\n",
      "  { age: 22, name: '次郎' },\n",
      "  { age: 24, name: '花子' },\n",
      "  { age: 25, name: '太郎' } ]\n"
     ]
    }
   ],
   "source": [
    "// オブジェクトについてもソート可能\n",
    "var persons = [\n",
    "  { age: 22, name: \"次郎\" },\n",
    "  { age: 25, name: \"太郎\" },\n",
    "  { age: 21, name: \"三郎\" },\n",
    "  { age: 24, name: \"花子\" },\n",
    "];\n",
    "function compareAge(a, b){\n",
    "    return a.age - b.age;\n",
    "}\n",
    "var sortedArray = persons.sort(compareAge);\n",
    "console.log(sortedArray);\n",
    "\n",
    "// [ { age: 21, name: '三郎' },\n",
    "//   { age: 22, name: '次郎' },\n",
    "//   { age: 24, name: '花子' },\n",
    "//   { age: 25, name: '太郎' } ]"
   ]
  },
  {
   "cell_type": "code",
   "execution_count": 26,
   "metadata": {},
   "outputs": [
    {
     "name": "stdout",
     "output_type": "stream",
     "text": [
      "それ以外です\n"
     ]
    },
    {
     "data": {
      "text/plain": [
       "undefined"
      ]
     },
     "execution_count": 26,
     "metadata": {},
     "output_type": "execute_result"
    }
   ],
   "source": [
    "var a = 8\n",
    "switch (a) {\n",
    "    case 1: console.log(\"1です\");break;\n",
    "    case 2: console.log(\"2です\");break;\n",
    "    case 3:\n",
    "            console.log(\"3です\");\n",
    "            console.log(\"素数です\");\n",
    "            break;\n",
    "    default:\n",
    "            console.log(\"それ以外です\");\n",
    "            break;\n",
    "}\n"
   ]
  },
  {
   "cell_type": "code",
   "execution_count": 28,
   "metadata": {
    "scrolled": true
   },
   "outputs": [
    {
     "name": "stdout",
     "output_type": "stream",
     "text": [
      "iの値は0\n",
      "iの値は1\n",
      "iの値は2\n",
      "iの値は3\n",
      "iの値は4\n",
      "iの値は5\n",
      "iの値は6\n",
      "iの値は7\n",
      "iの値は8\n",
      "iの値は9\n"
     ]
    }
   ],
   "source": [
    "for (i=0; i < 10; i++){\n",
    "    console.log(\"iの値は\"+ i)\n",
    "}"
   ]
  },
  {
   "cell_type": "code",
   "execution_count": 27,
   "metadata": {},
   "outputs": [
    {
     "name": "stdout",
     "output_type": "stream",
     "text": [
      "iのあたいは0\n",
      "iのあたいは1\n",
      "iのあたいは2\n",
      "iのあたいは3\n",
      "iのあたいは4\n",
      "iのあたいは5\n",
      "iのあたいは6\n",
      "iのあたいは7\n",
      "iのあたいは8\n",
      "iのあたいは9\n"
     ]
    },
    {
     "data": {
      "text/plain": [
       "9"
      ]
     },
     "execution_count": 27,
     "metadata": {},
     "output_type": "execute_result"
    }
   ],
   "source": [
    "i = 0\n",
    "while (i < 10){\n",
    "    console.log(\"iのあたいは\"+i)\n",
    "    i++\n",
    "}"
   ]
  },
  {
   "cell_type": "code",
   "execution_count": 29,
   "metadata": {},
   "outputs": [
    {
     "name": "stdout",
     "output_type": "stream",
     "text": [
      "1番目の素数は3で、3を含みます\n",
      "5番目の素数は13で、3を含みます\n",
      "8番目の素数は23で、3を含みます\n",
      "10番目の素数は31で、3を含みます\n",
      "11番目の素数は37で、3を含みます\n"
     ]
    }
   ],
   "source": [
    "var list=[2,3,5,7,11,13,17,19,23,29,31,37];\n",
    "for (i=0; i<list.length; i++) {\n",
    "    if (String(list[i]).indexOf(\"3\") != -1) {\n",
    "        console.log(i + \"番目の素数は\" + list[i] + \"で、3を含みます\");\n",
    "    }\n",
    "}\n"
   ]
  },
  {
   "cell_type": "code",
   "execution_count": null,
   "metadata": {},
   "outputs": [],
   "source": [
    "/*\n",
    "var count = 1, countmax = 100;\n",
    "var timer = setInterval(function(){\n",
    "    if (count%3==0 || String(count).indexOf(\"3\")!=-1) {\n",
    "        document.getElementById(\"number\").innerHTML =\n",
    "            \"<font color='red' size=30>\"+count+\"</font>\";\n",
    "    } else {\n",
    "        document.getElementById(\"number\").innerHTML = count;\n",
    "    }\n",
    "    if(count >= countmax) clearInterval(timer);\n",
    "    count++;\n",
    "},1000);\n",
    "*/\n",
    "// ReferenceError: document is not defined"
   ]
  },
  {
   "cell_type": "code",
   "execution_count": null,
   "metadata": {},
   "outputs": [],
   "source": [
    "var obj={a:1,b:2,c:3};\n",
    "for (var k in obj) {\n",
    "    console.log(k);\n",
    "    console.log(obj[k]);\n",
    "} "
   ]
  },
  {
   "cell_type": "markdown",
   "metadata": {},
   "source": [
    "```\n",
    "try {\n",
    "この内部でエラーが発生すると\n",
    "} catch (err) {\n",
    "ここのコードが実行される\n",
    "} \n",
    "```\n",
    "```\n",
    "throw 式;\n",
    "```\n"
   ]
  },
  {
   "cell_type": "code",
   "execution_count": null,
   "metadata": {},
   "outputs": [],
   "source": [
    "function func1() {\n",
    "    console.log(\"func1 begin\");\n",
    "    func2();\n",
    "    console.log(\"func1 end\");\n",
    "}\n",
    "function func2() {\n",
    "    console.log(\"func2 begin\");\n",
    "    func3();\n",
    "    console.log(\"func2 end\");\n",
    "}\n",
    "function func3() {\n",
    "    console.log(\"func3 begin\");\n",
    "    throw \"dummy error\";\n",
    "    console.log(\"func3 end\");\n",
    "}\n",
    "try {\n",
    "    func1();\n",
    "} catch (err) {\n",
    "    console.log(err);\n",
    "}"
   ]
  },
  {
   "cell_type": "code",
   "execution_count": null,
   "metadata": {},
   "outputs": [],
   "source": [
    "\"あいうえお\".indexOf(\"うえ\");"
   ]
  },
  {
   "cell_type": "code",
   "execution_count": null,
   "metadata": {},
   "outputs": [],
   "source": [
    "var nums = [911, 326, 145, 638, 576, 319, 820, 915, 155, 74, 734, 872,\n",
    "    7, 306, 305, 391, 368, 302, 630, 714, 79, 730, 624, 285, 30,\n",
    "    186, 18, 766, 381, 452, 972, 847, 862, 668, 116, 21, 328, 217,\n",
    "    462, 486, 331, 865, 709, 564, 597, 620, 503, 133, 762, 909,\n",
    "    209, 763, 908, 756, 978, 451, 553, 111, 487, 612, 229, 396,\n",
    "    226, 71, 8, 404, 198, 613, 289, 728, 402, 437, 924, 56, 710,\n",
    "    676, 664, 86, 698, 467, 531, 996, 50, 563, 538, 479, 822, 724,\n",
    "    60, 917, 134, 161, 23, 855, 158, 672, 448, 125, 735, 657];\n",
    "var sum = 0;\n",
    "var avg = 0;\n",
    "for (i=0; i<nums.length; i++) {\n",
    "    sum += nums[i];\n",
    "}\n",
    "avg = sum / nums.length;\n",
    "console.log(avg);"
   ]
  },
  {
   "cell_type": "code",
   "execution_count": null,
   "metadata": {},
   "outputs": [],
   "source": [
    "var nums = [911, 326, 145, 638, 576, 319, 820, 915, 155, 74, 734, 872,\n",
    "    7, 306, 305, 391, 368, 302, 630, 714, 79, 730, 624, 285, 30,\n",
    "    186, 18, 766, 381, 452, 972, 847, 862, 668, 116, 21, 328, 217,\n",
    "    462, 486, 331, 865, 709, 564, 597, 620, 503, 133, 762, 909,\n",
    "    209, 763, 908, 756, 978, 451, 553, 111, 487, 612, 229, 396,\n",
    "    226, 71, 8, 404, 198, 613, 289, 728, 402, 437, 924, 56, 710,\n",
    "    676, 664, 86, 698, 467, 531, 996, 50, 563, 538, 479, 822, 724,\n",
    "    60, 917, 134, 161, 23, 855, 158, 672, 448, 125, 735, 657];\n",
    "var sum = 0;\n",
    "var avg = 0;\n",
    "var variance = 0;\n",
    "for (i=0; i<nums.length; i++) {\n",
    "    sum += nums[i];\n",
    "}\n",
    "avg = sum / nums.length;\n",
    "console.log(\"平均は\"+avg);\n",
    "for (i=0; i<nums.length; i++) {\n",
    "    variance = variance + Math.pow(nums[i]-avg, 2);\n",
    "}\n",
    "variance = variance / nums.length\n",
    "console.log(\"分散は\"+variance);\n",
    "console.log(\"標準偏差は\"+Math.sqrt(variance)); "
   ]
  },
  {
   "cell_type": "code",
   "execution_count": null,
   "metadata": {},
   "outputs": [],
   "source": [
    "function printall(a) {\n",
    "    var s = \" \";\n",
    "    for (k=0; k<a.length; k++) {\n",
    "        s += a[k] + \", \"\n",
    "    };\n",
    "    console.log(s);\n",
    "}\n",
    "var nums = [911, 326, 145, 638, 576, 319, 820, 915, 155, 74, 734, 872,\n",
    "    7, 306, 305, 391, 368, 302, 630, 714, 79, 730, 624, 285, 30,\n",
    "    186, 18, 766, 381, 452, 972, 847, 862, 668, 116, 21, 328, 217,\n",
    "    462, 486, 331, 865, 709, 564, 597, 620, 503, 133, 762, 909,\n",
    "    209, 763, 908, 756, 978, 451, 553, 111, 487, 612, 229, 396,\n",
    "    226, 71, 8, 404, 198, 613, 289, 728, 402, 437, 924, 56, 710,\n",
    "    676, 664, 86, 698, 467, 531, 996, 50, 563, 538, 479, 822, 724,\n",
    "    60, 917, 134, 161, 23, 855, 158, 672, 448, 125, 735, 657];\n",
    "\n",
    "printall(nums);\n",
    "\n",
    "var swapflag = false;\n",
    "do {\n",
    "    swapflag = false;\n",
    "    for (i=0; i<nums.length-1; i++) {\n",
    "        if (nums[i]>nums[i+1]) {\n",
    "            tmp = nums[i];\n",
    "            nums[i] = nums[i+1];\n",
    "            nums[i+1] = tmp;\n",
    "            swapflag = true;\n",
    "        }\n",
    "    }\n",
    "} while (swapflag);\n",
    "\n",
    "printall(nums);\n"
   ]
  },
  {
   "cell_type": "code",
   "execution_count": null,
   "metadata": {},
   "outputs": [],
   "source": [
    "var object = {name: \"apple\", color:\"red\", type: \"fruit\"};\n",
    "var myjson = JSON.stringify(object);\n",
    "console.log(myjson);"
   ]
  },
  {
   "cell_type": "code",
   "execution_count": null,
   "metadata": {},
   "outputs": [],
   "source": [
    "console.log(object);"
   ]
  },
  {
   "cell_type": "code",
   "execution_count": null,
   "metadata": {},
   "outputs": [],
   "source": [
    "var target = 111;\n",
    "var nums = [911, 326, 145, 638, 576, 319, 820, 915, 155, 74, 734, 872,\n",
    "    7, 306, 305, 391, 368, 302, 630, 714, 79, 730, 624, 285, 30,\n",
    "    186, 18, 766, 381, 452, 972, 847, 862, 668, 116, 21, 328, 217,\n",
    "    462, 486, 331, 865, 709, 564, 597, 620, 503, 133, 762, 909,\n",
    "    209, 763, 908, 756, 978, 451, 553, 111, 487, 612, 229, 396,\n",
    "    226, 71, 8, 404, 198, 613, 289, 728, 402, 437, 924, 56, 710,\n",
    "    676, 664, 86, 698, 467, 531, 996, 50, 563, 538, 479, 822, 724,\n",
    "    60, 917, 134, 161, 23, 855, 158, 672, 448, 125, 735, 657];\n",
    "for (i=0; i<nums.length; i++) {\n",
    "    if (nums[i] == target) {\n",
    "        console.log(String(i)+\"番目の値が\"+nums[i]+\"です。\");\n",
    "    }\n",
    "} "
   ]
  },
  {
   "cell_type": "code",
   "execution_count": null,
   "metadata": {},
   "outputs": [],
   "source": [
    "var target = 111;\n",
    "var nums = [7,8,18,21,23,30,50,56,60,71,74,79,86,111,116,125,133,134,145,155,158,\n",
    "    161,186,198,209,217,226,229,285,289,302,305,306,319,326,328,331,368,\n",
    "    381,391,396,402,404,437,448,451,452,462,467,479,486,487,503,531,538,\n",
    "    553,563,564,576,597,612,613,620,624,630,638,657,664,668,672,676,698,\n",
    "    709,710,714,724,728,730,734,735,756,762,763,766,820,822,847,855,862,\n",
    "    865,872,908,909,911,915,917,924,972,978,996];\n",
    "var a,b,c,d;\n",
    "a = 0;\n",
    "d = nums.length-1;\n",
    "b = Math.floor((a+d)/2);\n",
    "c = b+1;\n",
    "do {\n",
    "    if (nums[a]<=target && target<=nums[b]) {\n",
    "        a = a;\n",
    "        d = b;\n",
    "    } else {\n",
    "        a = c;\n",
    "        d = d;\n",
    "    }\n",
    "    b = Math.floor((a+d)/2);\n",
    "    c = b+1;\n",
    "} while (a!=b && c!=d);\n",
    "if (nums[a]==target) console.log(String(a)+\"番目の値が\"+nums[a]+\"です。\");\n",
    "else console.log(String(c)+\"番目の値が\"+nums[c]+\"です。\");"
   ]
  },
  {
   "cell_type": "code",
   "execution_count": 1,
   "metadata": {},
   "outputs": [
    {
     "name": "stdout",
     "output_type": "stream",
     "text": [
      "12345:tanaka:20<br>\n",
      "11111:suzuki:21<br>\n",
      "22222:satoh:22<br>\n"
     ]
    },
    {
     "data": {
      "text/plain": [
       "undefined"
      ]
     },
     "execution_count": 1,
     "metadata": {},
     "output_type": "execute_result"
    }
   ],
   "source": [
    "function Student(param) {\n",
    "    this.name = param.name;\n",
    "    this.id = param.id;\n",
    "    this.age = param.age;\n",
    "    this.GetAllString = function() {\n",
    "        return String(this.id) + \":\" + this.name + \":\" + this.age;\n",
    "    }\n",
    "}\n",
    "var students = [new Student({name:\"tanaka\",id:12345, age:20}),\n",
    "    new Student({name:\"suzuki\",id:11111, age:21}),\n",
    "    new Student({name:\"satoh\", id:22222, age:22})];\n",
    "for (i=0;i<students.length;i++) {\n",
    "    console.log(students[i].GetAllString()+\"<br>\");\n",
    "} "
   ]
  },
  {
   "cell_type": "code",
   "execution_count": 2,
   "metadata": {},
   "outputs": [
    {
     "name": "stdout",
     "output_type": "stream",
     "text": [
      "996\n"
     ]
    },
    {
     "data": {
      "text/plain": [
       "undefined"
      ]
     },
     "execution_count": 2,
     "metadata": {},
     "output_type": "execute_result"
    }
   ],
   "source": [
    "var nums = [911, 326, 145, 638, 576, 319, 820, 915, 155, 74, 734, 872,\n",
    "    7, 306, 305, 391, 368, 302, 630, 714, 79, 730, 624, 285, 30,\n",
    "    186, 18, 766, 381, 452, 972, 847, 862, 668, 116, 21, 328, 217,\n",
    "    462, 486, 331, 865, 709, 564, 597, 620, 503, 133, 762, 909,\n",
    "    209, 763, 908, 756, 978, 451, 553, 111, 487, 612, 229, 396,\n",
    "    226, 71, 8, 404, 198, 613, 289, 728, 402, 437, 924, 56, 710,\n",
    "    676, 664, 86, 698, 467, 531, 996, 50, 563, 538, 479, 822, 724,\n",
    "    60, 917, 134, 161, 23, 855, 158, 672, 448, 125, 735, 657];\n",
    "var max = 0;\n",
    "var i;\n",
    "for (i=0; i<nums.length; i++) {\n",
    "    if (max < nums[i]) max = nums[i];\n",
    "}\n",
    "console.log(max); "
   ]
  },
  {
   "cell_type": "code",
   "execution_count": 4,
   "metadata": {},
   "outputs": [
    {
     "data": {
      "text/plain": [
       "undefined"
      ]
     },
     "execution_count": 4,
     "metadata": {},
     "output_type": "execute_result"
    }
   ],
   "source": [
    "/*\n",
    "for (i=1; i<=30; i++) {\n",
    " console.log(\"<tr>\");\n",
    " for (j=1; j<=30; j++) {\n",
    " console.log(\"<td>\" + (i*j) + \"</td>\");\n",
    " }\n",
    " console.log(\"</tr>\");\n",
    "}\n",
    "*/"
   ]
  },
  {
   "cell_type": "markdown",
   "metadata": {},
   "source": [
    "ko"
   ]
  },
  {
   "cell_type": "code",
   "execution_count": null,
   "metadata": {},
   "outputs": [],
   "source": []
  },
  {
   "cell_type": "code",
   "execution_count": null,
   "metadata": {},
   "outputs": [],
   "source": []
  }
 ],
 "metadata": {
  "kernelspec": {
   "display_name": "Javascript (Node.js)",
   "language": "javascript",
   "name": "javascript"
  },
  "language_info": {
   "file_extension": ".js",
   "mimetype": "application/javascript",
   "name": "javascript",
   "version": "8.9.3"
  }
 },
 "nbformat": 4,
 "nbformat_minor": 2
}
