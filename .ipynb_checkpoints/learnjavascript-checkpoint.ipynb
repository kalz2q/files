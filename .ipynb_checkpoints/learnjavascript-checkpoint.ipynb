{
 "cells": [
  {
   "cell_type": "markdown",
   "metadata": {},
   "source": [
    "# ヘーイ。JavaScriptがJupyterに入ったぜ\n",
    "なんと、sudo apt install ijavascriptで入った。  \n",
    "しかし！ どれが入ったのだろう。  \n",
    "まいいか。  \n",
    "さて実験するための下敷きのテキストを探さなくては。  \n",
    "\n",
    "Learning JavaScript Ethan Brown\n",
    "\n",
    "というのを開いた。\n",
    "\n",
    "\n",
    "いや、これは大きすぎる。大きな本なので、もっと簡単なのからやろう。\n",
    "\n",
    "というのもまずはJupyter上でJavaScriptって、イメージがつかめないし、Jupyter notebook自体の使い方もよくわからない。  \n",
    "実験しながら進めよう。\n",
    "\n",
    "まずはハローワールドから。"
   ]
  },
  {
   "cell_type": "code",
   "execution_count": 1,
   "metadata": {},
   "outputs": [
    {
     "name": "stdout",
     "output_type": "stream",
     "text": [
      "hello\n"
     ]
    },
    {
     "data": {
      "text/plain": [
       "undefined"
      ]
     },
     "execution_count": 1,
     "metadata": {},
     "output_type": "execute_result"
    }
   ],
   "source": [
    "console.log(\"hello\")"
   ]
  },
  {
   "cell_type": "markdown",
   "metadata": {},
   "source": [
    "`hello`とJupyter notebook上に出力されて、`Out[2]`に`undefined`と出ました。\n",
    "\n",
    "きっと意味があるのだろうが、とりあえずうまく動いたのでおめでとう。\n",
    "\n",
    "\n",
    "```\n",
    "<script>\n",
    "    console.log(\"hello, again\");\n",
    "</script>\n",
    "```\n",
    "としたらエラーになりました。\n",
    "\n",
    "そそ、Jupyter notebookの右上のKernelが表示されている欄にJavascript(Node.js)"
   ]
  },
  {
   "cell_type": "code",
   "execution_count": null,
   "metadata": {},
   "outputs": [],
   "source": []
  }
 ],
 "metadata": {
  "kernelspec": {
   "display_name": "Javascript (Node.js)",
   "language": "javascript",
   "name": "ijavascript"
  },
  "language_info": {
   "file_extension": ".js",
   "mimetype": "application/javascript",
   "name": "javascript",
   "version": "4.2.6"
  }
 },
 "nbformat": 4,
 "nbformat_minor": 2
}
