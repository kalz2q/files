{
 "cells": [
  {
   "cell_type": "markdown",
   "metadata": {},
   "source": [
    "# JupyterでC++を勉強するぞ！\n",
    "とは言え、なにをいれたらいいかわかりません。  \n",
    "まずはいろいろ実験してみよう。"
   ]
  },
  {
   "cell_type": "code",
   "execution_count": null,
   "metadata": {},
   "outputs": [],
   "source": [
    "int n = 5"
   ]
  },
  {
   "cell_type": "markdown",
   "metadata": {},
   "source": [
    "int n = 5 みたいのを2回評価しようとすると叱られます。  \n",
    "同じ変数は再定義エラーになる。  \n",
    "\n",
    "一行にいくつも書くのでなければセミコロンはひつようないみたい。  \n",
    "\n",
    "Kernelメニューの`Restart & Clear Output` とかをしょっちゅうやる必要があるのかな。  \n",
    "`Help`メニューでキーボード・ショートカットを編集できる。  \n",
    "`Restart & Clear Output` についてはショートカットがなかったので、Ctrl-G, Ctrl-G というショートカットにしました。\n"
   ]
  },
  {
   "cell_type": "code",
   "execution_count": null,
   "metadata": {},
   "outputs": [],
   "source": [
    "n"
   ]
  },
  {
   "cell_type": "code",
   "execution_count": null,
   "metadata": {},
   "outputs": [],
   "source": [
    "n++;"
   ]
  },
  {
   "cell_type": "code",
   "execution_count": null,
   "metadata": {},
   "outputs": [],
   "source": [
    "++n;"
   ]
  },
  {
   "cell_type": "markdown",
   "metadata": {},
   "source": [
    "上の3つは評価する(評価する)と、アウトプットはそれぞれ5, 5, 7になります。\n",
    "\n",
    "「評価する」でもいいけど、「評価する」のほうがいい気がするので「評価する」を使います。  \n",
    "キーボード・ショートカットは Ctrl-Enterです。  \n",
    "これはわかりやすい。\n",
    "\n",
    "マークダウンセルもCtrl-Enterすると綺麗に書きなおしてくれます。\n",
    "\n",
    "Shiftをおしていくつかのセルを選んでCtrl-Enterを押すと全部（上から順に）評価してくれます。"
   ]
  },
  {
   "cell_type": "markdown",
   "metadata": {},
   "source": [
    "C++ Clingの紹介ビデオ YouTube を見ると、メタコマンド`.help`の話があります。\n",
    "\n",
    "これはなんなんだろう。やってみよう。\n",
    "\n",
    "やってみたところ、英語のファイルがでてきた。どうしようか。これでは困る。  \n",
    "\n",
    "少し試してみたけど、ビデオでも紹介のあった、ファイルやライブラリーをロードする\".L\"というメタコマンドだけ覚えておけばいいみたいです。"
   ]
  },
  {
   "cell_type": "markdown",
   "metadata": {},
   "source": [
    "### Jupyterのキーボード・ショートカット\n",
    "Jupyterを効率よく使うにはキーボード・ショートカットは欠かせません。  \n",
    "別途jupyterKeys.txtというファイルを用意しましたので参考にしてください。"
   ]
  },
  {
   "cell_type": "markdown",
   "metadata": {},
   "source": [
    "```\n",
    "Fキー: 検索と置換\n",
    "Ctrl-Shift-Fキー: コマンドパレットを開く\n",
    "Ctrl-Shift-Pキー: コマンドパレットを開く\n",
    "Enterキー: 編集モードに入る\n",
    "Pキー: コマンドパレットを開く\n",
    "Shift-Enterキー: セルを評価して、下のセルを選択\n",
    "Ctrl-Enterキー: 選択したセルを評価\n",
    "Alt-Enterキー: セルを評価して、下に新規セル挿入\n",
    "Yキー: コードモードに\n",
    "Mキー: マークダウンモードに\n",
    "Rキー: raw（テキスト）モードに\n",
    "1キー: 「見出し１（大見出し）」で書き出す\n",
    "2キー: 「見出し２（中見出し）」で書き出す\n",
    "3キー: 「見出し３」で書き出す\n",
    "4キー: 「見出し４」で書き出す\n",
    "5キー: 「見出し５」で書き出す\n",
    "6キー: 「見出し６」で書き出す\n",
    "Kキー: 上のセルに移動\n",
    "Upキー: 上のセルに移動\n",
    "Downキー: 下のセルに移動\n",
    "Jキー: 下のセルに移動\n",
    "Shift-Kキー: 上のセルを複数選択\n",
    "Shift-Upキー: 上のセルを複数選択\n",
    "Shift-Downキー: 下のセルを複数選択\n",
    "Shift-Jキー: 下のセルを複数選択\n",
    "Aキー: セルを上に挿入\n",
    "Bキー: セルを下に挿入\n",
    "Xキー: セルを切り取り\n",
    "Cキー: セルをコピー\n",
    "Shift-Vキー: セルを上に挿入してペースト\n",
    "Vキー: セルを下に挿入してペースト\n",
    "Zキー: 削除したセルを戻す\n",
    "DDキー: 選択したセルを削除\n",
    "Shift-Mキー: セルを統合\n",
    "Ctrl-Sキー: 保存とチェックポイント\n",
    "Sキー: 保存とチェックポイント\n",
    "Lキー: セルの中の行番号を表示\n",
    "Oキー: 選択セルの評価結果を表示\n",
    "Shift-Oキー: 選択セルの評価結果をスクロール表示\n",
    "Hキー: ショートカットキーを表示\n",
    "IIキー: カーネルを中断\n",
    "00キー: カーネルをリスタート\n",
    "Shift-Lキー: 行番号を表示/非表示\n",
    "Shift-Spaceキー: 上にスクロール\n",
    "Spaceキー: 下にスクロール\n",
    "Tabキー: コード自動補完、インデント\n",
    "Shift-Tabキー: ツールチップ（tooltip）\n",
    "Ctrl-]キー: インデント\n",
    "Ctrl-[キー: インデント消す\n",
    "Ctrl-Aキー: 全選択\n",
    "Ctrl-Zキー: 元に戻す\n",
    "Ctrl-/キー: コメント\n",
    "Ctrl-Dキー: 行を削除\n",
    "Ctrl-Uキー: 選択をやり直す\n",
    "Insertキー: 挿入/上書きモード切り替え\n",
    "Ctrl-Homeキー: 最初のセルに移動\n",
    "Ctrl-Upキー: セルの最初に移動\n",
    "Ctrl-Downキー: セルの最後に移動\n",
    "Ctrl-Endキー: 最後のセルに移動\n",
    "Ctrl-Leftキー: １単語左に移動\n",
    "Ctrl-Rightキー: １単語右に移動\n",
    "Ctrl-Backspade: 左の単語を消去\n",
    "Ctrl-Delete: 右の単語を消去\n",
    "Ctrl-Yキー: やり直す\n",
    "Alt-Uキー: 選択をやり直す\n",
    "Ctrl-Mキー: コマンドモード\n",
    "Ctrl-Shift-Fキー: コマンドパレットを開く\n",
    "Ctrl-Shift-Pキー: コマンドパレットを開く\n",
    "Escキー: コマンドモード\n",
    "Shift-Enterキー: セルを評価して、下のセルを選択\n",
    "Ctrl-Enterキー: 選択したセルを評価\n",
    "Alt-Enterキー: セルを評価して、下にセルを挿入\n",
    "Ctrl-Shift--キー: セルを分割\n",
    "Ctrl-Sキー: 保存とチェックポイント\n",
    "Downキー: カーソルを下に移動\n",
    "Upキー: カーソルを上に移動\n",
    "```"
   ]
  },
  {
   "cell_type": "markdown",
   "metadata": {},
   "source": [
    "### ハローワールド\n",
    "ふつうのテキストにあるハローワールドのプログラムをこの環境でどう走らせるか。  \n",
    "```\n",
    "//sample.cpp\n",
    "#include <iostream>\n",
    "using namespace std;\n",
    "int main ()\n",
    "{\n",
    "    cout << \"はろー！ 世界！！\";\n",
    "    return 0;\n",
    "}\n",
    "```\n",
    "JupyterのHomeに行って、すきな場所で`New`ボタンのメニューから`Text`を選びます。  \n",
    "ファイル名をsample.txtにして、上記のコードを打ち込みます。  \n",
    "このテキストに戻って、`.L`を使って、ロードします。  \n",
    "ロードできたら、main()関数を評価します。"
   ]
  },
  {
   "cell_type": "code",
   "execution_count": null,
   "metadata": {},
   "outputs": [],
   "source": [
    ".L ./mycpp/sample.cpp"
   ]
  },
  {
   "cell_type": "code",
   "execution_count": null,
   "metadata": {},
   "outputs": [],
   "source": [
    "main()"
   ]
  },
  {
   "cell_type": "markdown",
   "metadata": {},
   "source": [
    "\"はろー！ 世界！！\"と表示されると思います。  エラーがでるようでしたら、`Kernel`メニューの`Restart & Clear Output`を評価してから再度やってみて下さい。"
   ]
  },
  {
   "cell_type": "markdown",
   "metadata": {},
   "source": [
    "### 関数\n",
    "関数 function()を定義するには`.rawInput`を用いるらしいが、これもよくわからない。"
   ]
  },
  {
   "cell_type": "code",
   "execution_count": null,
   "metadata": {},
   "outputs": [],
   "source": [
    "// コメントはつかえるのかな"
   ]
  },
  {
   "cell_type": "code",
   "execution_count": null,
   "metadata": {},
   "outputs": [],
   "source": [
    "/* 複数行に\n",
    "わたるコメントはどうか */"
   ]
  },
  {
   "cell_type": "code",
   "execution_count": null,
   "metadata": {},
   "outputs": [],
   "source": [
    "#include <iostream>\n",
    "using namespace std;\n",
    "int n = 3;\n",
    "cout << n << \"番目の方どうぞ！\" << endl;"
   ]
  },
  {
   "cell_type": "markdown",
   "metadata": {},
   "source": [
    "これは、\"3番目の方どうぞ！\"と表示されます。\n",
    "\n",
    "\n",
    "次に`.rawInput`を使った関数定義の実験です。"
   ]
  },
  {
   "cell_type": "code",
   "execution_count": null,
   "metadata": {},
   "outputs": [],
   "source": [
    ".rawInput"
   ]
  },
  {
   "cell_type": "code",
   "execution_count": null,
   "metadata": {},
   "outputs": [],
   "source": [
    "void increase(int& x){ ++x;}"
   ]
  },
  {
   "cell_type": "code",
   "execution_count": null,
   "metadata": {},
   "outputs": [],
   "source": [
    ".rawInput"
   ]
  },
  {
   "cell_type": "markdown",
   "metadata": {},
   "source": [
    "実際に使ってみることができます。  "
   ]
  },
  {
   "cell_type": "code",
   "execution_count": null,
   "metadata": {},
   "outputs": [],
   "source": [
    "int n = 8;\n",
    "increase(n);n;"
   ]
  },
  {
   "cell_type": "markdown",
   "metadata": {},
   "source": [
    "以上を評価すると、ちゃんと9が表示され、nが9になっているのがわかります。"
   ]
  },
  {
   "cell_type": "markdown",
   "metadata": {},
   "source": [
    "途中ですが、いまの環境を書いておきます。  \n",
    "Ubuntu 16.04 でいま2018年3月なのでもうすぐ18.04になるかもしれない。  \n",
    "C++をインタープリターとして使うと勉強がはかどるのではないか、と思って入れてみました。  \n",
    "以上\n",
    "\n",
    "簡単なのでいいからプログラムの形でセルに入れたいね。  \n",
    "やってみよう。"
   ]
  },
  {
   "cell_type": "markdown",
   "metadata": {},
   "source": [
    "### 文字リテラル\n",
    "大文字のAは10進数で65。2進数で1000001。16進数で0x41。8進数では0101。 \n",
    "データ型の具体的な値をリテラルという。  \n",
    "文字型(char)のリテラルの例は'A'。stringの例が\"hello\"。\n",
    "\n",
    "問題  \n",
    "時速を秒速に変換するには3倍して10で割ればほぼ一致します。  \n",
    "と表示せよ。"
   ]
  },
  {
   "cell_type": "code",
   "execution_count": null,
   "metadata": {},
   "outputs": [],
   "source": [
    "#include <iostream>\n",
    "using namespace std;\n",
    "cout << \"時速を秒速に変換するには\" << 3 << \"倍して\" << 10 << \"で割ればほぼ一致します。\" << endl;"
   ]
  },
  {
   "cell_type": "markdown",
   "metadata": {},
   "source": [
    "問題\n",
    "整数44を変数$m$に代入し、式$m + 33$の結果を$n$に代入するプログラムを作成せよ。  \n",
    "\n",
    "変数がMathJaxの$LaTex$で表示されました。`$`で囲むだけです。"
   ]
  },
  {
   "cell_type": "code",
   "execution_count": null,
   "metadata": {},
   "outputs": [],
   "source": [
    "#include <iostream>\n",
    "using namespace std;\n",
    "int m, n04;\n",
    "m = 44;\n",
    "cout << \"m = \" << m ;\n",
    "n04 = m + 33;\n",
    "cout << \" and n = \" << n04 << endl;"
   ]
  },
  {
   "cell_type": "markdown",
   "metadata": {},
   "source": [
    "ちょっとコツがつかめてきたみたい。  \n",
    "この調子で少し進めよう。  \n",
    "なんとなく、C++はJupyterには向かない気もするが。\n",
    "\n",
    "### ラムダ計算の例\n",
    "うまく行かないので、とりあえずコメントアウト"
   ]
  },
  {
   "cell_type": "code",
   "execution_count": null,
   "metadata": {},
   "outputs": [],
   "source": [
    "// int x01 = [](int a , int b) -> int { return a + b;} (2,4)"
   ]
  },
  {
   "cell_type": "code",
   "execution_count": null,
   "metadata": {},
   "outputs": [],
   "source": [
    "// auto func = [](int a, int b) -> int { return a+b; };"
   ]
  },
  {
   "cell_type": "code",
   "execution_count": null,
   "metadata": {},
   "outputs": [],
   "source": [
    "// func(2,3)"
   ]
  },
  {
   "cell_type": "markdown",
   "metadata": {},
   "source": [
    "ラムダ計算はうまく行きません。  \n",
    "\n",
    "次に別ファイルにプログラムを書いて読み込むのをやってみます。"
   ]
  },
  {
   "cell_type": "code",
   "execution_count": null,
   "metadata": {},
   "outputs": [],
   "source": [
    ".L ./mycpp/func.cpp"
   ]
  },
  {
   "cell_type": "code",
   "execution_count": null,
   "metadata": {
    "scrolled": true
   },
   "outputs": [],
   "source": [
    "test()"
   ]
  },
  {
   "cell_type": "raw",
   "metadata": {},
   "source": [
    "//func.cpp\n",
    "#include <iostream>\n",
    "using namespace std;\n",
    "void test() {\n",
    "    cout << \"just a test\" << endl;\n",
    "}"
   ]
  },
  {
   "cell_type": "markdown",
   "metadata": {},
   "source": [
    "というテキストファイルを別途作りました。  \n",
    "ちゃんと\"just a test\"と表示されます。  \n",
    "ということは、関数定義は別ファイルということか。 \n",
    "これは使えるね。"
   ]
  },
  {
   "cell_type": "markdown",
   "metadata": {},
   "source": [
    "問題  \n",
    "3 + 4 を計算すると 7 になります。と表示する関数show3+4()を作れ。"
   ]
  },
  {
   "cell_type": "raw",
   "metadata": {},
   "source": [
    "// show3+4.cpp\n",
    "#include <iostream>\n",
    "using namespace std;\n",
    "void show3and4() {\n",
    "    cout << 3 << \" + \" << 4 << \" を計算すると \" << 7 << \" になります。\" << endl;\n",
    "}"
   ]
  },
  {
   "cell_type": "code",
   "execution_count": null,
   "metadata": {},
   "outputs": [],
   "source": [
    ".L ./mycpp/show3+4.cpp"
   ]
  },
  {
   "cell_type": "code",
   "execution_count": null,
   "metadata": {},
   "outputs": [],
   "source": [
    "show3and4();"
   ]
  },
  {
   "cell_type": "markdown",
   "metadata": {},
   "source": [
    "えっと、関数名のなかに`+`はゆるされていませんでした。  \n",
    "ファイル名は大丈夫だったけど管理上一致しないのはわかりにくい。  \n",
    "関数なので命令ではないので`( )`が必要です。忘れがち。  \n",
    " \n",
    "\n",
    "問題\n",
    "初期化していないint変数 uninitialized なにが入っているか示すプログラムを作れ。"
   ]
  },
  {
   "cell_type": "raw",
   "metadata": {},
   "source": [
    "// uninitialized.cpp\n",
    "#include <iostream>\n",
    "void uninitialized() {\n",
    "    int uninitialized;\n",
    "    std::cout << \" uninitialized: \" << uninitialized << \" でした。 \"  << std::endl;\n",
    "}"
   ]
  },
  {
   "cell_type": "code",
   "execution_count": null,
   "metadata": {},
   "outputs": [],
   "source": [
    ".L ./mycpp/uninitialized.cpp"
   ]
  },
  {
   "cell_type": "code",
   "execution_count": null,
   "metadata": {},
   "outputs": [],
   "source": [
    "uninitialized()"
   ]
  },
  {
   "cell_type": "markdown",
   "metadata": {},
   "source": [
    "32682になった。処理系によってちがうらしい。\n",
    "\n",
    "\n",
    "問題  \n",
    "入力演算子`>>`を用いて型について考えよう。 \n",
    "\n",
    "\n",
    "`std:cin >> n` とか書くのですが、Jupyter上ではうまく使えない。  \n",
    "関数化して明示的に引数を渡すしかないと思うがどうか。  \n",
    "\n",
    "問題  \n",
    "1/2と1/2.0を表示して考察する。"
   ]
  },
  {
   "cell_type": "code",
   "execution_count": null,
   "metadata": {},
   "outputs": [],
   "source": [
    "1/2.0"
   ]
  },
  {
   "cell_type": "markdown",
   "metadata": {},
   "source": [
    "定数とか変数とか"
   ]
  },
  {
   "cell_type": "code",
   "execution_count": null,
   "metadata": {},
   "outputs": [],
   "source": [
    "const int MAXINT = 988097l;\n",
    "char a = 'A';\n",
    "a"
   ]
  },
  {
   "cell_type": "code",
   "execution_count": null,
   "metadata": {},
   "outputs": [],
   "source": [
    "/* これはエラーになる\n",
    "char* p = \"C++\";\n",
    "p;\n",
    "*/"
   ]
  },
  {
   "cell_type": "code",
   "execution_count": null,
   "metadata": {},
   "outputs": [],
   "source": [
    "float testAverage;\n",
    "bool flag = false;\n",
    "flag;"
   ]
  },
  {
   "cell_type": "code",
   "execution_count": null,
   "metadata": {},
   "outputs": [],
   "source": [
    "false;"
   ]
  },
  {
   "cell_type": "markdown",
   "metadata": {},
   "source": [
    "true とか falseが返されます。0か1だと思っていたのですが。"
   ]
  },
  {
   "cell_type": "code",
   "execution_count": null,
   "metadata": {},
   "outputs": [],
   "source": [
    "010001"
   ]
  },
  {
   "cell_type": "code",
   "execution_count": null,
   "metadata": {
    "scrolled": true
   },
   "outputs": [],
   "source": [
    "0xff"
   ]
  },
  {
   "cell_type": "code",
   "execution_count": null,
   "metadata": {},
   "outputs": [],
   "source": [
    "1.2e15"
   ]
  },
  {
   "cell_type": "code",
   "execution_count": null,
   "metadata": {},
   "outputs": [],
   "source": [
    "0b101010"
   ]
  },
  {
   "cell_type": "markdown",
   "metadata": {},
   "source": [
    "2進数とかについて、整理すると  \n",
    "```\n",
    "2進数は `0b` で始まる。\n",
    "8進数は `0` で始まる。\n",
    "16進数は `0x` で始まる\n",
    "```\n",
    "です。"
   ]
  },
  {
   "cell_type": "markdown",
   "metadata": {},
   "source": [
    "#### C++のキーワード\n",
    "\n",
    "and\tand_eq\tasm\tauto\tbitand\n",
    "bitor\tbool\tbreak\tcase\tcatch\n",
    "char\tclass\tcompl\tconst\tconst_cast\n",
    "continue\tdefault\tdelete\tdo\tdouble\n",
    "dynamic_cast\telse\tenum\texplict\texport\n",
    "extern\tdfalse\tfloat\tfor\tfriend\n",
    "goto\tif\tinline\tint\tlong\n",
    "mutable\tnamespace\tnew\tnot\tnot_eq\n",
    "operator\tor\tor_eq\tprivate\tprotected\n",
    "public\tregister\treinterpret_cast\treturn\tshort\n",
    "signed\tsizeof\tstatic\tstatic_cast\tstruct\n",
    "switch\ttemplate\tthis\tthrow\ttrue\n",
    "try\ttypedef\ttypeid\ttypename\tusing\n",
    "union\tunsigned\tvirtual\tvoid\tvolatile\n",
    "wchar_t\twhile\txor\txor_eq\t"
   ]
  },
  {
   "cell_type": "markdown",
   "metadata": {},
   "source": [
    "#### 識別子の形\n",
    "```\n",
    "クラス名: 大文字で始まる -> TextEditor, ErrorDialog\n",
    "メンバ関数名: 小文字で始まる -> addFirst(), hasNext()\n",
    "メンバ変数名: 小文字で始まる -> daysOfWeek, summerVacation \n",
    "定数: 全て大文字 -> PI, DAY_OF_MONTH\n",
    "```"
   ]
  },
  {
   "cell_type": "code",
   "execution_count": null,
   "metadata": {},
   "outputs": [],
   "source": [
    "bool flag = true;\n",
    "flag;"
   ]
  },
  {
   "cell_type": "code",
   "execution_count": null,
   "metadata": {},
   "outputs": [],
   "source": [
    "#include <iostream>\n",
    "using namespace std;\n",
    "bool flag = true;\n",
    "std::cout << \"flag = \" << flag << std::endl;"
   ]
  },
  {
   "cell_type": "markdown",
   "metadata": {},
   "source": [
    "この場合はtrueでなく、`1`が返されます。なぜだろう。"
   ]
  },
  {
   "cell_type": "code",
   "execution_count": null,
   "metadata": {},
   "outputs": [],
   "source": [
    "#include <iostream>\n",
    "using namespace std;\n",
    "cout << int('A') << endl;"
   ]
  },
  {
   "cell_type": "code",
   "execution_count": null,
   "metadata": {},
   "outputs": [],
   "source": [
    "int('A');"
   ]
  },
  {
   "cell_type": "markdown",
   "metadata": {},
   "source": [
    "割り算と冪乗"
   ]
  },
  {
   "cell_type": "code",
   "execution_count": null,
   "metadata": {},
   "outputs": [],
   "source": [
    "10 / 3"
   ]
  },
  {
   "cell_type": "markdown",
   "metadata": {},
   "source": [
    "10 / 3 は3を返します。"
   ]
  },
  {
   "cell_type": "code",
   "execution_count": null,
   "metadata": {},
   "outputs": [],
   "source": [
    "10 % 3"
   ]
  },
  {
   "cell_type": "markdown",
   "metadata": {},
   "source": [
    "10 % 3 は1を返します。余りです。"
   ]
  },
  {
   "cell_type": "code",
   "execution_count": null,
   "metadata": {},
   "outputs": [],
   "source": [
    "#include <cmath>\n",
    "using namespace std;\n",
    "pow(2,3)"
   ]
  },
  {
   "cell_type": "markdown",
   "metadata": {},
   "source": [
    "8.000000 を返します。べき乗です。"
   ]
  },
  {
   "cell_type": "code",
   "execution_count": null,
   "metadata": {},
   "outputs": [],
   "source": [
    "#include <cmath>\n",
    "log(8) / log (2)"
   ]
  },
  {
   "cell_type": "markdown",
   "metadata": {},
   "source": [
    "logはlog()ですね。自然対数です。"
   ]
  },
  {
   "cell_type": "code",
   "execution_count": null,
   "metadata": {},
   "outputs": [],
   "source": [
    "#include <cmath>\n",
    "log(exp(1))"
   ]
  },
  {
   "cell_type": "markdown",
   "metadata": {},
   "source": [
    "これは 1.0000000 を返します。"
   ]
  },
  {
   "cell_type": "code",
   "execution_count": null,
   "metadata": {},
   "outputs": [],
   "source": [
    "0b1101"
   ]
  },
  {
   "cell_type": "markdown",
   "metadata": {},
   "source": [
    "列挙型"
   ]
  },
  {
   "cell_type": "code",
   "execution_count": null,
   "metadata": {},
   "outputs": [],
   "source": [
    "enum sex {female, male}; // 性別\n",
    "enum day {sun, mon, tue, wed, thu, fri, sat}; // 曜日\n",
    "enum radix {bin=2, oct=8, dec=10,hex=16};   // 進数\n",
    "enum color {red,orange, yellow, green, blue, violet}; // 色\n",
    "enum rank {ten,jack, queen, king, ace}; //  カード\n",
    "enum suit {clubs, diamonds, hearts, spades}; // カードの組\n",
    "enum roman {i = 1, v = 5, x = 10, l = 50, c = 100, d = 500, m = 1000}; // 数字"
   ]
  },
  {
   "cell_type": "markdown",
   "metadata": {},
   "source": [
    "列挙型のリストは読みやすくなるが、中で指定された文字が他の目的に使えなくなってしまいます。"
   ]
  },
  {
   "cell_type": "markdown",
   "metadata": {},
   "source": [
    "配列"
   ]
  },
  {
   "cell_type": "code",
   "execution_count": null,
   "metadata": {},
   "outputs": [],
   "source": [
    "int prime[] = {2,3,5,7,11,13,17};"
   ]
  },
  {
   "cell_type": "code",
   "execution_count": null,
   "metadata": {},
   "outputs": [],
   "source": [
    "prime;"
   ]
  },
  {
   "cell_type": "markdown",
   "metadata": {},
   "source": [
    "上のは{ 2, 3, 5, 7, 11, 13, 17 }が表示されます。"
   ]
  },
  {
   "cell_type": "code",
   "execution_count": null,
   "metadata": {},
   "outputs": [],
   "source": [
    "prime[3];"
   ]
  },
  {
   "cell_type": "markdown",
   "metadata": {},
   "source": []
  },
  {
   "cell_type": "markdown",
   "metadata": {},
   "source": [
    "これは 7 が表示されます。"
   ]
  },
  {
   "cell_type": "markdown",
   "metadata": {},
   "source": [
    "### 文字型配列(C-strings)"
   ]
  },
  {
   "cell_type": "code",
   "execution_count": null,
   "metadata": {},
   "outputs": [],
   "source": [
    "char str[] = { 'A','N','S','\\0' };"
   ]
  },
  {
   "cell_type": "code",
   "execution_count": null,
   "metadata": {},
   "outputs": [],
   "source": [
    "str;"
   ]
  },
  {
   "cell_type": "markdown",
   "metadata": {},
   "source": [
    "(char [4]) \"ANS\"と表示されます。"
   ]
  },
  {
   "cell_type": "code",
   "execution_count": null,
   "metadata": {},
   "outputs": [],
   "source": [
    "char str[] = \"Yamada\""
   ]
  },
  {
   "cell_type": "code",
   "execution_count": null,
   "metadata": {},
   "outputs": [],
   "source": [
    "str;"
   ]
  },
  {
   "cell_type": "markdown",
   "metadata": {},
   "source": [
    "(char [7]) \"Yamada\"と表示されます。"
   ]
  },
  {
   "cell_type": "code",
   "execution_count": null,
   "metadata": {},
   "outputs": [],
   "source": [
    "#include <iostream>\n",
    "using namespace std;\n",
    "char str[] = \"Taro\";\n",
    "cout << str << endl;"
   ]
  },
  {
   "cell_type": "markdown",
   "metadata": {},
   "source": [
    "Taro と出力されます。\n",
    "\n",
    "ヘッダファイル `<cstring>` には、strlen(),\n",
    "strcpy(), strncpy(), strcat(), strncat(),\n",
    "strcmp(), strncmp()などがある。\n",
    "\n",
    "### 文字列の格納\n",
    "次のプログラムはエラーになります。"
   ]
  },
  {
   "cell_type": "code",
   "execution_count": null,
   "metadata": {},
   "outputs": [],
   "source": [
    "/*\n",
    "#include <iostream>\n",
    "using namespace std;\n",
    "char* weekDays [] = {” 日曜 ”,” 月曜 ”,” 火曜 ”,” 水曜 ”,” 木曜 ”,” 金曜 ”,” 土曜 ”};\n",
    "char* s = weekDays[2];\n",
    "cout << ”weekDays[2]=” << s << ” です。\\n”; }\n",
    "*/"
   ]
  },
  {
   "cell_type": "code",
   "execution_count": null,
   "metadata": {},
   "outputs": [],
   "source": [
    "#include <string>\n",
    "using namespace std;\n",
    "string s1 = \"東京都江戸川区\";\n",
    "string s2(60,'*');\n",
    "string s3 = s2;\n",
    "string s4(s1,4,2);\n",
    "string s5;"
   ]
  },
  {
   "cell_type": "code",
   "execution_count": null,
   "metadata": {},
   "outputs": [],
   "source": [
    "s4"
   ]
  },
  {
   "cell_type": "markdown",
   "metadata": {},
   "source": [
    "s1は7個の文字  \n",
    "s2は60個のアスタリスク  \n",
    "s3は60個のアスタリスク  \n",
    "s4は2文字    \n",
    "s5は\"\"\n",
    "\n",
    "\n"
   ]
  },
  {
   "cell_type": "markdown",
   "metadata": {},
   "source": [
    "s4が文字化けします。\n",
    "\n",
    "次はshort intとintの違いの実験です。"
   ]
  },
  {
   "cell_type": "code",
   "execution_count": null,
   "metadata": {
    "scrolled": true
   },
   "outputs": [],
   "source": [
    "#include <iostream>\n",
    "using namespace std;\n",
    "short int i;\n",
    "int j;\n",
    "j = 60000;\n",
    "i = j;\n",
    "cout << i << \"   \" << j << endl;"
   ]
  },
  {
   "cell_type": "markdown",
   "metadata": {},
   "source": [
    "-5536   60000\n",
    "と表示されました。\n",
    "\n",
    "\n",
    "プログラム名と関数名を同じにすると`.x`というメタコマンドで実行できます。"
   ]
  },
  {
   "cell_type": "raw",
   "metadata": {},
   "source": [
    "# include <iostream>\n",
    "using namespace std;\n",
    "int shortint ()\n",
    "{\n",
    "    short int i;\n",
    "    int j;\n",
    "    j = 60000;\n",
    "    i = j;\n",
    "    cout << i << \"   \" << j << endl;\n",
    "    return 0;\n",
    "}"
   ]
  },
  {
   "cell_type": "code",
   "execution_count": null,
   "metadata": {
    "scrolled": true
   },
   "outputs": [],
   "source": [
    ".x ./mycpp/shortint.cpp"
   ]
  },
  {
   "cell_type": "markdown",
   "metadata": {},
   "source": [
    "-5536   60000\n",
    "と表示されました。\n",
    "\n",
    "次はforループの実験です。"
   ]
  },
  {
   "cell_type": "code",
   "execution_count": null,
   "metadata": {},
   "outputs": [],
   "source": [
    "#include <iostream>\n",
    "using namespace std;\n",
    "char letter;\n",
    "for(letter = 'A'; letter <= 'z'; letter++)\n",
    "    cout << letter;"
   ]
  },
  {
   "cell_type": "markdown",
   "metadata": {},
   "source": [
    "```ABCDEFGHIJKLMNOPQRSTUVWXYZ[\\]^_`abcdefghijklmnopqrstuvwxyz```\n",
    "と表示されました。\n",
    "\n",
    "もっと範囲を広げてみよう。\n"
   ]
  },
  {
   "cell_type": "code",
   "execution_count": null,
   "metadata": {},
   "outputs": [],
   "source": [
    "#include <iostream>\n",
    "using namespace std;\n",
    "char letter;\n",
    "for(letter = '!'; letter <= '~'; letter++)\n",
    "    cout << letter;"
   ]
  },
  {
   "cell_type": "markdown",
   "metadata": {},
   "source": [
    "```!\"#$%&'()*+,-./0123456789:;<=>?@ABCDEFGHIJKLMNOPQRSTUVWXYZ[\\]^_`abcdefghijklmnopqrstuvwxyz{|}~```\n",
    "\n",
    "と表示されました。  \n",
    "いくつあるのだろう。  \n",
    "\n",
    "ところで、JupyterのC++上ではセルで関数を定義できないことはちゃんと実験していませんでした。  \n",
    "やってみます。"
   ]
  },
  {
   "cell_type": "code",
   "execution_count": null,
   "metadata": {},
   "outputs": [],
   "source": [
    "//\n",
    "#include <iostream>\n",
    "using namespace std;\n",
    "void test2() {\n",
    "   cout << \"関数をJupyterのセルで定義する実験\" << endl;\n",
    "}"
   ]
  },
  {
   "cell_type": "markdown",
   "metadata": {},
   "source": [
    "なるほどね。  \n",
    "input_line_3:5:14: error: function definition is not allowed here  \n",
    "と表示されます。  \n",
    "C++のインタープリターであるClingの仕様なので、Clingがバージョンアップされれば改善されるかもしれない。  \n",
    "C++がファイルを読み込んで動く仕組みなので、整合性をとることはできないのかもしれない。  \n",
    "ま、ともかく、いまはそういうことだろ理解して使おう。\n",
    "\n",
    "Classは作れるが、メンバー関数は作れない。  \n",
    "やはり不便ですね。  \n",
    "はやい話、Classも含めて外にファイルをつくるしかない。  \n",
    "とすると、そのファイルを自動でJupyterのセルで表示することができれば便利か。 \n",
    "\n",
    "そういえば、ここでiPythonのマジックコマンドは使えないか。 -> 使えません。\n",
    "\n",
    "関係ないかもしれないけど、こんなのを見つけました。"
   ]
  },
  {
   "cell_type": "code",
   "execution_count": null,
   "metadata": {},
   "outputs": [],
   "source": [
    "#include <iostream>\n",
    "#include <vector>\n",
    "using namespace std;\n",
    "auto v = vector<int>{1,2,3,4,5}"
   ]
  },
  {
   "cell_type": "code",
   "execution_count": null,
   "metadata": {},
   "outputs": [],
   "source": [
    "template <class Vector>\n",
    "void print_elements(Vector v) {\n",
    "    for (auto& a: v) {\n",
    "        cout << a << endl;\n",
    "    }\n",
    "}"
   ]
  },
  {
   "cell_type": "code",
   "execution_count": null,
   "metadata": {},
   "outputs": [],
   "source": [
    "print_elements(v)"
   ]
  },
  {
   "cell_type": "markdown",
   "metadata": {},
   "source": [
    "わう！\n",
    "```\n",
    "1\n",
    "2\n",
    "3\n",
    "4\n",
    "5\n",
    "```\n",
    "と表示されています。   \n",
    "これって、Jupyter上で関数が定義できてるってことではないの？  \n",
    "普通の関数定義がエラーになってこれがオッケーになるのはどこが違うのか。  \n",
    "\n",
    "`template <class Vector>`がついているだけじゃん。  \n",
    "実験してみよう。次のはネットにあった例です。"
   ]
  },
  {
   "cell_type": "code",
   "execution_count": null,
   "metadata": {},
   "outputs": [],
   "source": [
    "template <typename T>\n",
    "T mymax(T x, T y)\n",
    "{\n",
    "    if (x < y)\n",
    "        return y;\n",
    "    else\n",
    "        return x;\n",
    "}"
   ]
  },
  {
   "cell_type": "code",
   "execution_count": null,
   "metadata": {},
   "outputs": [],
   "source": [
    "mymax('X', 'A')"
   ]
  },
  {
   "cell_type": "markdown",
   "metadata": {},
   "source": [
    "正しく`'X'`と表示されました。\n",
    "\n",
    "もうひとつネットにあった例から。"
   ]
  },
  {
   "cell_type": "code",
   "execution_count": null,
   "metadata": {},
   "outputs": [],
   "source": [
    "#include <iostream> // templateと同じセルに書くとうまく行かない\n",
    "using namespace std; // templateと同じセルに書くとうまく行かない"
   ]
  },
  {
   "cell_type": "code",
   "execution_count": null,
   "metadata": {},
   "outputs": [],
   "source": [
    "template <class X> \n",
    "void println(X out) {\n",
    "    cout << out << '\\n';\n",
    "}"
   ]
  },
  {
   "cell_type": "code",
   "execution_count": null,
   "metadata": {},
   "outputs": [],
   "source": [
    "println(\"はろー、はろー\");\n",
    "println(10);\n",
    "println(1.052);"
   ]
  },
  {
   "cell_type": "markdown",
   "metadata": {},
   "source": [
    "```\n",
    "はろー、はろー\n",
    "10\n",
    "1.052\n",
    "```\n",
    "と表示されました。うまく行っているみたい。\n",
    "\n",
    "templateの中身はなんでもいいのだろうか。  \n",
    "使わなくてもいいのだろうか。  \n",
    "実験。"
   ]
  },
  {
   "cell_type": "code",
   "execution_count": null,
   "metadata": {},
   "outputs": [],
   "source": [
    "#include <iostream> // templateと同じセルに書くとうまく行かない\n",
    "using namespace std; // templateと同じセルに書くとうまく行かない"
   ]
  },
  {
   "cell_type": "code",
   "execution_count": null,
   "metadata": {},
   "outputs": [],
   "source": [
    "template <typename T>\n",
    "void testTemplate(T x) {\n",
    "    cout << \"templateの実験だよ。\" << endl;\n",
    "}"
   ]
  },
  {
   "cell_type": "code",
   "execution_count": null,
   "metadata": {},
   "outputs": [],
   "source": [
    "testTemplate(\"\")"
   ]
  },
  {
   "cell_type": "markdown",
   "metadata": {},
   "source": [
    "\"templateの実験だよ。\"と表示されました。  \n",
    "カッコ`()`の中をブランクにするとエラーになります。\n",
    "\n",
    "namespaceを使わないと、次のようにひとつのファイルに書いても動く。"
   ]
  },
  {
   "cell_type": "code",
   "execution_count": null,
   "metadata": {},
   "outputs": [],
   "source": [
    "#include <iostream> \n",
    "template <typename T>\n",
    "void testTemplate(T x) {\n",
    "    std::cout << \"templateの実験だよ。\" << std::endl;\n",
    "}"
   ]
  },
  {
   "cell_type": "code",
   "execution_count": null,
   "metadata": {},
   "outputs": [],
   "source": [
    "testTemplate(3)"
   ]
  },
  {
   "cell_type": "markdown",
   "metadata": {},
   "source": [
    "templateの実験だよ。と表示されます。 とりあえずしばらくこれで行くか。  \n",
    "よくわからないが、別ファリウにしていちいちコピペするよりよいだろう。\n",
    "\n",
    "\n",
    "ネットを調べたら、引数がなくても関数が機能するための、パラメーターパックという書き方があるみたい。  \n",
    "ちょっと使ってみる。"
   ]
  },
  {
   "cell_type": "code",
   "execution_count": null,
   "metadata": {},
   "outputs": [],
   "source": [
    "#include <iostream> \n",
    "template <typename ...T>\n",
    "int testTemplate(void) {\n",
    "    std::cout << \"templateの実験だよ。\" << std::endl;\n",
    "    return 0;\n",
    "}"
   ]
  },
  {
   "cell_type": "code",
   "execution_count": null,
   "metadata": {},
   "outputs": [],
   "source": [
    "testTemplate()"
   ]
  },
  {
   "cell_type": "markdown",
   "metadata": {},
   "source": [
    "templateの実験だよ。と表示されました。  \n",
    "これって、すごく普通のmain.cppに近いかたちですよね。`()`と書くところを`(void)`と書くのと、templateが付いていることだけ違っている。"
   ]
  },
  {
   "cell_type": "code",
   "execution_count": 1,
   "metadata": {},
   "outputs": [
    {
     "data": {
      "text/plain": []
     },
     "execution_count": 1,
     "metadata": {},
     "output_type": "execute_result"
    }
   ],
   "source": [
    "#include <iostream> \n",
    "template <typename ...T>\n",
    "int testTemplate() {\n",
    "    std::cout << \"templateの実験だよ。\" << std::endl;\n",
    "    return 0;\n",
    "}"
   ]
  },
  {
   "cell_type": "code",
   "execution_count": 2,
   "metadata": {
    "scrolled": true
   },
   "outputs": [
    {
     "name": "stdout",
     "output_type": "stream",
     "text": [
      "templateの実験だよ。\n"
     ]
    },
    {
     "data": {
      "text/plain": [
       "(int) 0\n"
      ]
     },
     "execution_count": 2,
     "metadata": {},
     "output_type": "execute_result"
    }
   ],
   "source": [
    "testTemplate()"
   ]
  },
  {
   "cell_type": "markdown",
   "metadata": {},
   "source": [
    "`(void)`を`()`にしてもtemplateの実験だよ。と表示されました。  \n",
    "\n",
    "\n",
    "ということは\n",
    "```\n",
    "//hello02.cpp\n",
    "#include <iostream>\n",
    "template <typename ...T>\n",
    "int main() {\n",
    "    std::cout << \"hello world\\n \\t初めてのC++\" << std::endl;\n",
    "    return 0;\n",
    "}\n",
    "```\n",
    "として、これを読み込んだらどうなるか。  \n",
    "mainという名前ではダメと言われました。\n",
    "```\n",
    "//hello02.cpp\n",
    "#include <iostream>\n",
    "template <typename ...T>\n",
    "int hello() {\n",
    "    std::cout << \"hello world\\n \\t初めてのC++\" << std::endl;\n",
    "    return 0;\n",
    "}\n",
    "```\n",
    "としたら無事成功しました。"
   ]
  },
  {
   "cell_type": "code",
   "execution_count": 6,
   "metadata": {},
   "outputs": [
    {
     "data": {
      "text/plain": []
     },
     "execution_count": 6,
     "metadata": {},
     "output_type": "execute_result"
    }
   ],
   "source": [
    ".L ./mycpp/hello02.cpp"
   ]
  },
  {
   "cell_type": "code",
   "execution_count": 7,
   "metadata": {},
   "outputs": [
    {
     "name": "stdout",
     "output_type": "stream",
     "text": [
      "hello world\n",
      " \t初めてのC++\n"
     ]
    },
    {
     "data": {
      "text/plain": [
       "(int) 0\n"
      ]
     },
     "execution_count": 7,
     "metadata": {},
     "output_type": "execute_result"
    }
   ],
   "source": [
    "hello()"
   ]
  },
  {
   "cell_type": "markdown",
   "metadata": {},
   "source": [
    "まあいいか。  \n",
    "多少の制限は制限としてあとになって仕組みの理解に役立つかもしれない。  \n",
    "この程度にして先へ進もう。\n",
    "\n"
   ]
  }
 ],
 "metadata": {
  "kernelspec": {
   "display_name": "C++17",
   "language": "C++",
   "name": "cling-cpp17"
  },
  "language_info": {
   "codemirror_mode": "c++",
   "file_extension": ".c++",
   "mimetype": "text/x-c++src",
   "name": "c++"
  }
 },
 "nbformat": 4,
 "nbformat_minor": 2
}
