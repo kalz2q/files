{
 "cells": [
  {
   "cell_type": "markdown",
   "metadata": {},
   "source": [
    "# JupyterでC++をもっと学ぶ！！！\n",
    "ちょっとちがうかな。まあいいか。 learncpp.ipynbの続きでlearncpp02.ipynbというファイルです。\n",
    "\n",
    "JupyterのノートブックはJSONで書かれていて、開くときに解析されるので、ファイルが大きくなるとちょっと時間がかかる。  \n",
    "ファイル名をつけると自動で拡張子`.ipynb`がつく。  \n",
    "この意味は多分ipython notebookだね。  \n",
    "Jupyterはipython notebookの別名だということはそれはそれでいいのではないか、と思う。  \n",
    "別名になっていなければここでこうしてC++の勉強に使うということもやっっていなかったのではないか、と思ったりする。\n",
    "\n",
    "プログラミングはコードだけでなく周辺のいろいろが大事でそれを統一的にあつかえるのだからいい環境だと思います。  \n",
    "コメントに書く、という考え方もあるけど、そうではない。\n",
    "少なくともここなら数式を$\\rm\\LaTeX$で入れられたり、画像をいれたりすることができて、textだけではそうはいかない。\n",
    "\n",
    "あたらしく始めるに当たって、JupyterのC++環境の使い方をまとめておく。  \n",
    "たぶんすぐ陳腐化すると思うが、いい方に、変わっていくのであまり気にしない。\n",
    "\n",
    "1. セルに書いたC++のコードはCtrl-Enterで実行（評価）する。  \n",
    "2. C++の場合、セルごとに評価して行き、ときおり`Restart & Clear Output`する。\n",
    "3. 現在のC++(Clang上のClingが使われている)では、セルのなかに関数を複数持てなかったり、ほかにも不都合があるが、いくつかのセルにわけて同時に評価するとか、Classでくるむとか工夫すればなんとかなる。    \n",
    "\n",
    "具体的には、わたしの場合、`Restart & Clear Output`はキーボード・ショートカットで`g`にした。これはコマンドモードである必要があるので、`g`を押す前にEscを押す。かな漢字変換(fcitx mozc)からの脱出もEscにしているので、実際にはEscを2回押して確実にコマンドモードになってから`g`を押すことになる。Ubuntuのgnome-tweak-toolでCapsLockとEscをとりかえてあるので、CapsLock-CapsLock-gになる。\n",
    "\n",
    "これでいつでもまっさらな状態になるので快適です。\n",
    "\n",
    "### string\n",
    "C++で文字列を扱うのはポインターでもなく、配列でもなく、stringを使う、と聞いている。 \n",
    "よくわからない。#include <cstring>が配列で、#include <string>がstringで、stringでどんな関数があるのか。  \n",
    "まあいいか。ゆっくり学びましょう。  \n",
    "いずれにしても日本語、2バイト文字は別に考える必要がある。\n",
    "\n",
    "問題  \n",
    "次のプログラムはなにをしているのか。"
   ]
  },
  {
   "cell_type": "code",
   "execution_count": null,
   "metadata": {},
   "outputs": [],
   "source": [
    "#include <iostream>\n",
    "#include <string>\n",
    "#include <sstream>\n",
    "bool isvowel(char c) {\n",
    "    return(c=='a'||c=='e'||c=='i'||c=='o'||c=='u');\n",
    "}\n",
    "using namespace std;\n",
    "string s = \"Let's study C++ using Jupyter notebook!!!\";\n",
    "stringstream ss(s);\n",
    "string word;\n",
    "int k;\n",
    "while(ss >> word) {\n",
    "    k = word.find(\"t\");\n",
    "    if(k < word.length() && isvowel(word[k+1])) {\n",
    "        word.replace(k+1,0,\"eg\");\n",
    "    }\n",
    "    cout << word << ',';\n",
    "}"
   ]
  },
  {
   "cell_type": "markdown",
   "metadata": {},
   "source": [
    "`Let's,stegudy,C++,using,Jupyteger,notegebook!!!, `\n",
    "と出力します。  \n",
    "\n",
    "入力をwordに分解して、wordのなかに\"t\"があって、その次が母音だったら、その母音を\"eg\"に置換する。  \n",
    "結果をwordごとにカンマで区切って出力する。  \n",
    "ということをやっているみたいです。\n",
    "\n",
    "考えたこと\n",
    "1. stringstreamを使っておくと普通に標準入力を使った`cin`に書き直すのが楽。\n",
    "1. isvowelをstringのメソッドにできないか。word[k+1].isvowel()と書きたい。\n",
    "1. アウトプットの最後のカンマが余計である。\n",
    "1. 今回は関数が1つだが2つあるとセルが評価できない。ここでは関数は定義できません、というエラーになる。\n",
    "1. 関数定義のなかでstdが必要なときは、関数の中でusing namespace stad;と書く。関数の前に書くと、ここでは関数は定義できません、というエラーになる。\n",
    "1. find()関数のようなどんな関数があるのか。\n",
    "1. 2バイト文字対応もstringのままできそうな気がする。\n",
    "1. 配列に入れて、stringに戻したりできるのか。その方法で2バイト文字対応もできそうな気がする。\n",
    "1. いずれにせよすでに標準化された方法がありそうなので探す。\n",
    "1. at coderとかは入力、出力という形なのだけれど、その中に文字列系統があるか。数学問題ばかりか。\n",
    "1. 今回はstringでやったがテキストファイルから入力してやる形にするには`include <fstream>`を使う。\n",
    "1. 入力がwordに分解されるのはスペースが役割を持っているということ。"
   ]
  },
  {
   "cell_type": "markdown",
   "metadata": {},
   "source": [
    "### ファイルの入出力\n",
    "\n",
    "問題  \n",
    "\"\\\\ temp.txt\\n\\nこれは添付テキストです。\"という内容のinput.txtを\\mycpp\\内に作る。\n"
   ]
  },
  {
   "cell_type": "code",
   "execution_count": null,
   "metadata": {},
   "outputs": [],
   "source": [
    "#include <fstream>\n",
    "#include <string>\n",
    "using namespace std;\n",
    "string s = \"\\\\ input.txt\\n\\nこれはテンプテキストです。\";\n",
    "ofstream ofs(\"./mycpp/input.txt\");\n",
    "ofs << s << \"\\n\\n\\n\\nはてな。\" << endl;"
   ]
  },
  {
   "cell_type": "markdown",
   "metadata": {},
   "source": [
    "考えたこと\n",
    "1. 最後の << endl;がないとファイルは作られるが空っぽだった。endl;はただの改行ではなかったのか！！\n",
    "1. すでにファイルがあってもあたらしく作られてしまう。エラーにはならない。\n",
    "5. 読み込んで、appendして書きだせばいいのではないか。\n",
    "1. ま、とりあえず便利そう。\n",
    "\n",
    "考えるのはよいことだが、わからないことをくどくど考えても先へ進もう。\n",
    "\n",
    "問題  \n",
    "つぎのプログラムは何をしているのか。"
   ]
  },
  {
   "cell_type": "code",
   "execution_count": null,
   "metadata": {},
   "outputs": [],
   "source": [
    "#include <fstream>\n",
    "#include <iostream>\n",
    "#include <string>\n",
    "using namespace std;\n",
    "\n",
    "ifstream infile(\"./mycpp/input.txt\");\n",
    "ofstream outfile(\"./mycpp/output.txt\");\n",
    "\n",
    "string word;\n",
    "char c;\n",
    "\n",
    "while(infile >> word){\n",
    "    if (word[0] >= 'a' && word[0] <= 'z') {\n",
    "        word[0] += 'A' - 'a';\n",
    "    } \n",
    "    outfile << word;\n",
    "    infile.get(c);\n",
    "    outfile.put(c);\n",
    "}\n",
    "outfile << endl;"
   ]
  },
  {
   "cell_type": "markdown",
   "metadata": {},
   "source": [
    "えっと、infileからwordを取ってきて、outfileへ書き込む、という流れだけどなんか変。  \n",
    "そうすると、改行コードとか消えてしまうので、救おうとしてget(c)とかしているけど、while infile >> wordだから\\nがいくつあっても一つしか救われない。  \n",
    "そもそも日本語はどうword区切りしているかというとたぶんスペース区切りだから区切れていない。チェックするか。"
   ]
  },
  {
   "cell_type": "code",
   "execution_count": null,
   "metadata": {},
   "outputs": [],
   "source": [
    "#include <fstream>\n",
    "#include <iostream>\n",
    "#include <string>\n",
    "using namespace std;\n",
    "\n",
    "ifstream infile(\"./mycpp/input.txt\");\n",
    "\n",
    "string word;\n",
    "\n",
    "while(infile >> word){\n",
    "    cout << word << \",\" ;\n",
    "}\n",
    "cout << endl;"
   ]
  },
  {
   "cell_type": "markdown",
   "metadata": {},
   "source": [
    "ちぇっくするまでもなかったですね。思った通り、日本語は句読点があろうがなかろうが、おっとそう言ういみでは英語もピリオドは関係ないのですね。あくまでスペース区切りか。あと多分\\tとか\\nとかも区切りになっている。\n",
    "\n"
   ]
  },
  {
   "cell_type": "code",
   "execution_count": null,
   "metadata": {},
   "outputs": [],
   "source": [
    "#include <bits/stdc++.h>\n",
    "using namespace std;\n",
    "string s = \"this is a pen.\";\n",
    "int n = 3333;\n",
    "stringstream ss(s);\n",
    "ss << n;\n",
    "ss >> s;\n",
    "cout << ss.str() << endl;\n",
    "cout << s << endl;\n",
    "ss >> s;\n",
    "cout << s << endl;\n",
    "s = ss.str();\n",
    "cout << s << endl;"
   ]
  },
  {
   "cell_type": "markdown",
   "metadata": {},
   "source": [
    "`#include <bits/stdc++.h>`は全部まとめてインクルードしてくれます。\n",
    "\n",
    "上記のプログラムの結果は\n",
    "```\n",
    "3333 is a pen.\n",
    "3333\n",
    "is\n",
    "3333 is a pen.\n",
    "```\n",
    "でした。"
   ]
  },
  {
   "cell_type": "markdown",
   "metadata": {},
   "source": [
    "`utf8.h`というライブラリーを入れてみました。    \n",
    "使い方がわからない。  \n",
    "下記のプログラムは\n",
    "`Length of line C++は is 4`となって、無事文字数が数えられました。"
   ]
  },
  {
   "cell_type": "code",
   "execution_count": null,
   "metadata": {},
   "outputs": [],
   "source": [
    "#include <bits/stdc++.h>\n",
    "#include \"utf8.h\"\n",
    "using namespace std;\n",
    "string line = \"C++は\";\n",
    "\n",
    "int length = utf8::distance(line.begin(), line.end());\n",
    "cout << \"Length of line \" << line << \" is \" << length <<  \"\\n\";"
   ]
  },
  {
   "cell_type": "markdown",
   "metadata": {},
   "source": [
    "utf8_string.hppというのがあったので入れてみました。  \n",
    "簡単そうだけどエラーになってしまいます。残念。"
   ]
  },
  {
   "cell_type": "code",
   "execution_count": null,
   "metadata": {},
   "outputs": [],
   "source": [
    "/*\n",
    "#include <bits/stdc++.h>\n",
    "#include \"utf8_string.hpp\"\n",
    "using namespace std;\n",
    "\n",
    "UTF8string s(\"C++は\");\n",
    "s.utf8_length();\n",
    "*/"
   ]
  },
  {
   "cell_type": "code",
   "execution_count": null,
   "metadata": {},
   "outputs": [],
   "source": [
    "#include <bits/stdc++.h>\n",
    "using namespace std;\n",
    "\n",
    "string s=\"ABCDEFG\";\n",
    "int n=33;\n",
    "double x=2.718;\n",
    "stringstream ss;\n",
    "cout << ss.str() << endl;\n",
    "ss << \" s = \" <<  s;\n",
    "cout << ss.str() << endl;\n",
    "ss << \" n = \" << n;\n",
    "cout << ss.str() << endl;\n",
    "ss << \" x = \" << x;\n",
    "cout << ss.str() << endl;"
   ]
  },
  {
   "cell_type": "markdown",
   "metadata": {},
   "source": [
    "```\n",
    "s = ABCDEFG\n",
    "s = ABCDEFG n = 33\n",
    "s = ABCDEFG n = 33 x = 2.718\n",
    "```\n",
    "と出力されます。"
   ]
  },
  {
   "cell_type": "markdown",
   "metadata": {},
   "source": [
    "### ベクター\n",
    "find()関数はベクターの成分を探すのに用いられる。"
   ]
  },
  {
   "cell_type": "code",
   "execution_count": null,
   "metadata": {},
   "outputs": [],
   "source": [
    "/*\n",
    "#include <bits/stdc++.h>\n",
    "typedef vector<string> Strings;\n",
    "typedef Strings::iterator Sit;\n",
    "\n",
    "void load(Strings& v)\n",
    "{\n",
    "    v.push back(\"Japan\");\n",
    "    v.push back(\"America\");\n",
    "    v.push back(\"Austria\");\n",
    "    v.push back(\"Germany\");\n",
    "    v.push back(\"England\");\n",
    "    v.push back(\"Italy\");\n",
    "    v.push back(\"Spain\");\n",
    "    v.push back(\"Korea\");\n",
    "}\n",
    "\n",
    "using namespace std;\n",
    "Strings v;\n",
    "load(v);\n",
    "for(Sit it=v.begin(); it != v.end(); it++){\n",
    "    cout << *it << endl;\n",
    "}\n",
    "cout << endl;\n",
    "Sit japan=find(v.begin(),v.end(),\"Japan\");\n",
    "Sit spain=find(v.begin(),v.end(),\"Spain\");\n",
    "sort(japan,spain);\n",
    "for(Sit it=v.begin(); it != v.end(); it++){\n",
    "    cout << *it << endl;\n",
    "}\n",
    "cout << endl;\n",
    "*/\n"
   ]
  },
  {
   "cell_type": "markdown",
   "metadata": {},
   "source": [
    "\"C++ Primer, Fifth Edition\"に戻ります。  "
   ]
  },
  {
   "cell_type": "code",
   "execution_count": null,
   "metadata": {
    "scrolled": true
   },
   "outputs": [],
   "source": [
    "#include <bits/stdc++.h>\n",
    "#include \"./mycpp/Sales_data.h\"\n",
    "using namespace std;\n",
    "\n",
    "Sales_data data1, data2;\n",
    "string s = \n",
    "\" 0-201-78345-X 3 20.00 0-201-78345-X 2 25.00\";\n",
    "double price;\n",
    "stringstream ss(s);\n",
    "\n",
    "ss >> data1.bookNo >> data1.units_sold >> price;\n",
    "data1.revenue = data1.units_sold * price;\n",
    "\n",
    "ss >> data2.bookNo >> data2.units_sold >> price;\n",
    "data2.revenue = data2.units_sold * price;\n",
    "\n",
    "if (data1.bookNo == data2.bookNo) {\n",
    "    unsigned totalCnt = data1.units_sold + data2.units_sold;\n",
    "    double totalRevenue = data1.revenue + data2.revenue;\n",
    "    // print: ISBN, total sold, total revenue, average price per book\n",
    "    std::cout << data1.bookNo << \" \" << totalCnt\n",
    "        << \" \" << totalRevenue << \" \";\n",
    "    if (totalCnt != 0)\n",
    "        std::cout << totalRevenue/totalCnt << std::endl;\n",
    "    else\n",
    "        std::cout << \"(no sales)\" << std::endl;\n",
    "    return 0; // indicate success\n",
    "} else {  // transactions weren't for the same ISBN\n",
    "    std::cerr << \"Data must refer to the same ISBN\"\n",
    "        << std::endl;\n",
    "    return -1; // indicate failure\n",
    "}\n"
   ]
  },
  {
   "cell_type": "markdown",
   "metadata": {},
   "source": [
    "```\n",
    "0-201-78345-X 5 110 22\n",
    "(int) 0\n",
    "```\n",
    "と出力されています。\n",
    "\n",
    "考えたこと。\n",
    "1. string s = \" ... \"でデータを用意するのは見えてよいのだが、改行したり、見やすくできるかどうか。\n",
    "1. Sales_data.hの内容を書いておく必要がある。\n",
    "1. 合計は関数化したい。total = data1 + data2; total.cout();とか。\n",
    "\n",
    "Sales_data.h\n",
    "```\n",
    "#ifndef SALES_DATA_H\n",
    "#define SALES_DATA_H\n",
    "\n",
    "#include <string>\n",
    "\n",
    "struct Sales_data {\n",
    "\tstd::string bookNo;\n",
    "\tunsigned units_sold = 0;\n",
    "\tdouble revenue = 0.0;\n",
    "};\n",
    "#endif\n",
    "```\n",
    "考えたこと。\n",
    "1. SALES_DATA_Hとは何か。マクロか。定数か。 -> ヘッダーのダブリを防止するためにpreprocessorに出す指令#ifndef #define #endifで使う。\n",
    "1. structとは何か。classと何が違うのか。\n",
    "1. こんなヘッダーは必要なのか。なぜプログラムの中に書かないのか。\n"
   ]
  },
  {
   "cell_type": "markdown",
   "metadata": {},
   "source": [
    "### vector"
   ]
  },
  {
   "cell_type": "code",
   "execution_count": null,
   "metadata": {},
   "outputs": [],
   "source": [
    "#include <bits/stdc++.h>\n",
    "using namespace std;\n",
    "vector<int> v2;\n",
    "for (int i = 0; i != 100; ++i)\n",
    "    v2.push_back(i);\n",
    "v2;"
   ]
  },
  {
   "cell_type": "markdown",
   "metadata": {},
   "source": [
    "```\n",
    "(std::vector<int> &) { 0, 1, 2, 3, 4, 5, 6, 7, 8, 9, 10, 11, 12, 13, 14, 15, 16, 17, 18, 19, 20, 21, 22, 23, 24, 25, 26, 27, 28, 29, 30, 31, 32, 33, 34, 35, 36, 37, 38, 39, 40, 41, 42, 43, 44, 45, 46, 47, 48, 49, 50, 51, 52, 53, 54, 55, 56, 57, 58, 59, 60, 61, 62, 63, 64, 65, 66, 67, 68, 69, 70, 71, 72, 73, 74, 75, 76, 77, 78, 79, 80, 81, 82, 83, 84, 85, 86, 87, 88, 89, 90, 91, 92, 93, 94, 95, 96, 97, 98, 99 }\n",
    "```\n",
    "と表示されました。\n",
    "\n",
    "vectorって{ }なんですね。直接書けるのかな。"
   ]
  },
  {
   "cell_type": "code",
   "execution_count": null,
   "metadata": {},
   "outputs": [],
   "source": [
    "#include <bits/stdc++.h>\n",
    "using namespace std;\n",
    "vector<int> v3 = { 1, 2, 3 };\n",
    "v3;"
   ]
  },
  {
   "cell_type": "markdown",
   "metadata": {},
   "source": [
    "`(std::vector<int> &) { 1, 2, 3 }` と出力されました。"
   ]
  },
  {
   "cell_type": "code",
   "execution_count": null,
   "metadata": {},
   "outputs": [],
   "source": [
    "#include <bits/stdc++.h>\n",
    "using namespace std;\n",
    "vector<int> v4{ 1, 2, 3 };\n",
    "v4;"
   ]
  },
  {
   "cell_type": "code",
   "execution_count": null,
   "metadata": {},
   "outputs": [],
   "source": [
    "`(std::vector<int> &) { 1, 2, 3 }` と出力されました。  \n",
    "これも問題ないみたい。"
   ]
  },
  {
   "cell_type": "code",
   "execution_count": null,
   "metadata": {},
   "outputs": [],
   "source": [
    "#include <bits/stdc++.h>\n",
    "using namespace std;\n",
    "string s = \n",
    "\" this \\n is a dummy file \\n this is a pen.\\n\";\n",
    "stringstream ss(s);\n",
    "\n",
    "string line;\n",
    "while(getline(ss, line))\n",
    "  cout << line << endl;\n"
   ]
  },
  {
   "cell_type": "markdown",
   "metadata": {},
   "source": [
    "```\n",
    "this \n",
    "is a dummy file \n",
    "this is a pen.\n",
    "```\n",
    "と出力されました。"
   ]
  },
  {
   "cell_type": "code",
   "execution_count": null,
   "metadata": {},
   "outputs": [],
   "source": [
    "#include <bits/stdc++.h>\n",
    "using namespace std;\n",
    "string s = \n",
    "\" 空行\\n\\n\\n\\nがたくさんあるふぁいる\\n\\n\\n\\n this is a pen.\\n\";\n",
    "stringstream ss(s);\n",
    "\n",
    "string line;\n",
    "while(getline(ss, line))\n",
    "  if (!line.empty())\n",
    "    cout << line << endl;\n"
   ]
  },
  {
   "cell_type": "markdown",
   "metadata": {},
   "source": [
    "```\n",
    " 空行\n",
    "がたくさんあるふぁいる\n",
    " this is a pen.\n",
    "```\n",
    "と表示されました。"
   ]
  },
  {
   "cell_type": "code",
   "execution_count": null,
   "metadata": {},
   "outputs": [],
   "source": [
    "#include <bits/stdc++.h>\n",
    "using namespace std;\n",
    "string s = \"this\";\n",
    "auto len = s.size();\n",
    "len"
   ]
  },
  {
   "cell_type": "markdown",
   "metadata": {},
   "source": [
    "`(unsigned long) 4`と表示されました。"
   ]
  },
  {
   "cell_type": "code",
   "execution_count": null,
   "metadata": {},
   "outputs": [],
   "source": [
    "#include <bits/stdc++.h>\n",
    "using namespace std;\n",
    "string arr[] = {\"Hello\", \"Hello World\", \"Hiya\"};\n",
    "vector<string> v = {\"Hello\", \"Hello World\", \"Hiya\", \"Apple\"};\n",
    "std::sort(v.begin(),v.end());\n",
    "v"
   ]
  },
  {
   "cell_type": "markdown",
   "metadata": {},
   "source": [
    "`(std::vector<std::string> &) { \"Apple\", \"Hello\", \"Hello World\", \"Hiya\" }`と表示されました。\n",
    "\n",
    "ほう。sortは、こういうふうに使うのか。  "
   ]
  },
  {
   "cell_type": "code",
   "execution_count": null,
   "metadata": {},
   "outputs": [],
   "source": [
    "#include <bits/stdc++.h>\n",
    "using namespace std;\n",
    "string s1 = \"hello\";\n",
    "string s2 = s1 + \", world\"; // ok なぜならs1はstringで+メソッドを持っているから\n",
    "// string s3 = \"hello\" + \", world\"; \n",
    "// error なぜなら\"hello\"はstringではなく、string literalであって、string literalは今のところ+メソッドを持っていない\n",
    "//  error: invalid operands to binary expression ('const char *' and 'const char *')\n",
    "// というメッセージが出る。意味不明。"
   ]
  },
  {
   "cell_type": "markdown",
   "metadata": {},
   "source": [
    "### Range-Based For\n",
    "`for (declaration : expression)`の形で使う。とあるけど、これって何。  \n",
    "なんか知っている概念のような気がする。  ほかの言語では普通にあるけど、いままでCにはなかったとか。  \n",
    "コードをみればわかるだろう。"
   ]
  },
  {
   "cell_type": "code",
   "execution_count": null,
   "metadata": {},
   "outputs": [],
   "source": [
    "#include <bits/stdc++.h>\n",
    "using namespace std;\n",
    "string str(\"some string\");\n",
    "for (auto c : str)\n",
    "    cout << c << endl;"
   ]
  },
  {
   "cell_type": "markdown",
   "metadata": {},
   "source": [
    "各文字's', 'o', 'm', 'e', ' ', 's', 't', 'r', 'i', 'n', 'g'が一行に一文字ずつ出力されました。  \n",
    "ためしに日本語でやってみたら文字化けした。\n",
    "\n",
    "問題  \n",
    "文字列の句読点の数を数える。"
   ]
  },
  {
   "cell_type": "code",
   "execution_count": null,
   "metadata": {},
   "outputs": [],
   "source": [
    "#include <bits/stdc++.h>\n",
    "using namespace std;\n",
    "string s(\"Hello World!!!\");\n",
    "decltype(s.size()) punct_cnt = 0;\n",
    "for (auto c : s)\n",
    "    if (ispunct(c))\n",
    "        ++punct_cnt;\n",
    "cout << punct_cnt << \" punctuation characters in \" << s << endl;"
   ]
  },
  {
   "cell_type": "markdown",
   "metadata": {},
   "source": [
    "`3 punctuation characters in Hello World!!!`と出力されました。  \n",
    "decltypeの意味は、intかunsignedかわからないので、size()のtypeを使ってね、ということか。  \n",
    "autoもそんなところかな。\n",
    "auto&にしても同じか。 -> 同じでした。auto&&にしても結果は同じ。"
   ]
  },
  {
   "cell_type": "code",
   "execution_count": null,
   "metadata": {},
   "outputs": [],
   "source": [
    "#include <bits/stdc++.h>\n",
    "using namespace std;\n",
    "string s(\"Hello World!!!\");\n",
    "decltype(s.size()) punct_cnt = 0;\n",
    "for (auto&& c : s)\n",
    "    if (ispunct(c))\n",
    "        ++punct_cnt;\n",
    "cout << punct_cnt << \" punctuation characters in \" << s << endl;"
   ]
  },
  {
   "cell_type": "markdown",
   "metadata": {},
   "source": [
    "問題  \n",
    "文字列をすべて大文字にする。"
   ]
  },
  {
   "cell_type": "code",
   "execution_count": null,
   "metadata": {},
   "outputs": [],
   "source": [
    "#include <bits/stdc++.h>\n",
    "using namespace std;\n",
    "string s(\"Hello World!!!\");\n",
    "for (auto& c : s)\n",
    "    if (ispunct(c))\n",
    "        ++punct_cnt;\n",
    "cout << punct_cnt << \" punctuation characters in \" << s << endl;"
   ]
  },
  {
   "cell_type": "code",
   "execution_count": null,
   "metadata": {},
   "outputs": [],
   "source": [
    "#include <bits/stdc++.h>\n",
    "using namespace std;\n",
    "string s(\"Hello World!!!\");\n",
    "for (auto& c : s)\n",
    "    c = toupper(c);\n",
    "cout << s << endl;"
   ]
  },
  {
   "cell_type": "markdown",
   "metadata": {},
   "source": [
    "`HELLO WORLD!!!`と出力されました。  \n",
    "日本語をまぜてもとくにエラーにはならずにアルファベットだけ大文字になりました。"
   ]
  },
  {
   "cell_type": "code",
   "execution_count": null,
   "metadata": {
    "scrolled": true
   },
   "outputs": [],
   "source": [
    "#include <bits/stdc++.h>\n",
    "using namespace std;\n",
    "string s(\"Hello World!!!\");\n",
    "if (!s.empty())\n",
    "    cout << s[0] << endl;"
   ]
  },
  {
   "cell_type": "markdown",
   "metadata": {},
   "source": [
    "`H`が出力されます。`if (!s.empty())`はstringがカラでないことの確認。\n",
    "\n",
    "質問  \n",
    "もしカラならどうなりますか。 -> エラーにはならなかった。空行が出力された。  \n",
    "インデックスがstringの長さより大きい場合はどうなりますか。-> 空行が出力された。  \n",
    "日本語はどうなりますか。 -> 文字化けします。  \n",
    "coutがstirngでもcharでも数字でも対応するのはどういう仕組みですか。formatはできるのですか。"
   ]
  },
  {
   "cell_type": "code",
   "execution_count": null,
   "metadata": {},
   "outputs": [],
   "source": [
    "#include <bits/stdc++.h>\n",
    "using namespace std;\n",
    "string s(\"some string\");\n",
    "if (!s.empty())\n",
    "    s[0] = toupper(s[0]);\n",
    "cout << s << endl;"
   ]
  },
  {
   "cell_type": "markdown",
   "metadata": {},
   "source": [
    "`Some string`と出力されました。\n",
    "\n",
    "### iteration\n",
    "\n",
    "問題  \n",
    "`some string`の最初の単語だけ大文字にする。"
   ]
  },
  {
   "cell_type": "code",
   "execution_count": null,
   "metadata": {},
   "outputs": [],
   "source": [
    "#include <bits/stdc++.h>\n",
    "using namespace std;\n",
    "string s(\"some string\");\n",
    "for (decltype(s.size()) index = 0;index != s.size() && !isspace(s[index]); ++index)\n",
    "    s[index] = toupper(s[index]);\n",
    "s"
   ]
  },
  {
   "cell_type": "markdown",
   "metadata": {},
   "source": [
    "`SOME string`と出力されます。\n",
    "\n",
    "問題  \n",
    "0から15までの数を16進法表記する。"
   ]
  },
  {
   "cell_type": "code",
   "execution_count": null,
   "metadata": {},
   "outputs": [],
   "source": [
    "#include <bits/stdc++.h>\n",
    "using namespace std;\n",
    "string s(\"12 0 5 15 8 15\");\n",
    "stringstream ss(s);\n",
    "const string hexdigits = \"0123456789ABCDEF\"; \n",
    "string result;\n",
    "string::size_type n;\n",
    "while (ss >> n)\n",
    "    if (n < hexdigits.size())\n",
    "        result += hexdigits[n];\n",
    "cout << \"Your hex number is: \" << result << endl;"
   ]
  },
  {
   "cell_type": "markdown",
   "metadata": {},
   "source": [
    "`Your hex number is: C05F8F`と表示されました。"
   ]
  },
  {
   "cell_type": "code",
   "execution_count": null,
   "metadata": {},
   "outputs": [],
   "source": [
    "#include <bits/stdc++.h>\n",
    "using namespace std;\n",
    "const string s = \"Keep out!\";\n",
    "for (auto &c : s)\n",
    "    cout << c ;\n",
    "cout << endl;"
   ]
  },
  {
   "cell_type": "markdown",
   "metadata": {},
   "source": [
    "`Keep out!`と表示されました。"
   ]
  },
  {
   "cell_type": "markdown",
   "metadata": {},
   "source": [
    "### vector\n",
    "vectorはtemplateでtypeではない。  \n",
    "`<>`で何のvectorを作りたいか指示する。\n",
    "```\n",
    "vector<int> ivec;             // ivec holds objects of type int\n",
    "vector<Sales_item> Sales_vec; // holds Sales_items\n",
    "vector<vector<string>> file;  // vector whose elements are vectors\n",
    "```"
   ]
  },
  {
   "cell_type": "code",
   "execution_count": null,
   "metadata": {},
   "outputs": [],
   "source": [
    "#include <bits/stdc++.h>\n",
    "using namespace std;\n",
    "vector<string> v8{10, \"hi\"};\n",
    "v8"
   ]
  },
  {
   "cell_type": "markdown",
   "metadata": {},
   "source": [
    "`(std::vector<std::string> &) { \"hi\", \"hi\", \"hi\", \"hi\", \"hi\", \"hi\", \"hi\", \"hi\", \"hi\", \"hi\" }` となりました。\n"
   ]
  },
  {
   "cell_type": "code",
   "execution_count": null,
   "metadata": {},
   "outputs": [],
   "source": [
    "#include <bits/stdc++.h>\n",
    "using namespace std;\n",
    "\n",
    "vector<vector<int>> ivec;\n",
    "// vector<string> svec = ivec;\n",
    "vector<string> svec(10, \"null\");"
   ]
  },
  {
   "cell_type": "code",
   "execution_count": null,
   "metadata": {},
   "outputs": [],
   "source": [
    "#include <bits/stdc++.h>\n",
    "using namespace std;\n",
    "\n",
    "vector<int> v2;\n",
    "for (int i = 0; i != 100; ++i)\n",
    "    v2.push_back(i);\n",
    "v2"
   ]
  },
  {
   "cell_type": "markdown",
   "metadata": {},
   "source": [
    "{ 0, 1, $\\dots$, 99 } がひょうじされました。"
   ]
  },
  {
   "cell_type": "code",
   "execution_count": null,
   "metadata": {},
   "outputs": [],
   "source": [
    "#include <bits/stdc++.h>\n",
    "using namespace std;\n",
    "string word;\n",
    "vector<string> text;\n",
    "string s = \"This is a pen. これはペンです。\";\n",
    "stringstream ss(s);\n",
    "while (ss >>word) {\n",
    "    text.push_back(word);\n",
    "}\n",
    "text;"
   ]
  },
  {
   "cell_type": "markdown",
   "metadata": {},
   "source": [
    "`{ \"This\", \"is\", \"a\", \"pen.\", \"これはペンです。\" }`と表示されました。"
   ]
  },
  {
   "cell_type": "code",
   "execution_count": null,
   "metadata": {},
   "outputs": [],
   "source": [
    "#include <bits/stdc++.h>\n",
    "using namespace std;\n",
    "\n",
    "vector<int> v{1,2,3,4,5,6,7,8,9};\n",
    "for (auto &i : v)\n",
    "    i *= i;\n",
    "for (auto i : v)\n",
    "    cout << i << \" \";\n",
    "cout << endl;"
   ]
  },
  {
   "cell_type": "markdown",
   "metadata": {},
   "source": [
    "`1 4 9 16 25 36 49 64 81 `と出力されました。"
   ]
  },
  {
   "cell_type": "markdown",
   "metadata": {},
   "source": [
    "問題  \n",
    "100点満点のテストで結果を10点刻みのクラスターにわける。"
   ]
  },
  {
   "cell_type": "code",
   "execution_count": null,
   "metadata": {},
   "outputs": [],
   "source": [
    "#include <bits/stdc++.h>\n",
    "using namespace std;\n",
    "string s = \"42 65 95 100 39 67 95 76 88 76 83 92 76 93\";\n",
    "stringstream ss(s);\n",
    "\n",
    "vector<unsigned> scores(11, 0);\n",
    "unsigned grade;\n",
    "while (ss >> grade) {\n",
    "    if (grade <= 100)\n",
    "        ++scores[grade/10];\n",
    "}\n",
    "scores;"
   ]
  },
  {
   "cell_type": "markdown",
   "metadata": {},
   "source": [
    "` { 0, 0, 0, 1, 1, 0, 2, 3, 2, 4, 1 }`と表示されました。"
   ]
  },
  {
   "cell_type": "code",
   "execution_count": null,
   "metadata": {},
   "outputs": [],
   "source": [
    "#include <bits/stdc++.h>\n",
    "using namespace std;\n",
    "vector<int> ivec;\n",
    "for (decltype(ivec.size()) ix = 0; ix != 10; ++ix)\n",
    "    ivec.push_back(ix);\n",
    "ivec;"
   ]
  },
  {
   "cell_type": "code",
   "execution_count": null,
   "metadata": {},
   "outputs": [],
   "source": [
    "`{ 0, 1, 2, 3, 4, 5, 6, 7, 8, 9 }`と表示されました。"
   ]
  },
  {
   "cell_type": "code",
   "execution_count": null,
   "metadata": {},
   "outputs": [],
   "source": [
    "#include <bits/stdc++.h>\n",
    "using namespace std;\n",
    "\n",
    "vector<int> ivec2(10);\n",
    "ivec2;"
   ]
  },
  {
   "cell_type": "markdown",
   "metadata": {},
   "source": [
    "`{ 0, 0, 0, 0, 0, 0, 0, 0, 0, 0 }`と表示されました。\n",
    "\n",
    "問題  \n",
    "数字をvectorに入れ、隣と2つずつの和を表示する。\n",
    "\n",
    "問題  \n",
    "数字をvectorに入れ、最初から順番に最後から順番の数と合計して表示する。\n",
    "\n",
    "問題  \n",
    "最初の文字だけ大文字にするプログラムをiteratorを使って書き直す。"
   ]
  },
  {
   "cell_type": "code",
   "execution_count": null,
   "metadata": {},
   "outputs": [],
   "source": [
    "#include <bits/stdc++.h>\n",
    "using namespace std;\n",
    "string s(\"some string\");\n",
    "if (s.begin() != s.end()){\n",
    "    auto it = s.begin();\n",
    "    *it = toupper(*it);\n",
    "}\n",
    "s"
   ]
  },
  {
   "cell_type": "markdown",
   "metadata": {},
   "source": [
    "`Some string`と表示されました。\n",
    "\n",
    "問題  \n",
    "最初の単語だけ大文字にするプログラムをiteratorを使って書き直す。"
   ]
  },
  {
   "cell_type": "code",
   "execution_count": null,
   "metadata": {},
   "outputs": [],
   "source": [
    "#include <bits/stdc++.h>\n",
    "using namespace std;\n",
    "string s(\"some string\");\n",
    "if (s.begin() != s.end()){\n",
    "    for (auto it = s.begin(); it != s.end() && !isspace(*it); ++it)\n",
    "        *it = toupper(*it);\n",
    "}\n",
    "s"
   ]
  },
  {
   "cell_type": "markdown",
   "metadata": {},
   "source": [
    "`SOME string`と表示されました。\n",
    "\n",
    "次のコードはテキストの空行までを表示するものです。矢印表記（アロー表記）を使っています。  \n",
    "`(*it).empty()`を`it -> empty()`と表記できます。"
   ]
  },
  {
   "cell_type": "code",
   "execution_count": null,
   "metadata": {},
   "outputs": [],
   "source": [
    "/*\n",
    "for (auto it = text.cbegin();it != text.cend() && !it->empty(); ++it)\n",
    "    cout << *it << endl;\n",
    "*/"
   ]
  },
  {
   "cell_type": "markdown",
   "metadata": {},
   "source": [
    "vector viの中央値の計算方法\n",
    "```\n",
    "auto mid = vi.begin() + vi.size() / 2;\n",
    "```"
   ]
  },
  {
   "cell_type": "code",
   "execution_count": null,
   "metadata": {},
   "outputs": [],
   "source": [
    "#include <bits/stdc++.h>\n",
    "using namespace std;\n",
    "string s(\"0123456789\");\n",
    "auto mid = s.begin() + s.size() / 2;\n",
    "cout << *mid << endl;"
   ]
  },
  {
   "cell_type": "code",
   "execution_count": null,
   "metadata": {},
   "outputs": [],
   "source": [
    "`5`が表示されました。出力されました。\n",
    "\n",
    "問題  \n",
    "イテレーターを用いてバイナリーサーチをプログラムする。"
   ]
  },
  {
   "cell_type": "code",
   "execution_count": null,
   "metadata": {},
   "outputs": [],
   "source": [
    "#include <bits/stdc++.h>\n",
    "using namespace std;\n",
    "vector<string> text = {\"This\", \"is\", \"an\", \"apple\"};\n",
    "sort(text.begin(), text.end());\n",
    "string sought = \"an\";\n",
    "\n",
    "auto beg = text.begin(), end = text.end();\n",
    "auto mid = text.begin() + (end - beg)/2;\n",
    "\n",
    "while (mid != end && *mid != sought) {\n",
    "    if (sought < *mid)\n",
    "        end = mid;\n",
    "    else\n",
    "        beg = mid + 1;\n",
    "    mid = beg + (end - beg)/2;  // new midpoint\n",
    "}\n",
    "cout << *mid << endl;"
   ]
  },
  {
   "cell_type": "code",
   "execution_count": null,
   "metadata": {},
   "outputs": [],
   "source": [
    "#include <bits/stdc++.h>\n",
    "using namespace std;\n",
    "vector<string> v = {\"あ\", \"い\"}"
   ]
  },
  {
   "cell_type": "code",
   "execution_count": null,
   "metadata": {},
   "outputs": [],
   "source": [
    "v.size()"
   ]
  },
  {
   "cell_type": "code",
   "execution_count": null,
   "metadata": {},
   "outputs": [],
   "source": [
    "/*\n",
    "#include <bits/stdc++.h>\n",
    "using namespace std;\n",
    "string s = \n",
    "\"あいう\";\n",
    "stringstream ss(s);\n",
    "char c;\n",
    "while(ss.get(c)){\n",
    "  cout << c << endl;\n",
    "};\n",
    "cout << endl;\n",
    "*/"
   ]
  },
  {
   "cell_type": "markdown",
   "metadata": {},
   "source": [
    "次の3つのutf8の文字を一文字ずつ取り出すプログラムは何をしているのか。  \n",
    "思うに、charで取り出して、0x80以下なら1バイトとか、の0x80はどこに入っているのですか。  \n"
   ]
  },
  {
   "cell_type": "code",
   "execution_count": null,
   "metadata": {},
   "outputs": [],
   "source": [
    "#include <bits/stdc++.h>\n",
    "void print_each_char(std::string str)\n",
    "{\n",
    "    using namespace std;\n",
    "\n",
    "    int pos;\n",
    "    unsigned char lead; \n",
    "    int char_size;\n",
    "\n",
    "   for (pos = 0; pos < str.size(); pos += char_size) {\n",
    "   \n",
    "        lead = str[pos];\n",
    "\n",
    "        if (lead < 0x80) {\n",
    "            char_size = 1;\n",
    "        } else if (lead < 0xE0) {\n",
    "            char_size = 2;\n",
    "        } else if (lead < 0xF0) {\n",
    "            char_size = 3;\n",
    "        } else {\n",
    "            char_size = 4;\n",
    "        }\n",
    "\n",
    "        cout << str.substr(pos, char_size) << '\\n';\n",
    "    }\n",
    "\n",
    "}\n",
    "\n",
    "\n",
    "    using namespace std;\n",
    "    string str = \"abあc\";\n",
    "    print_each_char(str);\n"
   ]
  },
  {
   "cell_type": "code",
   "execution_count": null,
   "metadata": {},
   "outputs": [],
   "source": [
    "//iteratorversion\n",
    "#include <bits/stdc++.h>\n",
    "void print_each_char(std::string str)\n",
    "{\n",
    "    using namespace std;\n",
    "\n",
    "    unsigned char lead; \n",
    "    int char_size = 0;\n",
    "\n",
    "    for (string::iterator it = str.begin(); it != str.end(); it += char_size) {\n",
    "\n",
    "        lead = *it;\n",
    "\n",
    "        if (lead < 0x80) {\n",
    "            char_size = 1;\n",
    "        } else if (lead < 0xE0) {\n",
    "            char_size = 2;\n",
    "        } else if (lead < 0xF0) {\n",
    "            char_size = 3;\n",
    "        } else {\n",
    "            char_size = 4;\n",
    "        }\n",
    "\n",
    "        cout << str.substr(distance(str.begin(), it), char_size) << '\\n';\n",
    "\n",
    "    }\n",
    "\n",
    "}\n",
    "\n",
    "\n",
    "    using namespace std;\n",
    "    string str = \"abあc\";\n",
    "    print_each_char(str);\n"
   ]
  },
  {
   "cell_type": "code",
   "execution_count": null,
   "metadata": {
    "scrolled": true
   },
   "outputs": [],
   "source": [
    "//tupple version\n",
    "#include <bits/stdc++.h>\n",
    "\n",
    "\n",
    "std::tuple<std::string, int> utf8_next_char(std::string str, int str_size, int pos)\n",
    "{\n",
    "    using namespace std;\n",
    "    unsigned char c;\n",
    "\n",
    "    string buf;\n",
    "    int buf_size;\n",
    "\n",
    "    if (pos >= str_size) {\n",
    "        return make_tuple(u8\"?\", pos);\n",
    "    }\n",
    "\n",
    "    c = str[pos];\n",
    "\n",
    "    if (c < 0x80) {\n",
    "        buf_size = 1;\n",
    "    } else if (c < 0xE0) {\n",
    "        buf_size = 2;\n",
    "    } else if (c < 0xF0){\n",
    "        buf_size = 3;\n",
    "    } else {\n",
    "        buf_size = 4;\n",
    "    }\n",
    "\n",
    "    buf = str.substr(pos, buf_size);\n",
    "\n",
    "    return  make_tuple(buf, buf_size);\n",
    "}\n",
    "\n",
    "using namespace std;\n",
    "\n",
    "    string str = u8\"あいうえお\";\n",
    "    tuple<string, int> t;\n",
    "    int str_size = str.size();\n",
    "\n",
    "    int pos = 0;\n",
    "    string buf;\n",
    "    int buf_size = 0;\n",
    "\n",
    "    for (int pos = 0; pos < str_size; pos += buf_size) {\n",
    "        t = utf8_next_char(str, str_size, pos);\n",
    "        buf = get<0>(t);\n",
    "        buf_size = get<1>(t);\n",
    "        cout << buf << '\\n';\n",
    "    }\n"
   ]
  },
  {
   "cell_type": "code",
   "execution_count": null,
   "metadata": {},
   "outputs": [],
   "source": [
    "/*\n",
    "#include <bits/stdc++.h>\n",
    "using namespace std;\n",
    "wchar_t c = 'あ';\n",
    "*/"
   ]
  },
  {
   "cell_type": "code",
   "execution_count": null,
   "metadata": {
    "scrolled": true
   },
   "outputs": [],
   "source": [
    "#include <bits/stdc++.h>\n",
    "using namespace std;\n",
    "string s = \"Aあ\";\n",
    "cout << \"s.length() = \" << s.length() << endl;\n",
    "s.substr(1,1)"
   ]
  },
  {
   "cell_type": "markdown",
   "metadata": {},
   "source": [
    "問題  \n",
    "utf8の文字列をvectorに格納する。"
   ]
  },
  {
   "cell_type": "code",
   "execution_count": null,
   "metadata": {},
   "outputs": [],
   "source": [
    "#include <bits/stdc++.h>\n",
    "using namespace std;\n",
    "string s = \"aあnんbい\";\n",
    "vector<string> v;\n",
    "unsigned char lead; \n",
    "int char_size;\n",
    "int pos ;\n",
    "for (pos = 0; pos < s.size(); pos += char_size) {\n",
    "    lead = s[pos];\n",
    "    if (lead < 0x80) {\n",
    "    char_size = 1;\n",
    "    } else if (lead < 0xE0) {\n",
    "        char_size = 2;\n",
    "    } else if (lead < 0xF0) {\n",
    "        char_size = 3;\n",
    "    } else {\n",
    "        char_size = 4;\n",
    "    }\n",
    "   v.push_back(s.substr(pos,char_size));\n",
    "\n",
    "};\n",
    "v"
   ]
  },
  {
   "cell_type": "markdown",
   "metadata": {},
   "source": [
    "`(std::vector<std::string> &) { \"a\", \"あ\", \"n\", \"ん\", \"b\", \"い\" }`と表示されました。\n",
    "\n",
    "rane-based forは使えないだろうか。\n",
    "```\n",
    "for (auto c : str)\n",
    "    cout << c << endl;\n",
    "```"
   ]
  },
  {
   "cell_type": "code",
   "execution_count": null,
   "metadata": {},
   "outputs": [],
   "source": [
    "/*\n",
    "#include <bits/stdc++.h>\n",
    "using namespace std;\n",
    "string s = \"aあnんbい\";\n",
    "vector<string> v;\n",
    "unsigned char lead; \n",
    "int char_size;\n",
    "// int pos ;\n",
    "for (auto pos : s) {\n",
    "    lead = s[pos];\n",
    "    if (lead < 0x80) {\n",
    "    char_size = 1;\n",
    "    } else if (lead < 0xE0) {\n",
    "        char_size = 2;\n",
    "    } else if (lead < 0xF0) {\n",
    "        char_size = 3;\n",
    "    } else {\n",
    "        char_size = 4;\n",
    "    }\n",
    "//   cout << s.substr(pos,char_size) << endl;\n",
    "    v.push_back(s.substr(pos,char_size)); // この辺でえらーになるというかrestartする。ということはsubstr()の中でposが使えない。なるほど。\n",
    "   for(int i = 0; i <= char_size; ++i)\n",
    "       ++pos;\n",
    "};\n",
    "cout << \"fin\" << endl;\n",
    "*/"
   ]
  },
  {
   "cell_type": "code",
   "execution_count": null,
   "metadata": {},
   "outputs": [],
   "source": []
  },
  {
   "cell_type": "code",
   "execution_count": null,
   "metadata": {},
   "outputs": [],
   "source": [
    "#include <bits/stdc++.h>\n",
    "using namespace std;\n",
    "string s = \"aあnんbい\";\n",
    "vector<string> v;\n",
    "unsigned char lead; \n",
    "int char_size;\n",
    "for (int pos = 0; pos < s.size(); pos += char_size) {\n",
    "    lead = s[pos];\n",
    "    if (lead < 0x80) {\n",
    "    char_size = 1;\n",
    "    } else if (lead < 0xE0) {\n",
    "        char_size = 2;\n",
    "    } else if (lead < 0xF0) {\n",
    "        char_size = 3;\n",
    "    } else {\n",
    "        char_size = 4;\n",
    "    }\n",
    "   v.push_back(s.substr(pos,char_size));\n",
    "\n",
    "};\n",
    "v"
   ]
  },
  {
   "cell_type": "code",
   "execution_count": null,
   "metadata": {},
   "outputs": [],
   "source": [
    "問題  \n",
    "vector<string>からstringに変換する。"
   ]
  },
  {
   "cell_type": "code",
   "execution_count": null,
   "metadata": {},
   "outputs": [],
   "source": [
    "#include <bits/stdc++.h>\n",
    "using namespace std;\n",
    "vector<string> v { \"a\", \"あ\", \"n\", \"ん\", \"b\", \"い\" };\n",
    "string s;\n",
    "for (auto &c : v) {\n",
    "    s = s + c;\n",
    "};\n",
    "s"
   ]
  },
  {
   "cell_type": "markdown",
   "metadata": {},
   "source": [
    "問題  \n",
    "標準入力から\"あいうえお\"と入力し、\"おえういあ\"(reverse)を返す"
   ]
  },
  {
   "cell_type": "code",
   "execution_count": null,
   "metadata": {},
   "outputs": [],
   "source": [
    "#include <bits/stdc++.h>\n",
    "using namespace std;\n",
    "// Jupyter notebook上で書いているので標準入力をstringstreamで代用する。\n",
    "// 以下をint main {}でくるみ、ss を cinに書きなおせば標準入力のプログラムになる。\n",
    "string s = \"あいうえお\";\n",
    "string str;\n",
    "stringstream ss(s);\n",
    "ss >> str;\n",
    "vector<string> v;\n",
    "unsigned char lead; \n",
    "int char_size;\n",
    "for (int pos = 0; pos < s.size(); pos += char_size) {\n",
    "    lead = s[pos];\n",
    "    if (lead < 0x80) {\n",
    "    char_size = 1;\n",
    "    } else if (lead < 0xE0) {\n",
    "        char_size = 2;\n",
    "    } else if (lead < 0xF0) {\n",
    "        char_size = 3;\n",
    "    } else {\n",
    "        char_size = 4;\n",
    "    }\n",
    "    v.push_back(s.substr(pos,char_size));\n",
    "};\n",
    "reverse(v.begin(),v.end());\n",
    "string str2;\n",
    "for (auto &c : v) {\n",
    "    str2 = str2 + c;\n",
    "};\n",
    "cout << str2 << endl;"
   ]
  },
  {
   "cell_type": "code",
   "execution_count": null,
   "metadata": {},
   "outputs": [],
   "source": [
    "// small c++ program to show how it works on Jupyter notebook \n",
    "#include <bits/stdc++.h>\n",
    "using namespace std;\n",
    "cout << \"はろー、わーるど\" << endl;"
   ]
  },
  {
   "cell_type": "markdown",
   "metadata": {},
   "source": [
    "問題  \n",
    "次の文章をアウトプットする。  \n",
    "This (\") is a quote, and this (\\\\) is a backslash."
   ]
  },
  {
   "cell_type": "code",
   "execution_count": null,
   "metadata": {},
   "outputs": [],
   "source": [
    "// small c++ program to show how it works on Jupyter notebook \n",
    "#include <bits/stdc++.h>\n",
    "using namespace std;\n",
    "cout << \"This (\\\") is a quote, and this (\\\\) is a backslash.\" << endl;"
   ]
  },
  {
   "cell_type": "markdown",
   "metadata": {},
   "source": [
    "成功です。 クオーテーションマークとバックスラッシュだけエスケープと覚えればいいのかな。\n",
    "\n",
    "次のプログラムは正しいか。"
   ]
  },
  {
   "cell_type": "code",
   "execution_count": null,
   "metadata": {},
   "outputs": [],
   "source": [
    "// #include <iostream>\n",
    "// std::cout << \"Hello, world!\" << std::endl;\n",
    "// jupyter notebook上ではusing namespace std;が必要というエラーが出た\n",
    "\n",
    "#include <iostream>\n",
    "using namespace std;\n",
    "std::cout << \"Hello, world!\" << std::endl;\n"
   ]
  },
  {
   "cell_type": "code",
   "execution_count": null,
   "metadata": {},
   "outputs": [],
   "source": [
    "// これはオッケー。関数定義と解釈された。\n",
    "#include <iostream>\n",
    "int main()\n",
    "{{{{{{ std::cout << \"Hello, world!\" << std::endl; }}}}}}"
   ]
  },
  {
   "cell_type": "code",
   "execution_count": null,
   "metadata": {},
   "outputs": [],
   "source": [
    "// /*...*/はネストできないというエラー\n",
    "#include <iostream>\n",
    "using namespace std;\n",
    "// /* This is a comment that extends over several lines\n",
    "// because it uses /* and */ as its starting and ending delimiters */\n",
    "// std::cout << \"Does this work?\" << std::endl;"
   ]
  },
  {
   "cell_type": "code",
   "execution_count": null,
   "metadata": {},
   "outputs": [],
   "source": [
    "// これはオッケー //は/*...*/より強い\n",
    "#include <iostream>\n",
    "using namespace std;\n",
    "\n",
    "// This is a comment that extends over several lines\n",
    "// by using // at the beginning of each line instead of using /*\n",
    "// or */ to delimit comments.\n",
    "\n",
    "std::cout << \"Does this work?\" << std::endl;\n",
    "\n"
   ]
  },
  {
   "cell_type": "code",
   "execution_count": null,
   "metadata": {},
   "outputs": [],
   "source": [
    "// 最も短いプログラムってこれかな\n",
    "int main(){}"
   ]
  },
  {
   "cell_type": "markdown",
   "metadata": {},
   "source": [
    "問題  \n",
    "標準入力から名前を入力させて、変数に入れる過程をstringからの入力に書き直す"
   ]
  },
  {
   "cell_type": "code",
   "execution_count": null,
   "metadata": {},
   "outputs": [],
   "source": [
    "/*\n",
    "#include <iostream>\n",
    "#include <string>\n",
    "using namespace std;\n",
    "cout << \"Please enter your first name: \";\n",
    "string name;\n",
    "cin >> name;\n",
    "*/\n",
    "#include <bits/stdc++.h>\n",
    "using namespace std;\n",
    "string s = \"John Doe\";\n",
    "stringstream ss(s);\n",
    "string name;\n",
    "ss >> name;\n",
    "cout << \"Hello, \" << name << \"!\" << endl;\n"
   ]
  },
  {
   "cell_type": "markdown",
   "metadata": {},
   "source": [
    "問題  \n",
    "Hello, username ! をアステリスクで囲む。"
   ]
  },
  {
   "cell_type": "code",
   "execution_count": null,
   "metadata": {},
   "outputs": [],
   "source": [
    "#include <bits/stdc++.h>\n",
    "using namespace std;\n",
    "string s = \"山田太朗\";\n",
    "stringstream ss(s);\n",
    "string name;\n",
    "ss >> name;\n",
    "\n",
    "const std::string greeting = \"Hello, \" + name + \"!\";\n",
    "const std::string spaces(greeting.size(), ' ');\n",
    "const std::string second = \"* \" + spaces + \" *\";\n",
    "const std::string first(second.size(), '*');\n",
    "// std::cout << std::endl;\n",
    "std::cout << first << std::endl;\n",
    "std::cout << second << std::endl;\n",
    "std::cout << \"* \" << greeting << \" *\" << std::endl;\n",
    "std::cout << second << std::endl;\n",
    "std::cout << first << std::endl;"
   ]
  },
  {
   "cell_type": "markdown",
   "metadata": {},
   "source": [
    "```\n",
    "************************\n",
    "*                      *\n",
    "* Hello, 山田太朗! *\n",
    "*                      *\n",
    "************************\n",
    "```\n",
    "\n",
    "これがうまくないのは、greeting.size()が正しくutf8のアウトプットの文字数を取ってこないからです。  \n",
    "そこを修正する。\n"
   ]
  },
  {
   "cell_type": "code",
   "execution_count": null,
   "metadata": {},
   "outputs": [],
   "source": [
    "#include <bits/stdc++.h>\n",
    "using namespace std;\n",
    "string s = \"Taro山田\";\n",
    "stringstream ss(s);\n",
    "string name;\n",
    "ss >> name;\n",
    "int name_size  = 0;\n",
    "int char_size;\n",
    "unsigned char lead;\n",
    "\n",
    "const std::string greeting = \"Hello, \" + name + \"!\";\n",
    "for (int pos = 0; pos < s.size(); pos += char_size) {\n",
    "    lead = s[pos];\n",
    "    if (lead < 0x80) {\n",
    "        char_size = 1;\n",
    "        name_size += 1;\n",
    "    } else if (lead < 0xE0) {\n",
    "        char_size = 2;\n",
    "        name_size += 2;\n",
    "    } else if (lead < 0xF0) {\n",
    "        char_size = 3;\n",
    "        name_size += 2;\n",
    "    } else {\n",
    "        char_size = 4;\n",
    "        name_size += 2;\n",
    "    }\n",
    "};\n",
    "const std::string spaces((greeting.size() - name.size() + name_size), ' ');\n",
    "const std::string second = \"* \" + spaces + \" *\";\n",
    "const std::string first(second.size(), '*');\n",
    "// std::cout << std::endl;\n",
    "std::cout << first << std::endl;\n",
    "std::cout << second << std::endl;\n",
    "std::cout << \"* \" << greeting << \" *\" << std::endl;\n",
    "std::cout << second << std::endl;\n",
    "std::cout << first << std::endl;"
   ]
  },
  {
   "cell_type": "markdown",
   "metadata": {},
   "source": [
    "```\n",
    "********************\n",
    "*                  *\n",
    "* Hello, Taro山田! *\n",
    "*                  *\n",
    "********************\n",
    "```\n",
    "オッケー。これはこれでいいのですが、問題の趣旨にはあっている。  \n",
    "しかし、ストリームからstringに入れたのでは名前にスペースが入れられない。  \n",
    "このためには再構築するか、getlineを使う。  \n",
    "この場合はgetlineがよかろう。"
   ]
  },
  {
   "cell_type": "code",
   "execution_count": null,
   "metadata": {},
   "outputs": [],
   "source": [
    "#include <bits/stdc++.h>\n",
    "using namespace std;\n",
    "string s = \"山田 kakashi 孝之\";\n",
    "stringstream ss(s);\n",
    "string name;\n",
    "getline(ss, name);\n",
    "int name_size  = 0;\n",
    "int char_size;\n",
    "unsigned char lead;\n",
    "\n",
    "const std::string greeting = \"Hello, \" + name + \"!\";\n",
    "for (int pos = 0; pos < s.size(); pos += char_size) {\n",
    "    lead = s[pos];\n",
    "    if (lead < 0x80) {\n",
    "        char_size = 1;\n",
    "        name_size += 1;\n",
    "    } else if (lead < 0xE0) {\n",
    "        char_size = 2;\n",
    "        name_size += 2;\n",
    "    } else if (lead < 0xF0) {\n",
    "        char_size = 3;\n",
    "        name_size += 2;\n",
    "    } else {\n",
    "        char_size = 4;\n",
    "        name_size += 2;\n",
    "    }\n",
    "};\n",
    "const std::string spaces((greeting.size() - name.size() + name_size), ' ');\n",
    "const std::string second = \"* \" + spaces + \" *\";\n",
    "const std::string first(second.size(), '*');\n",
    "// std::cout << std::endl;\n",
    "std::cout << first << std::endl;\n",
    "std::cout << second << std::endl;\n",
    "std::cout << \"* \" << greeting << \" *\" << std::endl;\n",
    "std::cout << second << std::endl;\n",
    "std::cout << first << std::endl;"
   ]
  },
  {
   "cell_type": "markdown",
   "metadata": {},
   "source": [
    "```\n",
    "*****************************\n",
    "*                           *\n",
    "* Hello, 山田 kakashi 孝之! *\n",
    "*                           *\n",
    "*****************************\n",
    "```\n",
    "オッケー。問題ないですね。  \n",
    "\n",
    "問題  \n",
    "このプログラムを関数型にできないか。mylength()とかを作る。  \n",
    "実験してみよう。"
   ]
  },
  {
   "cell_type": "code",
   "execution_count": null,
   "metadata": {},
   "outputs": [],
   "source": [
    "#include <bits/stdc++.h>\n",
    "int mylength(std::string s){\n",
    "    int char_size;\n",
    "    int length = 0;\n",
    "    unsigned char lead;\n",
    "    for (int pos = 0; pos < s.size(); pos += char_size) {\n",
    "    lead = s[pos];\n",
    "    if (lead < 0x80) {\n",
    "        char_size = 1;\n",
    "        length += 1;\n",
    "    } else if (lead < 0xE0) {\n",
    "        char_size = 2;\n",
    "        length += 2;\n",
    "    } else if (lead < 0xF0) {\n",
    "        char_size = 3;\n",
    "        length += 2;\n",
    "    } else {\n",
    "        char_size = 4;\n",
    "        length += 2;\n",
    "    }\n",
    "    };\n",
    "    return length;\n",
    "};\n",
    "using namespace std;\n",
    "cout << \"\\\"山田\\\"の長さは \"<< mylength(\"山田\") << endl;\n",
    "cout << \"\\\"pen\\\"の長さは \"<< mylength(\"pen\") << endl;\n",
    "cout << \"\\\"山田pen\\\"の長さは \"<< mylength(\"山田pen\") << endl;\n",
    "cout << \"\\\"山田孝之\\\"の長さは \"<< mylength(\"山田孝之\") << endl;\n",
    "cout << \"\\\"\\\"の長さは \"<< mylength(\"\") << endl;"
   ]
  },
  {
   "cell_type": "markdown",
   "metadata": {},
   "source": [
    "```\n",
    "\"山田\"の長さは 4\n",
    "\"pen\"の長さは 3\n",
    "\"山田pen\"の長さは 7\n",
    "\"山田孝之\"の長さは 8\n",
    "\"\"の長さは 0\n",
    "```\n",
    "成功ですね。  \n",
    "これを使って書きなおしてみよう。"
   ]
  },
  {
   "cell_type": "code",
   "execution_count": null,
   "metadata": {},
   "outputs": [],
   "source": [
    "#include <bits/stdc++.h>\n",
    "int mylength(std::string s){\n",
    "    int char_size;\n",
    "    int length = 0;\n",
    "    unsigned char lead;\n",
    "    for (int pos = 0; pos < s.size(); pos += char_size) {\n",
    "    lead = s[pos];\n",
    "    if (lead < 0x80) {\n",
    "        char_size = 1;\n",
    "        length += 1;\n",
    "    } else if (lead < 0xE0) {\n",
    "        char_size = 2;\n",
    "        length += 2;\n",
    "    } else if (lead < 0xF0) {\n",
    "        char_size = 3;\n",
    "        length += 2;\n",
    "    } else {\n",
    "        char_size = 4;\n",
    "        length += 2;\n",
    "    }\n",
    "    };\n",
    "    return length;\n",
    "};\n",
    "\n",
    "using namespace std;\n",
    "string name = \"山田 kakashi 孝之\";\n",
    "const std::string greeting = \"Hello, \" + name + \"!\";\n",
    "const std::string spaces(mylength(greeting), ' ');\n",
    "const std::string second = \"* \" + spaces + \" *\";\n",
    "const std::string first(mylength(second), '*');\n",
    "// std::cout << std::endl;\n",
    "std::cout << first << std::endl;\n",
    "std::cout << second << std::endl;\n",
    "std::cout << \"* \" << greeting << \" *\" << std::endl;\n",
    "std::cout << second << std::endl;\n",
    "std::cout << first << std::endl;"
   ]
  },
  {
   "cell_type": "markdown",
   "metadata": {},
   "source": [
    "オッケー。\n",
    "```\n",
    "*****************************\n",
    "*                           *\n",
    "* Hello, 山田 kakashi 孝之! *\n",
    "*                           *\n",
    "*****************************\n",
    "```\n",
    "と表示されました。  \n",
    "また、プログラムもわかりやすくなったと思います。\n",
    "\n",
    "問題  \n",
    "文字列を逆並びにする関数myreverse()を作ろう。"
   ]
  },
  {
   "cell_type": "code",
   "execution_count": null,
   "metadata": {},
   "outputs": [],
   "source": [
    "#include <bits/stdc++.h>\n",
    "std::string myreverse(std::string s){\n",
    "    using namespace std;\n",
    "    int char_size;\n",
    "    string str;\n",
    "    unsigned char lead;\n",
    "    vector<string> v;\n",
    "    for (int pos = 0; pos < s.size(); pos += char_size) {\n",
    "        lead = s[pos];\n",
    "        if (lead < 0x80) {\n",
    "        char_size = 1;\n",
    "        } else if (lead < 0xE0) {\n",
    "            char_size = 2;\n",
    "        } else if (lead < 0xF0) {\n",
    "            char_size = 3;\n",
    "        } else {\n",
    "            char_size = 4;\n",
    "        }\n",
    "        v.push_back(s.substr(pos,char_size));\n",
    "    };\n",
    "    reverse(v.begin(),v.end());\n",
    "    for (auto &c : v) {\n",
    "        str = str + c;\n",
    "    };\n",
    "    return str;\n",
    "};\n",
    "using namespace std;\n",
    "cout << \"\\\"山田\\\"の逆は \"<< myreverse(\"山田\") << endl;\n",
    "cout << \"\\\"pen\\\"の逆は \"<< myreverse(\"pen\") << endl;\n",
    "cout << \"\\\"山田pen\\\"の逆は \"<< myreverse(\"山田pen\") << endl;\n",
    "cout << \"\\\"山田孝之\\\"の逆は \"<< myreverse(\"山田孝之\") << endl;\n",
    "cout << \"\\\"\\\"の逆は \"<< myreverse(\"\") << endl;"
   ]
  },
  {
   "cell_type": "markdown",
   "metadata": {},
   "source": [
    "おっけー。かも。\n",
    "```\n",
    "\"山田\"の逆は 田山\n",
    "\"pen\"の逆は nep\n",
    "\"山田pen\"の逆は nep田山\n",
    "\"山田孝之\"の逆は 之孝田山\n",
    "\"\"の逆は \n",
    "```\n",
    "と出ました。\n",
    "\n",
    "問題  \n",
    "次の定義のうち間違っているのはどれか。"
   ]
  },
  {
   "cell_type": "code",
   "execution_count": null,
   "metadata": {},
   "outputs": [],
   "source": [
    "#include <bits/stdc++.h>\n",
    "using namespace std;\n",
    "const std::string hello = \"Hello\";\n",
    "const std::string message = hello + \", world\" + \"!\";\n",
    "const std::string exclam = \"!\";\n",
    "// const std::string message2 = \"Hello\" + \", world\" + exclam; //  error: invalid operands to binary expression"
   ]
  },
  {
   "cell_type": "markdown",
   "metadata": {},
   "source": [
    "問題  \n",
    "次のプログラムを評価して考察する。"
   ]
  },
  {
   "cell_type": "code",
   "execution_count": null,
   "metadata": {},
   "outputs": [],
   "source": [
    "#include <bits/stdc++.h>\n",
    "using namespace std;\n",
    "{ const std::string s = \"a string\";\n",
    "    std::cout << s << std::endl; }\n",
    "{ const std::string s = \"another string\";\n",
    "    std::cout << s << std::endl; }"
   ]
  },
  {
   "cell_type": "code",
   "execution_count": null,
   "metadata": {},
   "outputs": [],
   "source": [
    "#include <bits/stdc++.h>\n",
    "using namespace std;\n",
    "{ const std::string s = \"a string\";\n",
    " std::cout << s << std::endl;\n",
    "{ const std::string s = \"another string\";\n",
    "std::cout << s << std::endl; }}"
   ]
  },
  {
   "cell_type": "code",
   "execution_count": null,
   "metadata": {},
   "outputs": [],
   "source": [
    "/*\n",
    "#include <bits/stdc++.h>\n",
    "using namespace std;\n",
    "{ std::string s = \"a string\";\n",
    "{ std::string x = s + \", really\";\n",
    "std::cout << s << std::endl; }\n",
    "std::cout << x <<  std::endl;\n",
    "}\n",
    "*/\n",
    "// error: use of undeclared identifier 'x'"
   ]
  },
  {
   "cell_type": "markdown",
   "metadata": {},
   "source": [
    "問題  \n",
    "greetingプログラムのフレームを作る部分をwhileなどコントロールを使って書き直す。  "
   ]
  },
  {
   "cell_type": "code",
   "execution_count": null,
   "metadata": {},
   "outputs": [],
   "source": [
    "#include <bits/stdc++.h>\n",
    "int mylength(std::string s){\n",
    "    int char_size;\n",
    "    int length = 0;\n",
    "    unsigned char lead;\n",
    "    for (int pos = 0; pos < s.size(); pos += char_size) {\n",
    "    lead = s[pos];\n",
    "    if (lead < 0x80) {\n",
    "        char_size = 1;\n",
    "        length += 1;\n",
    "    } else if (lead < 0xE0) {\n",
    "        char_size = 2;\n",
    "        length += 2;\n",
    "    } else if (lead < 0xF0) {\n",
    "        char_size = 3;\n",
    "        length += 2;\n",
    "    } else {\n",
    "        char_size = 4;\n",
    "        length += 2;\n",
    "    }\n",
    "    };\n",
    "    return length;\n",
    "};\n",
    "\n",
    "using namespace std;\n",
    "string name = \"山田 kakashi 孝之\";\n",
    "const string greeting = \"Hello, \" + name + \"!\";\n",
    "const int pad = 2;\n",
    "const int rows = pad * 2 + 3;\n",
    "const int cols = mylength(greeting) + pad * 2 + 2;\n",
    "for (int r = 0; r != rows; ++r) {\n",
    "    int c = 0;\n",
    "    while (c != cols) {\n",
    "        if (r == pad + 1 && c == pad + 1) {\n",
    "            cout << greeting;\n",
    "            c += mylength(greeting);\n",
    "        } else { \n",
    "            if (r == 0 || r == rows - 1 || c == 0 || c == cols - 1) \n",
    "                cout << \"*\";\n",
    "            else\n",
    "                cout << \" \";\n",
    "            ++c;\n",
    "        }\n",
    "    }\n",
    "    cout << endl;\n",
    "}"
   ]
  },
  {
   "cell_type": "markdown",
   "metadata": {},
   "source": [
    "pad = 2にしてやってみたところ、\n",
    "```\n",
    "*******************************\n",
    "*                             *\n",
    "*                             *\n",
    "*  Hello, 山田 kakashi 孝之!  *\n",
    "*                             *\n",
    "*                             *\n",
    "*******************************\n",
    "```\n",
    "と出力されました。"
   ]
  },
  {
   "cell_type": "markdown",
   "metadata": {},
   "source": [
    "問題  \n",
    "次のコードを実行して考察する。  \n",
    "i += 1を++i、i++にしたらどうなるか。  \n",
    "i += 3にしたらどうなるか。\n",
    "1, 2, ... , 10と横並びにできるか。  その際、最後に\",\"がつかなくすることができるか。"
   ]
  },
  {
   "cell_type": "code",
   "execution_count": null,
   "metadata": {
    "scrolled": false
   },
   "outputs": [],
   "source": [
    "#include <bits/stdc++.h>\n",
    "using namespace std;\n",
    "int i = 0;\n",
    "while (i < 10){\n",
    "    i += 1;\n",
    "    cout << i << endl;\n",
    "}"
   ]
  },
  {
   "cell_type": "code",
   "execution_count": null,
   "metadata": {
    "scrolled": false
   },
   "outputs": [],
   "source": [
    "#include <bits/stdc++.h>\n",
    "using namespace std;\n",
    "int i = 0;\n",
    "while (i < 10){\n",
    "    if (i != 9) {\n",
    "        cout << ++i << \", \";\n",
    "    } else\n",
    "        cout << ++i << endl;\n",
    "}"
   ]
  },
  {
   "cell_type": "markdown",
   "metadata": {},
   "source": [
    "問題  \n",
    "10から-5までカウントダウンする。"
   ]
  },
  {
   "cell_type": "code",
   "execution_count": null,
   "metadata": {},
   "outputs": [],
   "source": [
    "#include <bits/stdc++.h>\n",
    "using namespace std;\n",
    "int i = 0;\n",
    "while (i < 16){\n",
    "    if (i != 15) {\n",
    "        cout << 10 - i++ << \", \";\n",
    "    } else\n",
    "        cout << 10 - i++  << endl;\n",
    "}"
   ]
  },
  {
   "cell_type": "markdown",
   "metadata": {},
   "source": [
    "問題  \n",
    "[1, 10]の間の数の積を計算する。"
   ]
  },
  {
   "cell_type": "code",
   "execution_count": null,
   "metadata": {},
   "outputs": [],
   "source": [
    "# include <bits/stdc++.h>\n",
    "using namespace std;\n",
    "int product = 1;\n",
    "for (int i = 0; i != 10; i++){\n",
    "    product *= i+1;\n",
    "    cout << product << \", \";\n",
    "}\n",
    "cout << endl;"
   ]
  },
  {
   "cell_type": "markdown",
   "metadata": {},
   "source": [
    "`1, 2, 6, 24, 120, 720, 5040, 40320, 362880, 3628800, `となりました。  \n",
    "まあ合っているのだろうけどなにかしっくりしない。   \n",
    "Haskellだったらどうか、と考えると、1..10の数列を作って、掛け算で畳み込むのだろうなぁ。  \n",
    "vectorでできそうな気もするが。  \n",
    "あと、whileとforのどちらを使うのだろうか。  \n",
    "意外な気もするが、forの方が関数に近いと思う。  "
   ]
  },
  {
   "cell_type": "code",
   "execution_count": null,
   "metadata": {},
   "outputs": [],
   "source": [
    "// まったく同じものか考える３０G\n",
    "# include <bits/stdc++.h>\n",
    "using namespace std;\n",
    "\n",
    "int k = 0, n = 10;\n",
    "while (k != n) {\n",
    "    cout << k;\n",
    "    ++k;\n",
    "}\n",
    "cout << endl;\n",
    "\n",
    "for (k=0; k !=n; ++k){\n",
    "    cout << k;\n",
    "}\n",
    "cout << endl;"
   ]
  },
  {
   "cell_type": "markdown",
   "metadata": {},
   "source": [
    "問題  \n",
    "ファイルを一度に読み込む方法。  \n",
    "c++ read entire text file into string\n",
    "```\n",
    "std::ifstream t(\"file.txt\");\n",
    "std::stringstream buffer;\n",
    "buffer << t.rdbuf();\n",
    "```\n",
    "を実験する。"
   ]
  },
  {
   "cell_type": "code",
   "execution_count": null,
   "metadata": {},
   "outputs": [],
   "source": [
    "# include <bits/stdc++.h>\n",
    "using namespace std;\n",
    "string s;\n",
    "ifstream ifs(\"./mycpp/input.txt\");\n",
    "stringstream ss;\n",
    "ss << ifs.rdbuf();\n",
    "s = ss.str()"
   ]
  },
  {
   "cell_type": "markdown",
   "metadata": {},
   "source": [
    "なるほどね。了解。あまり使いみちないかもしれない。\n",
    "\n",
    "\n",
    "問題  \n",
    "string s = \"this is a pen \\n this is not \\nとか入れて。\"  \n",
    "改行がどうひょうじされるか実験。"
   ]
  },
  {
   "cell_type": "code",
   "execution_count": null,
   "metadata": {},
   "outputs": [],
   "source": [
    "# include <bits/stdc++.h>\n",
    "using namespace std;\n",
    "string s = \"this is a pen \\n this is not \\nとか入れて。\"  ;\n",
    "s"
   ]
  },
  {
   "cell_type": "markdown",
   "metadata": {},
   "source": [
    "問題  \n",
    "生徒の最終テストでの成績が40%、中間テストの成績が20%、宿題の成績が40%評価に組み入れられるとして、生徒が自分で最終成績を計算する。"
   ]
  },
  {
   "cell_type": "code",
   "execution_count": null,
   "metadata": {},
   "outputs": [],
   "source": [
    "# include <bits/stdc++.h>\n",
    "using namespace std;\n",
    "string name = \"Taro\";\n",
    "double midterm = 40.80, final = 80.50;\n",
    "double count = 4, sum = 240;\n",
    "\n",
    "streamsize prec = cout.precision();\n",
    "\n",
    "cout << \"Your final grade is \" << setprecision(8) << 0.2 * midterm + 0.4 * final + 0.4 * sum / count << setprecision(prec) << endl;\n"
   ]
  },
  {
   "cell_type": "code",
   "execution_count": null,
   "metadata": {},
   "outputs": [],
   "source": [
    "# include <bits/stdc++.h>\n",
    "using namespace std;\n",
    "cout.precision()"
   ]
  },
  {
   "cell_type": "code",
   "execution_count": null,
   "metadata": {},
   "outputs": [],
   "source": [
    "cout << setprecision(2)"
   ]
  },
  {
   "cell_type": "code",
   "execution_count": null,
   "metadata": {},
   "outputs": [],
   "source": [
    "cout << 367.878178338 << endl;"
   ]
  },
  {
   "cell_type": "markdown",
   "metadata": {},
   "source": [
    "### setprecision\n",
    "`setprecision`というなまえからして数値の精度の桁数のことだよね。実験してみればわかるか。"
   ]
  },
  {
   "cell_type": "code",
   "execution_count": 17,
   "metadata": {
    "scrolled": true
   },
   "outputs": [
    {
     "name": "stdout",
     "output_type": "stream",
     "text": [
      "まずは現状のprecision = 4\n",
      "M_PI = 3.142\n",
      "setprecision(10)とかにしてみる。3.141592654\n",
      "100000000倍してみる。314159265.4\n",
      "1.0を出力。1\n",
      "0.000001を出力。1e-06\n",
      "setprecisionを4にして大きな桁を入れてみる。7676766976876986\n",
      "setprecisionを4にして小さな桁を入れてみる。0.7677\n",
      "setprecisionを4にして大きな桁を入れてみる。7.677e+10\n"
     ]
    },
    {
     "data": {
      "text/plain": [
       "(std::basic_ostream<char, std::char_traits<char> >::__ostream_type &) @0x7ffbd8024420\n"
      ]
     },
     "execution_count": 17,
     "metadata": {},
     "output_type": "execute_result"
    }
   ],
   "source": [
    "# include <bits/stdc++.h>\n",
    "using namespace std;\n",
    "cout << \"まずは現状のprecision = \"  << cout.precision() << endl;\n",
    "cout << \"M_PI = \" << M_PI << endl;\n",
    "cout << \"setprecision(10)とかにしてみる。\" << setprecision(10) << M_PI << endl;\n",
    "cout << \"100000000倍してみる。\" << M_PI * 100000000 << endl;\n",
    "cout << \"1.0を出力。\" << 1.0 << endl;\n",
    "cout << \"0.000001を出力。\" << 0.000001 << endl;\n",
    "cout << \"setprecisionを4にして大きな桁を入れてみる。\" << setprecision(4) << 7676766976876986 << endl;\n",
    "cout << \"setprecisionを4にして小さな桁を入れてみる。\" << setprecision(4) << 0.7676766976876986 << endl;\n",
    "cout << \"setprecisionを4にして大きな桁を入れてみる。\" << setprecision(4) << 7.676766976876986e10 << endl;\n",
    "\n"
   ]
  },
  {
   "cell_type": "code",
   "execution_count": 5,
   "metadata": {},
   "outputs": [
    {
     "data": {
      "text/plain": [
       "(double) 3.1415927\n"
      ]
     },
     "execution_count": 5,
     "metadata": {},
     "output_type": "execute_result"
    }
   ],
   "source": [
    "# include <bits/stdc++.h>\n",
    "using namespace std;\n",
    "M_PI"
   ]
  },
  {
   "cell_type": "code",
   "execution_count": null,
   "metadata": {},
   "outputs": [],
   "source": [
    "# include <bits/stdc++.h>\n",
    "using namespace std;"
   ]
  }
 ],
 "metadata": {
  "kernelspec": {
   "display_name": "C++17",
   "language": "C++",
   "name": "cling-cpp17"
  },
  "language_info": {
   "codemirror_mode": "c++",
   "file_extension": ".c++",
   "mimetype": "text/x-c++src",
   "name": "c++"
  }
 },
 "nbformat": 4,
 "nbformat_minor": 2
}
