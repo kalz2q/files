{
 "cells": [
  {
   "cell_type": "markdown",
   "metadata": {},
   "source": [
    "# Jupyter (iPython) Notebookを使って技術ノート環境を構築する方法\n",
    "\n",
    "myenigma.hatenablog.com"
   ]
  },
  {
   "cell_type": "code",
   "execution_count": 1,
   "metadata": {},
   "outputs": [],
   "source": [
    "from sympy import *"
   ]
  },
  {
   "cell_type": "code",
   "execution_count": 2,
   "metadata": {},
   "outputs": [],
   "source": [
    "x=Symbol('x')"
   ]
  },
  {
   "cell_type": "code",
   "execution_count": null,
   "metadata": {},
   "outputs": [],
   "source": [
    "%matplotlib inline"
   ]
  },
  {
   "cell_type": "code",
   "execution_count": 3,
   "metadata": {},
   "outputs": [],
   "source": [
    "init_printing()"
   ]
  },
  {
   "cell_type": "code",
   "execution_count": 4,
   "metadata": {},
   "outputs": [
    {
     "data": {
      "image/png": "[encoded data removed]",
      "text/latex": [
       "$$x^{5} - 15 x^{4} + 90 x^{3} - 270 x^{2} + 405 x - 243$$"
      ],
      "text/plain": [
       " 5       4       3        2              \n",
       "x  - 15⋅x  + 90⋅x  - 270⋅x  + 405⋅x - 243"
      ]
     },
     "execution_count": 4,
     "metadata": {},
     "output_type": "execute_result"
    }
   ],
   "source": [
    "expand((x - 3)**5)"
   ]
  },
  {
   "cell_type": "code",
   "execution_count": 9,
   "metadata": {},
   "outputs": [
    {
     "data": {
      "image/png": "[encoded data removed]",
      "text/latex": [
       "$$\\log{\\left (y \\right )} \\cos{\\left (x \\right )} + \\frac{2}{y}$$"
      ],
      "text/plain": [
       "                2\n",
       "log(y)⋅cos(x) + ─\n",
       "                y"
      ]
     },
     "execution_count": 9,
     "metadata": {},
     "output_type": "execute_result"
    }
   ],
   "source": [
    "y=Symbol('y')\n",
    "expr=cos(x)*ln(y)+2/y\n",
    "expr"
   ]
  },
  {
   "cell_type": "code",
   "execution_count": 10,
   "metadata": {},
   "outputs": [
    {
     "data": {
      "image/png": "[encoded data removed]",
      "text/latex": [
       "$$\\left [ - \\operatorname{acos}{\\left (- \\frac{2}{y \\log{\\left (y \\right )}} \\right )} + 2 \\pi, \\quad \\operatorname{acos}{\\left (- \\frac{2}{y \\log{\\left (y \\right )}} \\right )}\\right ]$$"
      ],
      "text/plain": [
       "⎡      ⎛  -2    ⎞            ⎛  -2    ⎞⎤\n",
       "⎢- acos⎜────────⎟ + 2⋅π, acos⎜────────⎟⎥\n",
       "⎣      ⎝y⋅log(y)⎠            ⎝y⋅log(y)⎠⎦"
      ]
     },
     "execution_count": 10,
     "metadata": {},
     "output_type": "execute_result"
    }
   ],
   "source": [
    "solve(expr, x)"
   ]
  },
  {
   "cell_type": "markdown",
   "metadata": {},
   "source": [
    "しかし、下記のJupyter Notebooksのextensionをインストールすることで、\n",
    "\n",
    "様々な拡張機能が使えるようになり、\n",
    "\n",
    "画像のドラッグアンドドロップもできるようになります。\n",
    "\n",
    "インストールは、READMEにある通り、\n",
    "\n",
    "下記のコマンドでOKです。\n",
    "\n",
    "(下記のインストールをする場合は\n",
    "\n",
    "Jupyter Notebookのプロセスはkillしておきましょう)\n",
    "\n",
    "\n",
    "$ pip install https://github.com/ipython-contrib/IPython-notebook-extensions/archive/master.zip –user\n",
    "\n",
    "\n",
    "続いて、Jupyter Notebookを起動し、"
   ]
  },
  {
   "cell_type": "code",
   "execution_count": null,
   "metadata": {},
   "outputs": [],
   "source": []
  },
  {
   "cell_type": "code",
   "execution_count": null,
   "metadata": {},
   "outputs": [],
   "source": []
  },
  {
   "cell_type": "code",
   "execution_count": null,
   "metadata": {},
   "outputs": [],
   "source": []
  },
  {
   "cell_type": "markdown",
   "metadata": {},
   "source": [
    "URLに/nbextensions/を追加して、移動すると\n",
    "\n",
    "下記のような拡張機能の追加画面に移動します。\n",
    "\n",
    "あとは、Drag and DropのチェックボタンをONして下さい。\n",
    "\n",
    "すると、Jupyter Notebookで画像をドラッグアンドドロップすると、\n",
    "\n",
    "画像が挿入されるようになります。\n",
    "\n",
    "ちなみに画像ファイルはD＆Dすると\n",
    "\n",
    ".ipynbファイルと\n",
    "\n",
    "同じ場所にコピーされます。\n",
    "\n",
    "目次を見出し情報から自動生成する\n",
    "上記のIPython-notebook-extensionsの一機能を使うことで、\n",
    "\n",
    "Markdownの見出し情報から、\n",
    "\n",
    "上記のように自動で目次を生成することができます。\n",
    "\n",
    "使い方としては、\n",
    "\n",
    "先ほどの/nbextensions/の設定画面で、\n",
    "\n",
    "Table Contents(2)にチェックをいれます。\n",
    "\n",
    "加えて、同じ設定画面で、\n",
    "\n",
    "“Add a Table of Contents at the top of the notebook”\n",
    "\n",
    "にチェックをいれます。\n",
    "\n",
    "最後に下記のように\n",
    "\n",
    "目次ウインドウを表示させて、\n",
    "\n",
    "tボタンを押すと、\n",
    "\n",
    "自動的に目次情報が先頭のセルに追加されます。\n",
    "\n",
    "レポートタイトルを入力する方法\n",
    "残念ながら、今のところ\n",
    "\n",
    "レポートのタイトルのようなものを\n",
    "\n",
    "入力するツールは見つかっていませんが、\n",
    "\n",
    "JupyterのMarkdownのモードでは、\n",
    "\n",
    "HTMLを入力するとマークアップされた文字を入力できます。\n",
    "\n",
    "この機能を使うことで、レポートタイトルっぽい文字を表示できました。\n",
    "\n",
    "例えば、下記のようなhtmlを\n",
    "\n",
    "JupyterのMarkdownモードのセルに入力すると、\n",
    "\n",
    "<br />\n",
    "\n",
    "<div style=\"text-align: center;\">\n",
    "<font size=\"7\">Jupyter Report</font>\n",
    "</div>\n",
    "<br />\n",
    "<div style=\"text-align: right;\">\n",
    "<font size=\"4\">Atsushi Sakai</font>\n",
    "</div>\n",
    "\n",
    "<br />\n",
    "下記のように表示されます。\n",
    "\n",
    "PDFに出力する\n",
    "上記の方法である程度のレポート形式の技術ノートを作ることは\n",
    "\n",
    "できるはずなので、あとはPDFなどに変換すれば、\n",
    "\n",
    "プログラマ以外の他の人と資料を共有することができます。\n",
    "\n",
    "Macの場合\n",
    "Jupyter NotebookのデータをPDFに変換する方法は色々ありますが、\n",
    "\n",
    "Macで一番シンプルなのは、Jupyter Notebookをブラウザで開いた状態で、\n",
    "\n",
    "Ctrl-Pで、Macの標準機能でPDFに変換するのが一番簡単だと思います。\n",
    "\n",
    "下記のように詳細設定の部分で、ヘッダーとフッターに\n",
    "\n",
    "時刻や、ファイル名、ページなどを入力する設定ができます。\n",
    "\n",
    "あとは普通にPDFを出力すると、\n",
    "\n",
    "下記のようにそれなりのレポートがPDFで作成できます。\n",
    "\n",
    "Jupyterでプレゼン資料を作る方法\n",
    "下記を参照下さい。\n",
    "\n",
    "myenigma.hatenablog.com\n",
    "\n",
    "JupyterのサーバをHerokuの無料枠で構築する方法\n",
    "下記を参照下さい。\n",
    "\n",
    "myenigma.hatenablog.com\n",
    "\n",
    "Jupyter Markdown数式の入力テンプレート\n",
    "最近、数式の入力はすべてJupyterで実施していますが、\n",
    "\n",
    "複雑でいつもググっている数式コマンドをメモとして残しておきます。\n",
    "\n",
    "行列\n",
    "\\begin{equation*}\n",
    "\\begin{bmatrix}\n",
    "1 & 0 & \\cdots \\\\\n",
    "0 & 1 & \\cdots \\\\\n",
    "\\vdots & \\vdots & \\ddots \\\\\n",
    "-1 & 0 & \\cdots \\\\\n",
    "0 & -1 & \\cdots \\\\\n",
    "\\vdots & \\vdots & \\ddots \\\\\n",
    "\\end{bmatrix}\n",
    "\\end{equation*}\n",
    "数式参考リンク\n",
    "できれば改善してもらいたい部分\n",
    "もう少しで完全にWordをおさらばできそうなので、\n",
    "\n",
    "下記のような機能を実現してもらいたいですね。\n",
    "\n",
    "参考文献管理\n",
    "\n",
    "図のタイトル入力\n",
    "\n",
    "自動図番号割り当て\n",
    "\n",
    "上記のような機能を実現できる拡張などを知っている方は\n",
    "\n",
    "コメントなどで教えて頂けると幸いです。\n",
    "\n",
    "(Python使えるから、自分で作ればいいのか。。。)\n",
    "\n",
    "vimユーザのためのJupyterプラグイン\n",
    "下記を参照下さい\n",
    "\n",
    "lambdalisue.hatenablog.com\n",
    "\n",
    "なにかおかしいので云々。\n",
    "bookmark"
   ]
  },
  {
   "cell_type": "code",
   "execution_count": null,
   "metadata": {},
   "outputs": [],
   "source": []
  },
  {
   "cell_type": "code",
   "execution_count": null,
   "metadata": {},
   "outputs": [],
   "source": []
  },
  {
   "cell_type": "code",
   "execution_count": null,
   "metadata": {},
   "outputs": [],
   "source": []
  },
  {
   "cell_type": "code",
   "execution_count": null,
   "metadata": {},
   "outputs": [],
   "source": []
  },
  {
   "cell_type": "code",
   "execution_count": null,
   "metadata": {},
   "outputs": [],
   "source": []
  },
  {
   "cell_type": "markdown",
   "metadata": {},
   "source": [
    "上記のプラグインを使うことで、\n",
    "\n",
    "Jupyterのエディタの部分でvimのキーバインドが使えます。\n",
    "\n",
    "Jupyter Notebook上でコードの処理時間を計測する\n",
    "Jupyter notebookでは、\n",
    "\n",
    "%timeit\n",
    "\n",
    "の後にコードを記述すると、そのコードの計算時間を計測してくれます。\n",
    "\n",
    "コードやアルゴリズムのレポートに便利ですね。\n",
    "\n",
    "moqada.hatenablog.com\n",
    "\n",
    "Jupyter上でモジュールや関数のdocstringを確認する\n",
    "Jupyter notebookでは、\n",
    "\n",
    "モジュールや関数の後ろに?(はてな)をつけると、\n",
    "\n",
    "docstringを表示してくれるので、\n",
    "\n",
    "マニュアル確認も簡単です。\n",
    "\n",
    "更にJupyterを学びたい人は\n",
    "下記の資料がおすすめです。\n",
    "\n",
    "\n",
    "\n",
    "また、どうしても解決できない問題などが\n",
    "\n",
    "ある場合は下記のようなQ＆Aサイトで質問してみると、\n",
    "\n",
    "かなりの確率で回答がもらえると思います。\n",
    "\n",
    "参考資料\n",
    "myenigma.hatenablog.com\n",
    "\n",
    "myenigma.hatenablog.com\n",
    "\n",
    "myenigma.hatenablog.com\n",
    "\n",
    "myenigma.hatenablog.com\n",
    "\n",
    "myenigma.hatenablog.com\n",
    "\n",
    "MyEnigma Supporters\n",
    "もしこの記事が参考になり、\n",
    "\n",
    "ブログをサポートしたいと思われた方は、\n",
    "\n",
    "こちらからよろしくお願いします。"
   ]
  }
 ],
 "metadata": {
  "kernelspec": {
   "display_name": "Python 3",
   "language": "python",
   "name": "python3"
  },
  "language_info": {
   "codemirror_mode": {
    "name": "ipython",
    "version": 3
   },
   "file_extension": ".py",
   "mimetype": "text/x-python",
   "name": "python",
   "nbconvert_exporter": "python",
   "pygments_lexer": "ipython3",
   "version": "3.6.4"
  }
 },
 "nbformat": 4,
 "nbformat_minor": 2
}
