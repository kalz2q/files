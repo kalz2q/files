{
 "cells": [
  {
   "cell_type": "markdown",
   "metadata": {},
   "source": [
    "# JupyterでC++を勉強するぞ！\n",
    "とは言え、なにをいれたらいいかわかりません。  \n",
    "まずはいろいろ実験してみよう。"
   ]
  },
  {
   "cell_type": "code",
   "execution_count": null,
   "metadata": {},
   "outputs": [],
   "source": [
    "int n = 5"
   ]
  },
  {
   "cell_type": "markdown",
   "metadata": {},
   "source": [
    "int n = 5 みたいのを2回評価しようとすると叱られます。  \n",
    "なので restart and clear output とかをしょっちゅうやる必要があるのかな。  \n",
    "一行にいくつも書くのでなければセミコロンはひつようないみたい。  \n",
    "\n",
    "追記:\n",
    "C++ インタープリターのClingの仕様から、同じ変数は再定義エラーになる。  \n",
    "これを避けるために、エラーになったらもとの定義をコメントアウトして、全体をリスタートするか。  \n",
    "もしくはn01, n02, ...というように変数名を変えていく。"
   ]
  },
  {
   "cell_type": "code",
   "execution_count": null,
   "metadata": {},
   "outputs": [],
   "source": [
    "n"
   ]
  },
  {
   "cell_type": "code",
   "execution_count": null,
   "metadata": {},
   "outputs": [],
   "source": [
    "n++;"
   ]
  },
  {
   "cell_type": "code",
   "execution_count": null,
   "metadata": {},
   "outputs": [],
   "source": [
    "++n;"
   ]
  },
  {
   "cell_type": "raw",
   "metadata": {},
   "source": [
    "上の3つは評価すると、それぞれ5, 5, 7となります。\n",
    "\n",
    "メモ:  \n",
    "なるほどこの仕組みだと、KernelメニューのRestartをよく使うことになります。  \n",
    "なぜなら、評価の順序や回数が大事だから。  \n",
    "だとすると、ショートカットが欲しいけどどうしたらよいのだろうか。  \n",
    "g,gというのにしました。gを2回押す。すると確認画面がでる。  `Enter`を押す、という流れ。  \n",
    "g,gがRestart and Run All  \n",
    "Ctrl-g, Ctrl-gがRestart and Clear Output  "
   ]
  },
  {
   "cell_type": "raw",
   "metadata": {},
   "source": [
    "C++ Clingの紹介ビデオ YouTube を見ると、`.help`というのが出てくる。  \n",
    "これはなんなんだろう。やってみよう。\n",
    "\n",
    "やってみたところ、英語の大きなファイルがでてきた。どmうしようか。これでは困る。  \n",
    "しかたがないので翻訳しましたがよくわからない。  \n",
    "メタコマンドと呼ぶらしい。    \n",
    "```\n",
    ".L<filename>コマンド: ファイルやライブラリーをロードする\n",
    ".(x|X) <filename>[args]コマンド: .Lと同じだが、関数をシグネチャーとともに実行する。返り値はfilename(args)\n",
    ".> <filename>コマンド: コマンドをファイルにリダイレクトする\n",
    "'>' or '1>'コマンド: stdout streamだけリダイレクトする\n",
    "'2>'コマンド: stderr streamだけリダイレクトする\n",
    "'&>' (or '2>&1')コマンド: stdoutとstderrをリダイレクトする\n",
    "'>>'コマンド: 既存のファイルにアペンドする\n",
    ".undo [n]コマンド: 最後の[n]回の入力をアンロードする\n",
    ".U <filename>コマンド: ファイルをアンロードする\n",
    ".I [path]コマンド: include pathを表示する。またはpathをinclude pathsに加える\n",
    ".O <level>コマンド: optimization levelを(0-3)に設定する\n",
    ".class<name>コマンド: クラスをCINTスタイルで表示する\n",
    ".filesコマンド: ファイル情報をCINTスタイルで表示する\n",
    ".fileExコマンド: ファイル情報の一部を表示する\n",
    ".gコマンド: グローバル変数情報を表示する。nameが指定されなければ全部\n",
    ".@コマンド: マルチラインインプットを無視する\n",
    ".rawInput[0|1]コマンド: 入力のwrappingを切り替える\n",
    ".dynamicExtensions[0|1]コマンド: スコープ(dynamic | late binding)の切り替え\n",
    ".printDebug[0|1]コマンド: 入力のステート変化の表示を切り替える\n",
    ".storeState<filename>コマンド: インタープリターの状態をファイルに保存する\n",
    ".compareState<filename>コマンド: インタープリターの状態をファイルと比較する\n",
    ".stats[name]コマンド: 内部データ構造のstatsを表示する\n",
    "'ast'コマンド:   abstract syntax tree stats\n",
    "'asttree [filter]'  abstract syntax tree layout\n",
    "'decl' dump ast declarations\n",
    "'undo' show undo stack\n",
    ".helpコマンド: このヘルプを表示する\n",
    ".qコマンド: プログラム終了\n",
    "```\n",
    "関数 function() は`.rawInput`を用いるらしいが、これもよくわからない。："
   ]
  },
  {
   "cell_type": "code",
   "execution_count": null,
   "metadata": {},
   "outputs": [],
   "source": [
    "// コメントはつかえるのかな"
   ]
  },
  {
   "cell_type": "code",
   "execution_count": null,
   "metadata": {},
   "outputs": [],
   "source": [
    "/* 複数行に\n",
    "わたるコメントはどうか */"
   ]
  },
  {
   "cell_type": "code",
   "execution_count": null,
   "metadata": {},
   "outputs": [],
   "source": [
    "#include <iostream>\n",
    "using namespace std;\n",
    "int n02 = 3;\n",
    "cout << n02 << \"番目の方どうぞ！\" << endl;"
   ]
  },
  {
   "cell_type": "markdown",
   "metadata": {},
   "source": [
    "次に`.rawInput`を使った関数定義の実験です。"
   ]
  },
  {
   "cell_type": "code",
   "execution_count": null,
   "metadata": {},
   "outputs": [],
   "source": [
    ".rawInput"
   ]
  },
  {
   "cell_type": "code",
   "execution_count": null,
   "metadata": {},
   "outputs": [],
   "source": [
    "void increase(int& x){ ++x;}"
   ]
  },
  {
   "cell_type": "code",
   "execution_count": null,
   "metadata": {},
   "outputs": [],
   "source": [
    ".rawInput"
   ]
  },
  {
   "cell_type": "markdown",
   "metadata": {},
   "source": [
    "実際に使ってみることができます。  "
   ]
  },
  {
   "cell_type": "code",
   "execution_count": null,
   "metadata": {},
   "outputs": [],
   "source": [
    "int n03 = 8;\n",
    "increase(n03);n03;"
   ]
  },
  {
   "cell_type": "markdown",
   "metadata": {},
   "source": [
    "次の例はclass定義の中で`.rawInput`を使って関数を定義するものなのですがエラーになるので、コメントアウトしておきます。"
   ]
  },
  {
   "cell_type": "code",
   "execution_count": null,
   "metadata": {},
   "outputs": [],
   "source": [
    "/* class Person {\n",
    "public:\n",
    "    float weight, height;\n",
    ".rawInput;\n",
    "    float getBMI() { return weight / height / height;};\n",
    ",rawInput\n",
    "};\n",
    "*/"
   ]
  },
  {
   "cell_type": "markdown",
   "metadata": {},
   "source": [
    "途中ですが、いまの環境を書いておきます。  \n",
    "Ubuntu 16.04 でいま2018年3月なのでもうすぐ18.04になるかもしれない。  \n",
    "C++をインタープリターとして使うと勉強がはかどるのではないか、と思って入れてみました。  \n",
    "以上\n",
    "\n",
    "簡単なのでいいからプログラムの形でセルに入れたいね。  \n",
    "やってみよう。"
   ]
  },
  {
   "cell_type": "code",
   "execution_count": null,
   "metadata": {},
   "outputs": [],
   "source": [
    "#include <iostream>\n",
    "using namespace std;\n",
    "    cout << \"hello world\\n\\tどうか！！\" << endl;\n",
    "    return 0;"
   ]
  },
  {
   "cell_type": "markdown",
   "metadata": {},
   "source": [
    "うむ。いちいち、Restartして頭から評価させると時間がかかるなぁ。  \n",
    "一方、タイプミスなどで少し直してひょうかすると再定義だと言って叱られるし。なにか方法があるはずだね。  \n",
    "セルをコピーして評価しても同じだよね。  \n",
    "まあ、ゆっくり考えよう。\n",
    "\n",
    "Ubuntuでは、ふつう、以下のようにプログラムソースをコンパイルして実行します。\n",
    "```\n",
    "gpp helo.cpp -o hello\n",
    "./hello\n",
    "```\n",
    "このようなことはJupyte noteboofokではできない。"
   ]
  },
  {
   "cell_type": "markdown",
   "metadata": {},
   "source": [
    "### 文字リテラル\n",
    "大文字のAは10進数で65。2進数で1000001。16進数で0x41。8進数では0101。 \n",
    "データ型の具体的な値をリテラルという。  \n",
    "文字型(char)のリテラルの例は'A'。stringの例が\"hello\"。\n",
    "\n",
    "問題  \n",
    "時速を秒速に変換するには3倍して10で割ればほぼ一致します。  \n",
    "と表示せよ。"
   ]
  },
  {
   "cell_type": "code",
   "execution_count": null,
   "metadata": {},
   "outputs": [],
   "source": [
    "#include <iostream>\n",
    "using namespace std;\n",
    "cout << \"時速を秒速に変換するには\" << 3 << \"倍して\" << 10 << \"で割ればほぼ一致します。\" << endl;"
   ]
  },
  {
   "cell_type": "markdown",
   "metadata": {},
   "source": [
    "なるほど、main()というプログラムの形にしなければいいのか。  \n",
    "\n",
    "問題\n",
    "整数44を変数$m$に代入し、式$m + 33$の結果を$n$に代入するプログラムを作成せよ。  \n",
    "\n",
    "変数がMathJaxの$LaTex$で表示されました。`$`で囲むだけです。"
   ]
  },
  {
   "cell_type": "code",
   "execution_count": null,
   "metadata": {},
   "outputs": [],
   "source": [
    "#include <iostream>\n",
    "using namespace std;\n",
    "int m, n04;\n",
    "m = 44;\n",
    "cout << \"m = \" << m ;\n",
    "n04 = m + 33;\n",
    "cout << \" and n = \" << n04 << endl;"
   ]
  },
  {
   "cell_type": "markdown",
   "metadata": {},
   "source": [
    "ちょっとコツがつかめてきたみたい。  \n",
    "この調子で少し進めよう。  \n",
    "なんとなく、C++はJupyterには向かない気もするが。\n",
    "\n",
    "ラムダ計算の例"
   ]
  },
  {
   "cell_type": "code",
   "execution_count": null,
   "metadata": {},
   "outputs": [],
   "source": [
    "// int x01 = [](int a , int b) -> int { return a + b;} (2,4)"
   ]
  },
  {
   "cell_type": "code",
   "execution_count": null,
   "metadata": {},
   "outputs": [],
   "source": [
    "// auto func = [](int a, int b) -> int { return a+b; };"
   ]
  },
  {
   "cell_type": "code",
   "execution_count": null,
   "metadata": {},
   "outputs": [],
   "source": [
    "// func(2,3)"
   ]
  },
  {
   "cell_type": "markdown",
   "metadata": {},
   "source": [
    "ラムダ計算はうまく行きません。  \n",
    "\n",
    "次に別ファイルにプログラムを書いて読み込むのをやってみます。"
   ]
  },
  {
   "cell_type": "code",
   "execution_count": null,
   "metadata": {},
   "outputs": [],
   "source": [
    ".L ./mycpp/func.cpp"
   ]
  },
  {
   "cell_type": "code",
   "execution_count": null,
   "metadata": {
    "scrolled": true
   },
   "outputs": [],
   "source": [
    "test()"
   ]
  },
  {
   "cell_type": "raw",
   "metadata": {},
   "source": [
    "//func.cpp\n",
    "#include <iostream>\n",
    "void test() {\n",
    "    std::cout << \"just a test\" << std::endl;\n",
    "}"
   ]
  },
  {
   "cell_type": "markdown",
   "metadata": {},
   "source": [
    "というテキストファイルを別途作りました。  \n",
    "ということは、関数定義は別ファイルということか。 \n",
    "これは使えるね。\n",
    "\n",
    "例えば普通のテキストにある、hello.cppというのを作って、読み込んで走らせるというのができるのではないか。  "
   ]
  },
  {
   "cell_type": "raw",
   "metadata": {},
   "source": [
    "// hello.cpp\n",
    "#include <iostream>\n",
    "void hello ()\n",
    "{\n",
    "    std::cout << \"hello world\" << std::endl;\n",
    "}"
   ]
  },
  {
   "cell_type": "code",
   "execution_count": null,
   "metadata": {},
   "outputs": [],
   "source": [
    ".L ./mycpp/hello.cpp"
   ]
  },
  {
   "cell_type": "code",
   "execution_count": null,
   "metadata": {},
   "outputs": [],
   "source": [
    "hello()"
   ]
  },
  {
   "cell_type": "markdown",
   "metadata": {},
   "source": [
    "いろいろやってみました。  \n",
    "なぜかusing namespace std;が使えません。これは不便かも。  \n",
    "int main()が作れません。  \n",
    "つまり関数しか作れない。\n",
    "ということは、このファイルの流れとしては、CodeでもMarkdownでもないRaw NBConvertセルに関数を書いて、JupyterのTextファイルに保存してそれを読み込んで、関数名で実行。という流れになると思う。  \n",
    "JupyterのHomeの中にフォルダーを作って、その中に置いたらどうなるか。  \n",
    "これもやってみればわかる。\n",
    "\n",
    "問題  \n",
    "3 + 4 を計算すると 7 になります。と表示する関数show3+4()を作れ。"
   ]
  },
  {
   "cell_type": "raw",
   "metadata": {},
   "source": [
    "// show3+4.cpp\n",
    "#include <iostream>\n",
    "void show3and4() {\n",
    "    std::cout << 3 << \" + \" << 4 << \" を計算すると \" << 7 << \" になります。\" << std::endl;\n",
    "}"
   ]
  },
  {
   "cell_type": "code",
   "execution_count": null,
   "metadata": {},
   "outputs": [],
   "source": [
    ".L ./mycpp/show3+4.cpp"
   ]
  },
  {
   "cell_type": "code",
   "execution_count": null,
   "metadata": {},
   "outputs": [],
   "source": [
    "show3and4();"
   ]
  },
  {
   "cell_type": "markdown",
   "metadata": {},
   "source": [
    "えっと、関数名のなかに`+`はゆるされていませんでした。  \n",
    "ファイル名は大丈夫だったけど管理上一致しないのはわかりにくい。  \n",
    "関数なので命令ではないので`( )`が必要です。忘れがち。  \n",
    "セルのRaw NBConvertセルに書くより、Textファイルに書く方がエディターがプログラム対応していてくれるので便利かも。  \n",
    "\n",
    "問題\n",
    "初期化していないint変数 uninitialized なにが入っているか示すプログラムを作れ。"
   ]
  },
  {
   "cell_type": "raw",
   "metadata": {},
   "source": [
    "// uninitialized.cpp\n",
    "#include <iostream>\n",
    "void uninitialized() {\n",
    "    int uninitialized;\n",
    "    std::cout << \" uninitialized: \" << uninitialized << \" でした。 \"  << std::endl;\n",
    "}"
   ]
  },
  {
   "cell_type": "code",
   "execution_count": null,
   "metadata": {},
   "outputs": [],
   "source": [
    ".L ./mycpp/uninitialized.cpp"
   ]
  },
  {
   "cell_type": "code",
   "execution_count": null,
   "metadata": {},
   "outputs": [],
   "source": [
    "uninitialized()"
   ]
  },
  {
   "cell_type": "markdown",
   "metadata": {},
   "source": [
    "32682になった。処理系によってちがうらしい。\n",
    "\n",
    "\n",
    "問題  \n",
    "入力演算子`>>`を用いて型について考えよう。 \n",
    "\n",
    "\n",
    "`std:cin >> n` とか書くのですが、Jupyter上ではうまく使えない。  \n",
    "関数化して明示的に引数を渡すしかないと思うがどうか。  \n",
    "\n",
    "問題  \n",
    "1/2と1/2.0を表示して考察する。"
   ]
  },
  {
   "cell_type": "code",
   "execution_count": null,
   "metadata": {},
   "outputs": [],
   "source": [
    "1/2.0"
   ]
  },
  {
   "cell_type": "markdown",
   "metadata": {},
   "source": [
    "定数とか変数とか"
   ]
  },
  {
   "cell_type": "code",
   "execution_count": null,
   "metadata": {},
   "outputs": [],
   "source": [
    "const int MAXINT = 988097l;\n",
    "char a = 'A';\n",
    "a"
   ]
  },
  {
   "cell_type": "code",
   "execution_count": null,
   "metadata": {},
   "outputs": [],
   "source": [
    "/* これはエラーになる\n",
    "char* p = \"C++\";\n",
    "p;\n",
    "*/"
   ]
  },
  {
   "cell_type": "code",
   "execution_count": null,
   "metadata": {},
   "outputs": [],
   "source": [
    "float testAverage;\n",
    "bool flag = false;\n",
    "flag;"
   ]
  },
  {
   "cell_type": "code",
   "execution_count": null,
   "metadata": {},
   "outputs": [],
   "source": [
    "false;"
   ]
  },
  {
   "cell_type": "markdown",
   "metadata": {},
   "source": [
    "true とか falseが返されます。0か1だと思っていたのですが。"
   ]
  },
  {
   "cell_type": "code",
   "execution_count": null,
   "metadata": {},
   "outputs": [],
   "source": [
    "010001"
   ]
  },
  {
   "cell_type": "code",
   "execution_count": null,
   "metadata": {
    "scrolled": true
   },
   "outputs": [],
   "source": [
    "0xff"
   ]
  },
  {
   "cell_type": "code",
   "execution_count": null,
   "metadata": {},
   "outputs": [],
   "source": [
    "1.2e15"
   ]
  },
  {
   "cell_type": "code",
   "execution_count": null,
   "metadata": {},
   "outputs": [],
   "source": [
    "0b101010"
   ]
  },
  {
   "cell_type": "markdown",
   "metadata": {},
   "source": [
    "2進数とかについて、整理すると  \n",
    "```\n",
    "2進数は `0b` で始まる。\n",
    "8進数は `0` で始まる。\n",
    "16進数は `0x` で始まる\n",
    "```\n",
    "です。"
   ]
  },
  {
   "cell_type": "markdown",
   "metadata": {},
   "source": [
    "#### C++のキーワード\n",
    "\n",
    "and\tand_eq\tasm\tauto\tbitand\n",
    "bitor\tbool\tbreak\tcase\tcatch\n",
    "char\tclass\tcompl\tconst\tconst_cast\n",
    "continue\tdefault\tdelete\tdo\tdouble\n",
    "dynamic_cast\telse\tenum\texplict\texport\n",
    "extern\tdfalse\tfloat\tfor\tfriend\n",
    "goto\tif\tinline\tint\tlong\n",
    "mutable\tnamespace\tnew\tnot\tnot_eq\n",
    "operator\tor\tor_eq\tprivate\tprotected\n",
    "public\tregister\treinterpret_cast\treturn\tshort\n",
    "signed\tsizeof\tstatic\tstatic_cast\tstruct\n",
    "switch\ttemplate\tthis\tthrow\ttrue\n",
    "try\ttypedef\ttypeid\ttypename\tusing\n",
    "union\tunsigned\tvirtual\tvoid\tvolatile\n",
    "wchar_t\twhile\txor\txor_eq\t"
   ]
  },
  {
   "cell_type": "markdown",
   "metadata": {},
   "source": [
    "#### 識別子の形\n",
    "```\n",
    "クラス名: 大文字で始まる -> TextEditor, ErrorDialog\n",
    "メンバ関数名: 小文字で始まる -> addFirst(), hasNext()\n",
    "メンバ変数名: 小文字で始まる -> daysOfWeek, summerVacation \n",
    "定数: 全て大文字 -> PI, DAY_OF_MONTH\n",
    "```"
   ]
  },
  {
   "cell_type": "code",
   "execution_count": null,
   "metadata": {},
   "outputs": [],
   "source": [
    "bool flag = true;\n",
    "flag;"
   ]
  },
  {
   "cell_type": "code",
   "execution_count": null,
   "metadata": {},
   "outputs": [],
   "source": [
    "#include <iostream>\n",
    "using namespace std;\n",
    "bool flag = true;\n",
    "std::cout << \"flag = \" << flag << std::endl;"
   ]
  },
  {
   "cell_type": "markdown",
   "metadata": {},
   "source": [
    "この場合はtrueでなく、`1`が返されます。なぜだろう。"
   ]
  },
  {
   "cell_type": "code",
   "execution_count": null,
   "metadata": {},
   "outputs": [],
   "source": [
    "#include <iostream>\n",
    "using namespace std;\n",
    "std::cout << int('A') << std::endl;"
   ]
  },
  {
   "cell_type": "code",
   "execution_count": null,
   "metadata": {},
   "outputs": [],
   "source": [
    "int('A');"
   ]
  },
  {
   "cell_type": "markdown",
   "metadata": {},
   "source": [
    "割り算と冪乗"
   ]
  },
  {
   "cell_type": "code",
   "execution_count": null,
   "metadata": {},
   "outputs": [],
   "source": [
    "10 / 3"
   ]
  },
  {
   "cell_type": "markdown",
   "metadata": {},
   "source": [
    "10 / 3 は3を返します。"
   ]
  },
  {
   "cell_type": "code",
   "execution_count": null,
   "metadata": {},
   "outputs": [],
   "source": [
    "10 % 3"
   ]
  },
  {
   "cell_type": "markdown",
   "metadata": {},
   "source": [
    "10 % 3 は1を返します。余りです。"
   ]
  },
  {
   "cell_type": "code",
   "execution_count": null,
   "metadata": {},
   "outputs": [],
   "source": [
    "#include <cmath>\n",
    "pow(2,3)"
   ]
  },
  {
   "cell_type": "markdown",
   "metadata": {},
   "source": [
    "8.000000 を返します。べき乗です。"
   ]
  },
  {
   "cell_type": "code",
   "execution_count": null,
   "metadata": {},
   "outputs": [],
   "source": [
    "#include <cmath>\n",
    "log(8) / log (2)"
   ]
  },
  {
   "cell_type": "markdown",
   "metadata": {},
   "source": [
    "logはlog()ですね。自然対数です。"
   ]
  },
  {
   "cell_type": "code",
   "execution_count": null,
   "metadata": {},
   "outputs": [],
   "source": [
    "#include <cmath>\n",
    "log(exp(1))"
   ]
  },
  {
   "cell_type": "markdown",
   "metadata": {},
   "source": [
    "これは 1.0000000 を返します。"
   ]
  },
  {
   "cell_type": "code",
   "execution_count": null,
   "metadata": {},
   "outputs": [],
   "source": [
    "0b1101"
   ]
  },
  {
   "cell_type": "markdown",
   "metadata": {},
   "source": [
    "列挙型"
   ]
  },
  {
   "cell_type": "code",
   "execution_count": null,
   "metadata": {},
   "outputs": [],
   "source": [
    "enum sex {female, male}; // 性別\n",
    "enum day {sun, mon, tue, wed, thu, fri, sat}; // 曜日\n",
    "enum radix {bin=2, oct=8, dec=10,hex=16};   // 進数\n",
    "enum color {red,orange, yellow, green, blue, violet}; // 色\n",
    "enum rank {ten,jack, queen, king, ace}; //  カード\n",
    "enum suit {clubs, diamonds, hearts, spades}; // カードの組\n",
    "enum roman {i = 1, v = 5, x = 10, l = 50, c = 100, d = 500, m = 1000}; // 数字"
   ]
  },
  {
   "cell_type": "markdown",
   "metadata": {},
   "source": [
    "列挙型のリストは読みやすくなるが、中で指定された文字が他の目的に使えなくなってしまいます。"
   ]
  },
  {
   "cell_type": "markdown",
   "metadata": {},
   "source": [
    "配列"
   ]
  },
  {
   "cell_type": "code",
   "execution_count": null,
   "metadata": {},
   "outputs": [],
   "source": [
    "int prime[] = {2,3,5,7,11,13,17};"
   ]
  },
  {
   "cell_type": "code",
   "execution_count": null,
   "metadata": {},
   "outputs": [],
   "source": [
    "prime;"
   ]
  },
  {
   "cell_type": "markdown",
   "metadata": {},
   "source": [
    "上のは{ 2, 3, 5, 7, 11, 13, 17 }が表示されます。"
   ]
  },
  {
   "cell_type": "code",
   "execution_count": null,
   "metadata": {},
   "outputs": [],
   "source": [
    "prime[3];"
   ]
  },
  {
   "cell_type": "markdown",
   "metadata": {},
   "source": []
  },
  {
   "cell_type": "markdown",
   "metadata": {},
   "source": [
    "これは 7 が表示されます。"
   ]
  },
  {
   "cell_type": "markdown",
   "metadata": {},
   "source": [
    "### 文字型配列(C-strings)"
   ]
  },
  {
   "cell_type": "code",
   "execution_count": null,
   "metadata": {},
   "outputs": [],
   "source": [
    "char str[] = { 'A','N','S','\\0' };"
   ]
  },
  {
   "cell_type": "code",
   "execution_count": null,
   "metadata": {},
   "outputs": [],
   "source": [
    "str;"
   ]
  },
  {
   "cell_type": "markdown",
   "metadata": {},
   "source": [
    "(char [4]) \"ANS\"と表示されます。"
   ]
  },
  {
   "cell_type": "code",
   "execution_count": null,
   "metadata": {},
   "outputs": [],
   "source": [
    "char str[] = \"Yamada\""
   ]
  },
  {
   "cell_type": "code",
   "execution_count": null,
   "metadata": {},
   "outputs": [],
   "source": [
    "str;"
   ]
  },
  {
   "cell_type": "markdown",
   "metadata": {},
   "source": [
    "(char [7]) \"Yamada\"と表示されます。"
   ]
  },
  {
   "cell_type": "code",
   "execution_count": null,
   "metadata": {},
   "outputs": [],
   "source": [
    "#include <iostream>\n",
    "using namespace std;\n",
    "char str[] = \"Taro\";\n",
    "cout << str << endl;"
   ]
  },
  {
   "cell_type": "markdown",
   "metadata": {},
   "source": [
    "Taro と出力されます。\n",
    "\n",
    "ヘッダファイル <cstring> には、strlen(),\n",
    "strcpy(), strncpy(), strcat(), strncat(),\n",
    "strcmp(), strncmp()などがある。\n",
    "\n",
    "### 文字列の格納\n",
    "次のプログラムはエラーになります。"
   ]
  },
  {
   "cell_type": "code",
   "execution_count": null,
   "metadata": {},
   "outputs": [],
   "source": [
    "/*\n",
    "#include <iostream>\n",
    "using namespace std;\n",
    "char* weekDays [] = {” 日曜 ”,” 月曜 ”,” 火曜 ”,” 水曜 ”,” 木曜 ”,” 金曜 ”,” 土曜 ”};\n",
    "char* s = weekDays[2];\n",
    "cout << ”weekDays[2]=” << s << ” です。\\n”; }\n",
    "*/"
   ]
  },
  {
   "cell_type": "code",
   "execution_count": null,
   "metadata": {},
   "outputs": [],
   "source": [
    "/*\n",
    "#include <string>\n",
    "#include <iostream>\n",
    "using namespace std;\n",
    "string weekDays [] = {” 日曜 ”,” 月曜 ”,” 火曜 ”,” 水曜 ”,” 木曜 ”,” 金曜 ”,” 土曜 ”};\n",
    "string s = weekDays[2];\n",
    "cout << ”weekDays[2]=” << s << ” です。\\n”; }\n",
    "*/"
   ]
  },
  {
   "cell_type": "code",
   "execution_count": 1,
   "metadata": {},
   "outputs": [
    {
     "data": {
      "text/plain": []
     },
     "execution_count": 1,
     "metadata": {},
     "output_type": "execute_result"
    }
   ],
   "source": [
    "#include <string>\n",
    "using namespace std;\n",
    "string s1 = \"東京都江戸川区\";\n",
    "string s2(60,'*');\n",
    "string s3 = s2;\n",
    "string s4(s1,4,2);\n",
    "string s5;"
   ]
  },
  {
   "cell_type": "code",
   "execution_count": 4,
   "metadata": {},
   "outputs": [
    {
     "data": {
      "text/plain": [
       "(std::string &) \"��\"\n"
      ]
     },
     "execution_count": 4,
     "metadata": {},
     "output_type": "execute_result"
    }
   ],
   "source": [
    "s4"
   ]
  },
  {
   "cell_type": "markdown",
   "metadata": {},
   "source": [
    "s1は7個の文字  \n",
    "s2は60個のアスタリスク  \n",
    "s3は60個のアスタリスク  \n",
    "s4は2文字    \n",
    "s5は\"\"\n",
    "\n",
    "\n"
   ]
  },
  {
   "cell_type": "markdown",
   "metadata": {},
   "source": []
  }
 ],
 "metadata": {
  "kernelspec": {
   "display_name": "C++17",
   "language": "C++",
   "name": "cling-cpp17"
  },
  "language_info": {
   "codemirror_mode": "c++",
   "file_extension": ".c++",
   "mimetype": "text/x-c++src",
   "name": "c++"
  }
 },
 "nbformat": 4,
 "nbformat_minor": 2
}
