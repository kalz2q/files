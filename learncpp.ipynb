{
 "cells": [
  {
   "cell_type": "markdown",
   "metadata": {},
   "source": [
    "# JupyterでC++を勉強するぞ！\n",
    "とは言え、なにをいれたらいいかわかりません。  \n",
    "まずはいろいろ実験してみよう。"
   ]
  },
  {
   "cell_type": "code",
   "execution_count": null,
   "metadata": {},
   "outputs": [],
   "source": [
    "int n = 5"
   ]
  },
  {
   "cell_type": "markdown",
   "metadata": {},
   "source": [
    "int n = 5 みたいのを2回評価しようとすると叱られます。  \n",
    "同じ変数は再定義エラーになる。  \n",
    "\n",
    "一行にいくつも書くのでなければセミコロンはひつようないみたい。  \n",
    "\n",
    "Kernelメニューの`Restart & Clear Output` とかをしょっちゅうやる必要があるのかな。  \n",
    "`Help`メニューでキーボード・ショートカットを編集できる。  \n",
    "`Restart & Clear Output` についてはショートカットがなかったので、Ctrl-G, Ctrl-G というショートカットにしました。\n"
   ]
  },
  {
   "cell_type": "code",
   "execution_count": null,
   "metadata": {},
   "outputs": [],
   "source": [
    "n"
   ]
  },
  {
   "cell_type": "code",
   "execution_count": null,
   "metadata": {},
   "outputs": [],
   "source": [
    "n++;"
   ]
  },
  {
   "cell_type": "code",
   "execution_count": null,
   "metadata": {},
   "outputs": [],
   "source": [
    "++n;"
   ]
  },
  {
   "cell_type": "markdown",
   "metadata": {},
   "source": [
    "上の3つは評価する(実行する)と、アウトプットはそれぞれ5, 5, 7になります。\n",
    "\n",
    "「実行する」でもいいけど、「評価する」のほうがいい気がするので「評価する」を使います。  \n",
    "キーボード・ショートカットは Ctrl-Enterです。  \n",
    "これはわかりやすい。\n",
    "\n",
    "マークダウンセルもCtrl-Enterすると綺麗に書きなおしてくれます。\n",
    "\n",
    "Shiftをおしていくつかのセルを選んでCtrl-Enterを押すと全部（上から順に）評価してくれます。"
   ]
  },
  {
   "cell_type": "markdown",
   "metadata": {},
   "source": [
    "C++ Clingの紹介ビデオ YouTube を見ると、メタコマンド`.help`の話があります。\n",
    "\n",
    "これはなんなんだろう。やってみよう。\n",
    "\n",
    "やってみたところ、英語のファイルがでてきた。どうしようか。これでは困る。  \n",
    "\n",
    "少し試してみたけど、ビデオでも紹介のあった、ファイルやライブラリーをロードする\".L\"というメタコマンドだけ覚えておけばいいみたいです。"
   ]
  },
  {
   "cell_type": "markdown",
   "metadata": {},
   "source": [
    "### Jupyterのキーボード・ショートカット\n",
    "Jupyterを効率よく使うにはキーボード・ショートカットは欠かせません。  \n",
    "別途jupyterKeys.txtというファイルを用意しましたので参考にしてください。"
   ]
  },
  {
   "cell_type": "markdown",
   "metadata": {},
   "source": [
    "```\n",
    "Fキー: 検索と置換\n",
    "Ctrl-Shift-Fキー: コマンドパレットを開く\n",
    "Ctrl-Shift-Pキー: コマンドパレットを開く\n",
    "Enterキー: 編集モードに入る\n",
    "Pキー: コマンドパレットを開く\n",
    "Shift-Enterキー: セルを評価して、下のセルを選択\n",
    "Ctrl-Enterキー: 選択したセルを評価\n",
    "Alt-Enterキー: セルを評価して、下に新規セル挿入\n",
    "Yキー: コードモードに\n",
    "Mキー: マークダウンモードに\n",
    "Rキー: raw（テキスト）モードに\n",
    "1キー: 「見出し１（大見出し）」で書き出す\n",
    "2キー: 「見出し２（中見出し）」で書き出す\n",
    "3キー: 「見出し３」で書き出す\n",
    "4キー: 「見出し４」で書き出す\n",
    "5キー: 「見出し５」で書き出す\n",
    "6キー: 「見出し６」で書き出す\n",
    "Kキー: 上のセルに移動\n",
    "Upキー: 上のセルに移動\n",
    "Downキー: 下のセルに移動\n",
    "Jキー: 下のセルに移動\n",
    "Shift-Kキー: 上のセルを複数選択\n",
    "Shift-Upキー: 上のセルを複数選択\n",
    "Shift-Downキー: 下のセルを複数選択\n",
    "Shift-Jキー: 下のセルを複数選択\n",
    "Aキー: セルを上に挿入\n",
    "Bキー: セルを下に挿入\n",
    "Xキー: セルを切り取り\n",
    "Cキー: セルをコピー\n",
    "Shift-Vキー: セルを上に挿入してペースト\n",
    "Vキー: セルを下に挿入してペースト\n",
    "Zキー: 削除したセルを戻す\n",
    "DDキー: 選択したセルを削除\n",
    "Shift-Mキー: セルを統合\n",
    "Ctrl-Sキー: 保存とチェックポイント\n",
    "Sキー: 保存とチェックポイント\n",
    "Lキー: セルの中の行番号を表示\n",
    "Oキー: 選択セルの評価結果を表示\n",
    "Shift-Oキー: 選択セルの評価結果をスクロール表示\n",
    "Hキー: ショートカットキーを表示\n",
    "IIキー: カーネルを中断\n",
    "00キー: カーネルをリスタート\n",
    "Shift-Lキー: 行番号を表示/非表示\n",
    "Shift-Spaceキー: 上にスクロール\n",
    "Spaceキー: 下にスクロール\n",
    "Tabキー: コード自動補完、インデント\n",
    "Shift-Tabキー: ツールチップ（tooltip）\n",
    "Ctrl-]キー: インデント\n",
    "Ctrl-[キー: インデント消す\n",
    "Ctrl-Aキー: 全選択\n",
    "Ctrl-Zキー: 元に戻す\n",
    "Ctrl-/キー: コメント\n",
    "Ctrl-Dキー: 行を削除\n",
    "Ctrl-Uキー: 選択をやり直す\n",
    "Insertキー: 挿入/上書きモード切り替え\n",
    "Ctrl-Homeキー: 最初のセルに移動\n",
    "Ctrl-Upキー: セルの最初に移動\n",
    "Ctrl-Downキー: セルの最後に移動\n",
    "Ctrl-Endキー: 最後のセルに移動\n",
    "Ctrl-Leftキー: １単語左に移動\n",
    "Ctrl-Rightキー: １単語右に移動\n",
    "Ctrl-Backspade: 左の単語を消去\n",
    "Ctrl-Delete: 右の単語を消去\n",
    "Ctrl-Yキー: やり直す\n",
    "Alt-Uキー: 選択をやり直す\n",
    "Ctrl-Mキー: コマンドモード\n",
    "Ctrl-Shift-Fキー: コマンドパレットを開く\n",
    "Ctrl-Shift-Pキー: コマンドパレットを開く\n",
    "Escキー: コマンドモード\n",
    "Shift-Enterキー: セルを評価して、下のセルを選択\n",
    "Ctrl-Enterキー: 選択したセルを評価\n",
    "Alt-Enterキー: セルを評価して、下にセルを挿入\n",
    "Ctrl-Shift--キー: セルを分割\n",
    "Ctrl-Sキー: 保存とチェックポイント\n",
    "Downキー: カーソルを下に移動\n",
    "Upキー: カーソルを上に移動\n",
    "```"
   ]
  },
  {
   "cell_type": "markdown",
   "metadata": {},
   "source": [
    "### ハローワールド\n",
    "ふつうのテキストにあるハローワールドのプログラムをこの環境でどう走らせるか。  \n",
    "```\n",
    "//sample.cpp\n",
    "#include <iostream>\n",
    "using namespace std;\n",
    "int main ()\n",
    "{\n",
    "    cout << \"はろー！ 世界！！\";\n",
    "    return 0;\n",
    "}\n",
    "```\n",
    "JupyterのHomeに行って、すきな場所で`New`ボタンのメニューから`Text`を選びます。  \n",
    "ファイル名をsample.txtにして、上記のコードを打ち込みます。  \n",
    "このテキストに戻って、`.L`を使って、ロードします。  \n",
    "ロードできたら、main()関数を評価します。"
   ]
  },
  {
   "cell_type": "code",
   "execution_count": null,
   "metadata": {},
   "outputs": [],
   "source": [
    ".L ./mycpp/sample.cpp"
   ]
  },
  {
   "cell_type": "code",
   "execution_count": null,
   "metadata": {},
   "outputs": [],
   "source": [
    "main()"
   ]
  },
  {
   "cell_type": "markdown",
   "metadata": {},
   "source": [
    "\"はろー！ 世界！！\"  \n",
    "と表示されると思います。  \n",
    "エラーがでるようでしたら、`Kernel`メニューの`Restart & Clear Output`を実行してから再度やってみて下さい。"
   ]
  },
  {
   "cell_type": "markdown",
   "metadata": {},
   "source": [
    "### 関数\n",
    "関数 function()を定義するには`.rawInput`を用いるらしいが、これもよくわからない。"
   ]
  },
  {
   "cell_type": "code",
   "execution_count": null,
   "metadata": {},
   "outputs": [],
   "source": [
    "// コメントはつかえるのかな"
   ]
  },
  {
   "cell_type": "code",
   "execution_count": null,
   "metadata": {},
   "outputs": [],
   "source": [
    "/* 複数行に\n",
    "わたるコメントはどうか */"
   ]
  },
  {
   "cell_type": "code",
   "execution_count": null,
   "metadata": {},
   "outputs": [],
   "source": [
    "#include <iostream>\n",
    "using namespace std;\n",
    "int n = 3;\n",
    "cout << n << \"番目の方どうぞ！\" << endl;"
   ]
  },
  {
   "cell_type": "markdown",
   "metadata": {},
   "source": [
    "これは、\"3番目の方どうぞ！\"と表示されます。\n",
    "\n",
    "\n",
    "次に`.rawInput`を使った関数定義の実験です。"
   ]
  },
  {
   "cell_type": "code",
   "execution_count": null,
   "metadata": {},
   "outputs": [],
   "source": [
    ".rawInput"
   ]
  },
  {
   "cell_type": "code",
   "execution_count": null,
   "metadata": {},
   "outputs": [],
   "source": [
    "void increase(int& x){ ++x;}"
   ]
  },
  {
   "cell_type": "code",
   "execution_count": null,
   "metadata": {},
   "outputs": [],
   "source": [
    ".rawInput"
   ]
  },
  {
   "cell_type": "markdown",
   "metadata": {},
   "source": [
    "実際に使ってみることができます。  "
   ]
  },
  {
   "cell_type": "code",
   "execution_count": null,
   "metadata": {},
   "outputs": [],
   "source": [
    "int n = 8;\n",
    "increase(n);n;"
   ]
  },
  {
   "cell_type": "markdown",
   "metadata": {},
   "source": [
    "以上を評価すると、ちゃんと9が表示され、nが9になっているのがわかります。\n",
    "\n",
    "\n",
    "しかし！ メタコマンドの`.rawInput`を使わなくても、普通に書いてセルを評価したら関数定義できて、使えました。\n"
   ]
  },
  {
   "cell_type": "markdown",
   "metadata": {},
   "source": [
    "途中ですが、いまの環境を書いておきます。  \n",
    "Ubuntu 16.04 でいま2018年3月なのでもうすぐ18.04になるかもしれない。  \n",
    "C++をインタープリターとして使うと勉強がはかどるのではないか、と思って入れてみました。  \n",
    "以上\n",
    "\n",
    "簡単なのでいいからプログラムの形でセルに入れたいね。  \n",
    "やってみよう。"
   ]
  },
  {
   "cell_type": "markdown",
   "metadata": {},
   "source": [
    "### 文字リテラル\n",
    "大文字のAは10進数で65。2進数で1000001。16進数で0x41。8進数では0101。 \n",
    "データ型の具体的な値をリテラルという。  \n",
    "文字型(char)のリテラルの例は'A'。stringの例が\"hello\"。\n",
    "\n",
    "問題  \n",
    "時速を秒速に変換するには3倍して10で割ればほぼ一致します。  \n",
    "と表示せよ。"
   ]
  },
  {
   "cell_type": "code",
   "execution_count": null,
   "metadata": {},
   "outputs": [],
   "source": [
    "#include <iostream>\n",
    "using namespace std;\n",
    "cout << \"時速を秒速に変換するには\" << 3 << \"倍して\" << 10 << \"で割ればほぼ一致します。\" << endl;"
   ]
  },
  {
   "cell_type": "markdown",
   "metadata": {},
   "source": [
    "目的のとおりに表示できました。  \n",
    "これを`main()`の形のプログラムにすると、うまく行くこともありますが、Jupyterの挙動がおかしくなります。\n",
    "\n",
    "一旦'Restart & Clear Output'してから下の2つのセルを評価して見てください。"
   ]
  },
  {
   "cell_type": "code",
   "execution_count": null,
   "metadata": {},
   "outputs": [],
   "source": [
    "#include <iostream>\n",
    "int main()\n",
    "{\n",
    "  std::cout << \"時速を秒速に変換するには\" << 3 << \"倍して\" << 10 << \"で割ればほぼ一致します。\" << std::endl;\n",
    "}"
   ]
  },
  {
   "cell_type": "code",
   "execution_count": null,
   "metadata": {},
   "outputs": [],
   "source": [
    "main()"
   ]
  },
  {
   "cell_type": "markdown",
   "metadata": {},
   "source": [
    "これを避けるには、mainではなく、別の名前mymainとかにするといいみたいです。\n",
    "\n",
    "とりあえず、この環境ではmainが特に必要な場合になってから考えよう。"
   ]
  },
  {
   "cell_type": "markdown",
   "metadata": {},
   "source": [
    "問題\n",
    "整数44を変数$m$に代入し、式$m + 33$の結果を$n$に代入するプログラムを作成せよ。  \n",
    "\n",
    "変数がMathJaxの$LaTex$で表示されました。`$`で囲むだけです。"
   ]
  },
  {
   "cell_type": "code",
   "execution_count": null,
   "metadata": {},
   "outputs": [],
   "source": [
    "#include <iostream>\n",
    "using namespace std;\n",
    "int m, n04;\n",
    "m = 44;\n",
    "cout << \"m = \" << m ;\n",
    "n04 = m + 33;\n",
    "cout << \" and n = \" << n04 << endl;"
   ]
  },
  {
   "cell_type": "markdown",
   "metadata": {},
   "source": [
    "ちょっとコツがつかめてきたみたい。  \n",
    "この調子で少し進めよう。  \n",
    "なんとなく、C++はJupyterには向かない気もするが。\n",
    "\n",
    "### ラムダ計算の例\n",
    "うまく行かないので、とりあえずコメントアウト"
   ]
  },
  {
   "cell_type": "code",
   "execution_count": null,
   "metadata": {},
   "outputs": [],
   "source": [
    "// int x01 = [](int a , int b) -> int { return a + b;} (2,4)"
   ]
  },
  {
   "cell_type": "code",
   "execution_count": null,
   "metadata": {},
   "outputs": [],
   "source": [
    "// auto func = [](int a, int b) -> int { return a+b; };"
   ]
  },
  {
   "cell_type": "code",
   "execution_count": null,
   "metadata": {},
   "outputs": [],
   "source": [
    "// func(2,3)"
   ]
  },
  {
   "cell_type": "markdown",
   "metadata": {},
   "source": [
    "ラムダ計算はうまく行きません。  \n",
    "\n",
    "次に別ファイルにプログラムを書いて読み込むのをやってみます。"
   ]
  },
  {
   "cell_type": "code",
   "execution_count": null,
   "metadata": {},
   "outputs": [],
   "source": [
    ".L ./mycpp/func.cpp"
   ]
  },
  {
   "cell_type": "code",
   "execution_count": null,
   "metadata": {
    "scrolled": true
   },
   "outputs": [],
   "source": [
    "test()"
   ]
  },
  {
   "cell_type": "raw",
   "metadata": {},
   "source": [
    "//func.cpp\n",
    "#include <iostream>\n",
    "using namespace std;\n",
    "void test() {\n",
    "    cout << \"just a test\" << endl;\n",
    "}"
   ]
  },
  {
   "cell_type": "markdown",
   "metadata": {},
   "source": [
    "というテキストファイルを別途作りました。  \n",
    "ちゃんと\"just a test\"と表示されます。  \n",
    "ということは、関数定義は別ファイルということか。 \n",
    "これは使えるね。"
   ]
  },
  {
   "cell_type": "markdown",
   "metadata": {},
   "source": [
    "問題  \n",
    "3 + 4 を計算すると 7 になります。と表示する関数show3+4()を作れ。"
   ]
  },
  {
   "cell_type": "markdown",
   "metadata": {},
   "source": [
    "```\n",
    "// show3+4.cpp\n",
    "#include <iostream>\n",
    "using namespace std;\n",
    "void show3and4() {\n",
    "    cout << 3 << \" + \" << 4 << \" を計算すると \" << 7 << \" になります。\" << endl;\n",
    "}\n",
    "```"
   ]
  },
  {
   "cell_type": "code",
   "execution_count": null,
   "metadata": {},
   "outputs": [],
   "source": [
    ".L ./mycpp/show3+4.cpp"
   ]
  },
  {
   "cell_type": "code",
   "execution_count": null,
   "metadata": {},
   "outputs": [],
   "source": [
    "show3and4();"
   ]
  },
  {
   "cell_type": "markdown",
   "metadata": {},
   "source": [
    "えっと、関数名のなかに`+`はゆるされていませんでした。  \n",
    "ファイル名は大丈夫だったけど管理上一致しないのはわかりにくい。  \n",
    "関数なので命令ではないので`( )`が必要です。忘れがち。  \n",
    " \n",
    "\n",
    "問題\n",
    "初期化していないint変数 uninitialized なにが入っているか示すプログラムを作れ。"
   ]
  },
  {
   "cell_type": "code",
   "execution_count": null,
   "metadata": {},
   "outputs": [],
   "source": [
    "// uninitialized.cpp\n",
    "#include <iostream>\n",
    "void uninitialized() {\n",
    "    int uninitialized;\n",
    "    std::cout << \" uninitialized: \" << uninitialized << \" でした。 \"  << std::endl;\n",
    "}"
   ]
  },
  {
   "cell_type": "code",
   "execution_count": null,
   "metadata": {},
   "outputs": [],
   "source": [
    ".L ./mycpp/uninitialized.cpp"
   ]
  },
  {
   "cell_type": "code",
   "execution_count": null,
   "metadata": {},
   "outputs": [],
   "source": [
    "uninitialized()"
   ]
  },
  {
   "cell_type": "markdown",
   "metadata": {},
   "source": [
    "げっ！ セルで評価した結果の関数は32760になって、別ファイルから読み込んだ関数の結果が32682になった。  \n",
    "なぜだ。不思議です。\n",
    "\n",
    "\n",
    "\n",
    "\n",
    "問題  \n",
    "入力演算子`>>`を用いて型について考えよう。 \n",
    "\n",
    "\n",
    "`std:cin >> n` とか書くのですが、Jupyter上ではうまく使えない。  \n",
    "関数化して明示的に引数を渡すしかないと思うがどうか。  \n",
    "あとで考えよう。\n",
    "\n",
    "問題  \n",
    "1/2と1/2.0を表示して考察する。"
   ]
  },
  {
   "cell_type": "code",
   "execution_count": null,
   "metadata": {},
   "outputs": [],
   "source": [
    "1/2.0"
   ]
  },
  {
   "cell_type": "code",
   "execution_count": null,
   "metadata": {},
   "outputs": [],
   "source": [
    "1/2"
   ]
  },
  {
   "cell_type": "markdown",
   "metadata": {},
   "source": [
    "定数とか変数とか"
   ]
  },
  {
   "cell_type": "code",
   "execution_count": null,
   "metadata": {},
   "outputs": [],
   "source": [
    "const int MAXINT = 988097l;\n",
    "char a = 'A';\n",
    "a"
   ]
  },
  {
   "cell_type": "code",
   "execution_count": null,
   "metadata": {},
   "outputs": [],
   "source": [
    "/* これはエラーになる\n",
    "char* p = \"C++\";\n",
    "p;\n",
    "*/"
   ]
  },
  {
   "cell_type": "code",
   "execution_count": null,
   "metadata": {},
   "outputs": [],
   "source": [
    "float testAverage;\n",
    "bool flag = false;\n",
    "flag;"
   ]
  },
  {
   "cell_type": "code",
   "execution_count": null,
   "metadata": {},
   "outputs": [],
   "source": [
    "false;"
   ]
  },
  {
   "cell_type": "markdown",
   "metadata": {},
   "source": [
    "true とか falseが返されます。0か1だと思っていたのですが。"
   ]
  },
  {
   "cell_type": "code",
   "execution_count": null,
   "metadata": {},
   "outputs": [],
   "source": [
    "010001"
   ]
  },
  {
   "cell_type": "code",
   "execution_count": null,
   "metadata": {
    "scrolled": true
   },
   "outputs": [],
   "source": [
    "0xff"
   ]
  },
  {
   "cell_type": "code",
   "execution_count": null,
   "metadata": {},
   "outputs": [],
   "source": [
    "1.2e15"
   ]
  },
  {
   "cell_type": "code",
   "execution_count": null,
   "metadata": {},
   "outputs": [],
   "source": [
    "0b101010"
   ]
  },
  {
   "cell_type": "markdown",
   "metadata": {},
   "source": [
    "2進数とかについて、整理すると  \n",
    "```\n",
    "2進数は `0b` で始まる。\n",
    "8進数は `0` で始まる。\n",
    "16進数は `0x` で始まる\n",
    "```\n",
    "です。"
   ]
  },
  {
   "cell_type": "markdown",
   "metadata": {},
   "source": [
    "#### C++のキーワード\n",
    "\n",
    "and\tand_eq\tasm\tauto\tbitand\n",
    "bitor\tbool\tbreak\tcase\tcatch\n",
    "char\tclass\tcompl\tconst\tconst_cast\n",
    "continue\tdefault\tdelete\tdo\tdouble\n",
    "dynamic_cast\telse\tenum\texplict\texport\n",
    "extern\tdfalse\tfloat\tfor\tfriend\n",
    "goto\tif\tinline\tint\tlong\n",
    "mutable\tnamespace\tnew\tnot\tnot_eq\n",
    "operator\tor\tor_eq\tprivate\tprotected\n",
    "public\tregister\treinterpret_cast\treturn\tshort\n",
    "signed\tsizeof\tstatic\tstatic_cast\tstruct\n",
    "switch\ttemplate\tthis\tthrow\ttrue\n",
    "try\ttypedef\ttypeid\ttypename\tusing\n",
    "union\tunsigned\tvirtual\tvoid\tvolatile\n",
    "wchar_t\twhile\txor\txor_eq\t"
   ]
  },
  {
   "cell_type": "markdown",
   "metadata": {},
   "source": [
    "#### 識別子の形\n",
    "```\n",
    "クラス名: 大文字で始まる -> TextEditor, ErrorDialog\n",
    "メンバ関数名: 小文字で始まる -> addFirst(), hasNext()\n",
    "メンバ変数名: 小文字で始まる -> daysOfWeek, summerVacation \n",
    "定数: 全て大文字 -> PI, DAY_OF_MONTH\n",
    "```"
   ]
  },
  {
   "cell_type": "code",
   "execution_count": null,
   "metadata": {},
   "outputs": [],
   "source": [
    "#include <iostream>\n",
    "using namespace std;\n",
    "bool flag = true;\n",
    "std::cout << \"flag = \" << flag << std::endl;"
   ]
  },
  {
   "cell_type": "markdown",
   "metadata": {},
   "source": [
    "この場合はtrueでなく、`1`が返されます。なぜだろう。"
   ]
  },
  {
   "cell_type": "code",
   "execution_count": null,
   "metadata": {},
   "outputs": [],
   "source": [
    "#include <iostream>\n",
    "using namespace std;\n",
    "cout << int('A') << endl;"
   ]
  },
  {
   "cell_type": "code",
   "execution_count": null,
   "metadata": {},
   "outputs": [],
   "source": [
    "int('A');"
   ]
  },
  {
   "cell_type": "markdown",
   "metadata": {},
   "source": [
    "`int('A')`は65なのですね。"
   ]
  },
  {
   "cell_type": "markdown",
   "metadata": {},
   "source": [
    "割り算と冪乗"
   ]
  },
  {
   "cell_type": "code",
   "execution_count": null,
   "metadata": {},
   "outputs": [],
   "source": [
    "10 / 3"
   ]
  },
  {
   "cell_type": "markdown",
   "metadata": {},
   "source": [
    "10 / 3 は3を返します。"
   ]
  },
  {
   "cell_type": "code",
   "execution_count": null,
   "metadata": {},
   "outputs": [],
   "source": [
    "10 % 3"
   ]
  },
  {
   "cell_type": "markdown",
   "metadata": {},
   "source": [
    "10 % 3 は1を返します。余りです。"
   ]
  },
  {
   "cell_type": "code",
   "execution_count": null,
   "metadata": {},
   "outputs": [],
   "source": [
    "#include <cmath>\n",
    "using namespace std;\n",
    "pow(2,3)"
   ]
  },
  {
   "cell_type": "markdown",
   "metadata": {},
   "source": [
    "8.000000 を返します。べき乗です。"
   ]
  },
  {
   "cell_type": "code",
   "execution_count": null,
   "metadata": {},
   "outputs": [],
   "source": [
    "#include <cmath>\n",
    "using namespace std;\n",
    "log(8) / log (2)"
   ]
  },
  {
   "cell_type": "markdown",
   "metadata": {},
   "source": [
    "logはlog()ですね。自然対数です。"
   ]
  },
  {
   "cell_type": "code",
   "execution_count": null,
   "metadata": {},
   "outputs": [],
   "source": [
    "#include <cmath>\n",
    "log(exp(1))"
   ]
  },
  {
   "cell_type": "markdown",
   "metadata": {},
   "source": [
    "これは 1.0000000 を返します。"
   ]
  },
  {
   "cell_type": "code",
   "execution_count": null,
   "metadata": {},
   "outputs": [],
   "source": [
    "0b1101"
   ]
  },
  {
   "cell_type": "markdown",
   "metadata": {},
   "source": [
    "列挙型"
   ]
  },
  {
   "cell_type": "code",
   "execution_count": null,
   "metadata": {},
   "outputs": [],
   "source": [
    "enum sex {female, male}; // 性別\n",
    "enum day {sun, mon, tue, wed, thu, fri, sat}; // 曜日\n",
    "enum radix {bin=2, oct=8, dec=10,hex=16};   // 進数\n",
    "enum color {red,orange, yellow, green, blue, violet}; // 色\n",
    "enum rank {ten,jack, queen, king, ace}; //  カード\n",
    "enum suit {clubs, diamonds, hearts, spades}; // カードの組\n",
    "enum roman {i = 1, v = 5, x = 10, l = 50, c = 100, d = 500, m = 1000}; // 数字"
   ]
  },
  {
   "cell_type": "markdown",
   "metadata": {},
   "source": [
    "列挙型のリストは読みやすくなるが、中で指定された文字が他の目的に使えなくなってしまいます。"
   ]
  },
  {
   "cell_type": "markdown",
   "metadata": {},
   "source": [
    "配列"
   ]
  },
  {
   "cell_type": "code",
   "execution_count": null,
   "metadata": {},
   "outputs": [],
   "source": [
    "int prime[] = {2,3,5,7,11,13,17};"
   ]
  },
  {
   "cell_type": "code",
   "execution_count": null,
   "metadata": {},
   "outputs": [],
   "source": [
    "prime;"
   ]
  },
  {
   "cell_type": "markdown",
   "metadata": {},
   "source": [
    "上のは{ 2, 3, 5, 7, 11, 13, 17 }が表示されます。"
   ]
  },
  {
   "cell_type": "code",
   "execution_count": null,
   "metadata": {},
   "outputs": [],
   "source": [
    "prime[3];"
   ]
  },
  {
   "cell_type": "markdown",
   "metadata": {},
   "source": [
    "これは 7 が表示されます。"
   ]
  },
  {
   "cell_type": "markdown",
   "metadata": {},
   "source": [
    "### 文字型配列(C-strings)"
   ]
  },
  {
   "cell_type": "code",
   "execution_count": null,
   "metadata": {},
   "outputs": [],
   "source": [
    "char str[] = { 'A','N','S','\\0' };"
   ]
  },
  {
   "cell_type": "code",
   "execution_count": null,
   "metadata": {},
   "outputs": [],
   "source": [
    "str;"
   ]
  },
  {
   "cell_type": "markdown",
   "metadata": {},
   "source": [
    "(char [4]) \"ANS\"と表示されます。"
   ]
  },
  {
   "cell_type": "code",
   "execution_count": null,
   "metadata": {},
   "outputs": [],
   "source": [
    "char str2[] = \"Yamada\""
   ]
  },
  {
   "cell_type": "code",
   "execution_count": null,
   "metadata": {},
   "outputs": [],
   "source": [
    "str2;"
   ]
  },
  {
   "cell_type": "markdown",
   "metadata": {},
   "source": [
    "(char [7]) \"Yamada\"と表示されます。"
   ]
  },
  {
   "cell_type": "code",
   "execution_count": null,
   "metadata": {},
   "outputs": [],
   "source": [
    "#include <string>\n",
    "using namespace std;\n",
    "string str3=\"Taro\""
   ]
  },
  {
   "cell_type": "code",
   "execution_count": null,
   "metadata": {},
   "outputs": [],
   "source": [
    "str3;"
   ]
  },
  {
   "cell_type": "markdown",
   "metadata": {},
   "source": [
    "これは`(std::string &) \"Taro\"`と表示されました。"
   ]
  },
  {
   "cell_type": "code",
   "execution_count": null,
   "metadata": {},
   "outputs": [],
   "source": [
    "str3[1];"
   ]
  },
  {
   "cell_type": "markdown",
   "metadata": {},
   "source": [
    "これは`(char) 'a'`と表示されました。`string`と配列の違いがわかりません。"
   ]
  },
  {
   "cell_type": "code",
   "execution_count": null,
   "metadata": {},
   "outputs": [],
   "source": [
    "#include <iostream>\n",
    "using namespace std;\n",
    "char str[] = \"Taro\";\n",
    "cout << str << endl;"
   ]
  },
  {
   "cell_type": "markdown",
   "metadata": {},
   "source": [
    "Taro と出力されます。\n",
    "\n",
    "ヘッダファイル `<cstring>` には、strlen(),\n",
    "strcpy(), strncpy(), strcat(), strncat(),\n",
    "strcmp(), strncmp()などがある。\n",
    "\n",
    "### 文字列の格納"
   ]
  },
  {
   "cell_type": "code",
   "execution_count": null,
   "metadata": {},
   "outputs": [],
   "source": [
    "#include <iostream>\n",
    "using namespace std;\n",
    "string weekDays [] = {\" 日曜 \",\" 月曜 \",\" 火曜 \",\" 水曜 \",\" 木曜 \",\" 金曜 \",\" 土曜 \"};\n",
    "string s = weekDays[2];\n",
    "cout << \"weekDays[2]=\" << s << \" です。\\n\"; "
   ]
  },
  {
   "cell_type": "markdown",
   "metadata": {},
   "source": [
    "weekDays[2]= 火曜  です。  \n",
    "と表示されました。"
   ]
  },
  {
   "cell_type": "code",
   "execution_count": null,
   "metadata": {},
   "outputs": [],
   "source": [
    "#include <string>\n",
    "using namespace std;\n",
    "string s1 = \"東京都江戸川区\";\n",
    "string s2(60,'*');\n",
    "string s3 = s2;\n",
    "string s4(s1,4,2);\n",
    "string s5;"
   ]
  },
  {
   "cell_type": "code",
   "execution_count": null,
   "metadata": {},
   "outputs": [],
   "source": [
    "s4"
   ]
  },
  {
   "cell_type": "markdown",
   "metadata": {},
   "source": [
    "これは(std::string &) \"��\"と出力されました。 文字化けします。\n"
   ]
  },
  {
   "cell_type": "markdown",
   "metadata": {},
   "source": [
    "s1は7個の文字  \n",
    "s2は60個のアスタリスク  \n",
    "s3は60個のアスタリスク  \n",
    "s4は2文字    \n",
    "s5は\"\"\n",
    "\n",
    "\n"
   ]
  },
  {
   "cell_type": "markdown",
   "metadata": {},
   "source": [
    "\n",
    "\n",
    "次はshort intとintの違いの実験です。"
   ]
  },
  {
   "cell_type": "code",
   "execution_count": null,
   "metadata": {
    "scrolled": true
   },
   "outputs": [],
   "source": [
    "#include <iostream>\n",
    "using namespace std;\n",
    "short int i;\n",
    "int j;\n",
    "j = 60000;\n",
    "i = j;\n",
    "cout << i << \"   \" << j << endl;"
   ]
  },
  {
   "cell_type": "markdown",
   "metadata": {},
   "source": [
    "-5536   60000\n",
    "と表示されました。\n",
    "\n",
    "\n",
    "プログラム名と関数名を同じにすると`.x`というメタコマンドで実行できます。"
   ]
  },
  {
   "cell_type": "markdown",
   "metadata": {},
   "source": [
    "```\n",
    "/shortint.cpp\n",
    "# include <iostream>\n",
    "using namespace std;\n",
    "int shortint ()\n",
    "{\n",
    "    short int i;\n",
    "    int j;\n",
    "    j = 60000;\n",
    "    i = j;\n",
    "    cout << i << \"   \" << j << endl;\n",
    "    return 0;\n",
    "}\n",
    "```"
   ]
  },
  {
   "cell_type": "code",
   "execution_count": null,
   "metadata": {
    "scrolled": true
   },
   "outputs": [],
   "source": [
    ".x ./mycpp/shortint.cpp"
   ]
  },
  {
   "cell_type": "markdown",
   "metadata": {},
   "source": [
    "-5536   60000\n",
    "と表示されました。\n",
    "\n",
    "しかし、これはセルでも作れるのではないか。"
   ]
  },
  {
   "cell_type": "code",
   "execution_count": null,
   "metadata": {},
   "outputs": [],
   "source": [
    "# include <iostream>\n",
    "int shortint ()\n",
    "{\n",
    "    short int i;\n",
    "    int j;\n",
    "    j = 60000;\n",
    "    i = j;\n",
    "    std::cout << i << \"   \" << j << std::endl;\n",
    "    return 0;\n",
    "}"
   ]
  },
  {
   "cell_type": "code",
   "execution_count": null,
   "metadata": {},
   "outputs": [],
   "source": [
    "shortint()"
   ]
  },
  {
   "cell_type": "markdown",
   "metadata": {},
   "source": [
    "-5536   60000  \n",
    "と表示されました。\n",
    "問題ないみたいですが、`using namespace std`を入れると、ここでは関数は定義できません、`function definition is not allowed here`というエラーになります。\n",
    "\n",
    "次はforループの実験です。"
   ]
  },
  {
   "cell_type": "code",
   "execution_count": null,
   "metadata": {},
   "outputs": [],
   "source": [
    "#include <iostream>\n",
    "using namespace std;\n",
    "char letter;\n",
    "for(letter = 'A'; letter <= 'z'; letter++)\n",
    "    cout << letter;"
   ]
  },
  {
   "cell_type": "markdown",
   "metadata": {},
   "source": [
    "```ABCDEFGHIJKLMNOPQRSTUVWXYZ[\\]^_`abcdefghijklmnopqrstuvwxyz```\n",
    "と表示されました。\n",
    "\n",
    "もっと範囲を広げてみよう。\n"
   ]
  },
  {
   "cell_type": "code",
   "execution_count": null,
   "metadata": {},
   "outputs": [],
   "source": [
    "#include <iostream>\n",
    "using namespace std;\n",
    "char letter;\n",
    "for(letter = '!'; letter <= '~'; letter++)\n",
    "    cout << letter;"
   ]
  },
  {
   "cell_type": "markdown",
   "metadata": {},
   "source": [
    "```!\"#$%&'()*+,-./0123456789:;<=>?@ABCDEFGHIJKLMNOPQRSTUVWXYZ[\\]^_`abcdefghijklmnopqrstuvwxyz{|}~```\n",
    "\n",
    "と表示されました。  \n",
    "いくつあるのだろう。  \n",
    "\n",
    "そういえば、ここでiPythonのマジックコマンドは使えないか。 -> 使えません。\n",
    "\n",
    "関係ないかもしれないけど、こんなのを見つけました。"
   ]
  },
  {
   "cell_type": "code",
   "execution_count": null,
   "metadata": {},
   "outputs": [],
   "source": [
    "#include <iostream>\n",
    "#include <vector>\n",
    "using namespace std;\n",
    "auto v = vector<int>{1,2,3,4,5}"
   ]
  },
  {
   "cell_type": "code",
   "execution_count": null,
   "metadata": {},
   "outputs": [],
   "source": [
    "template <class Vector>\n",
    "void print_elements(Vector v) {\n",
    "    for (auto& a: v) {\n",
    "        cout << a << endl;\n",
    "    }\n",
    "}"
   ]
  },
  {
   "cell_type": "code",
   "execution_count": null,
   "metadata": {},
   "outputs": [],
   "source": [
    "print_elements(v)"
   ]
  },
  {
   "cell_type": "markdown",
   "metadata": {},
   "source": [
    "わう！\n",
    "```\n",
    "1\n",
    "2\n",
    "3\n",
    "4\n",
    "5\n",
    "```\n",
    "と表示されています。   \n",
    "\n",
    "`template`ってなに。"
   ]
  },
  {
   "cell_type": "code",
   "execution_count": null,
   "metadata": {},
   "outputs": [],
   "source": [
    "#include <iostream>\n",
    "#include <vector>\n",
    "using namespace std;\n",
    "auto v2 = vector<char>{'a','b','c','d'}"
   ]
  },
  {
   "cell_type": "code",
   "execution_count": null,
   "metadata": {},
   "outputs": [],
   "source": [
    "print_elements(v2)"
   ]
  },
  {
   "cell_type": "markdown",
   "metadata": {},
   "source": [
    "`\n",
    "a\n",
    "b\n",
    "c\n",
    "d\n",
    "`\n",
    "と表示されました。"
   ]
  },
  {
   "cell_type": "code",
   "execution_count": null,
   "metadata": {},
   "outputs": [],
   "source": [
    "template <typename T>\n",
    "T mymax(T x, T y)\n",
    "{\n",
    "    if (x < y)\n",
    "        return y;\n",
    "    else\n",
    "        return x;\n",
    "}"
   ]
  },
  {
   "cell_type": "code",
   "execution_count": null,
   "metadata": {},
   "outputs": [],
   "source": [
    "mymax('X', 'A')"
   ]
  },
  {
   "cell_type": "markdown",
   "metadata": {},
   "source": [
    "`'X'`と表示されました。\n",
    "\n",
    "もうひとつネットにあった例から。"
   ]
  },
  {
   "cell_type": "code",
   "execution_count": null,
   "metadata": {},
   "outputs": [],
   "source": [
    "#include <iostream> // templateと同じセルに書くとうまく行かない\n",
    "using namespace std; // templateと同じセルに書くとうまく行かない"
   ]
  },
  {
   "cell_type": "code",
   "execution_count": null,
   "metadata": {},
   "outputs": [],
   "source": [
    "template <class X> \n",
    "void println(X out) {\n",
    "    cout << out << '\\n';\n",
    "}"
   ]
  },
  {
   "cell_type": "code",
   "execution_count": null,
   "metadata": {},
   "outputs": [],
   "source": [
    "println(\"はろー、はろー\");\n",
    "println(10);\n",
    "println(1.052);"
   ]
  },
  {
   "cell_type": "markdown",
   "metadata": {},
   "source": [
    "```\n",
    "はろー、はろー\n",
    "10\n",
    "1.052\n",
    "```\n",
    "と表示されました。うまく行っているみたい。\n",
    "\n",
    "templateの中身はなんでもいいのだろうか。  \n",
    "使わなくてもいいのだろうか。  \n",
    "実験。"
   ]
  },
  {
   "cell_type": "code",
   "execution_count": null,
   "metadata": {},
   "outputs": [],
   "source": [
    "#include <iostream> // templateと同じセルに書くとうまく行かない\n",
    "using namespace std; // templateと同じセルに書くとうまく行かない"
   ]
  },
  {
   "cell_type": "code",
   "execution_count": null,
   "metadata": {},
   "outputs": [],
   "source": [
    "template <typename T>\n",
    "void testTemplate(T x) {\n",
    "    cout << \"templateの実験だよ。\" << endl;\n",
    "}"
   ]
  },
  {
   "cell_type": "code",
   "execution_count": null,
   "metadata": {},
   "outputs": [],
   "source": [
    "testTemplate(\"\")"
   ]
  },
  {
   "cell_type": "markdown",
   "metadata": {},
   "source": [
    "\"templateの実験だよ。\"と表示されました。  \n",
    "カッコ`()`の中をブランクにするとエラーになります。\n",
    "\n",
    "namespaceを使わないと、次のようにひとつのファイルに書いても動く。"
   ]
  },
  {
   "cell_type": "code",
   "execution_count": null,
   "metadata": {},
   "outputs": [],
   "source": [
    "#include <iostream> \n",
    "template <typename T>\n",
    "void testTemplate(T x) {\n",
    "    std::cout << \"templateの実験だよ。\" << std::endl;\n",
    "}"
   ]
  },
  {
   "cell_type": "code",
   "execution_count": null,
   "metadata": {},
   "outputs": [],
   "source": [
    "testTemplate(3)"
   ]
  },
  {
   "cell_type": "markdown",
   "metadata": {},
   "source": [
    "templateの実験だよ。と表示されます。 とりあえずしばらくこれで行くか。  \n",
    "\n",
    "ネットを調べたら、引数がなくても関数が機能するための、パラメーターパックという書き方があるみたい。  \n",
    "ちょっと使ってみる。"
   ]
  },
  {
   "cell_type": "code",
   "execution_count": null,
   "metadata": {},
   "outputs": [],
   "source": [
    "#include <iostream> \n",
    "template <typename ...T>\n",
    "int testTemplate(void) {\n",
    "    std::cout << \"templateの実験だよ。\" << std::endl;\n",
    "    return 0;\n",
    "}"
   ]
  },
  {
   "cell_type": "code",
   "execution_count": null,
   "metadata": {},
   "outputs": [],
   "source": [
    "testTemplate()"
   ]
  },
  {
   "cell_type": "markdown",
   "metadata": {},
   "source": [
    "templateの実験だよ。と表示されました。  \n",
    "これって、すごく普通のmain.cppに近いかたちですよね。`()`と書くところを`(void)`と書くのと、templateが付いていることだけ違っている。"
   ]
  },
  {
   "cell_type": "code",
   "execution_count": null,
   "metadata": {},
   "outputs": [],
   "source": [
    "#include <iostream> \n",
    "template <typename ...T>\n",
    "int testTemplate() {\n",
    "    std::cout << \"templateの実験だよ。\" << std::endl;\n",
    "    return 0;\n",
    "}"
   ]
  },
  {
   "cell_type": "code",
   "execution_count": null,
   "metadata": {
    "scrolled": true
   },
   "outputs": [],
   "source": [
    "testTemplate()"
   ]
  },
  {
   "cell_type": "markdown",
   "metadata": {},
   "source": [
    "### コメントについて\n",
    "```\n",
    "// が行コメント  \n",
    "/* ... */ がブロックコメント  \n",
    "```\n",
    "ですが実験です。\n"
   ]
  },
  {
   "cell_type": "code",
   "execution_count": null,
   "metadata": {},
   "outputs": [],
   "source": [
    "std::cout << \"*/\";"
   ]
  },
  {
   "cell_type": "code",
   "execution_count": null,
   "metadata": {},
   "outputs": [],
   "source": [
    "std::cout << \"/*\";"
   ]
  },
  {
   "cell_type": "code",
   "execution_count": null,
   "metadata": {},
   "outputs": [],
   "source": [
    "std::cout << /* \"*/\" */;"
   ]
  },
  {
   "cell_type": "markdown",
   "metadata": {},
   "source": [
    "このセルは評価するとエラーになります。"
   ]
  },
  {
   "cell_type": "code",
   "execution_count": null,
   "metadata": {},
   "outputs": [],
   "source": [
    "std::cout << /*  \"*/\" /* \"/*\"  */;"
   ]
  },
  {
   "cell_type": "markdown",
   "metadata": {},
   "source": [
    "これはエラーになりません。\n",
    "\n",
    "\n",
    "これからしばらく\"C++ Primer, Fifth Edition\"という本からプログラム例を引用します。  \n",
    "この本の例は多くはmainで書かれているのですがここではセルで評価しやすいように、mainの中身だけを書きます。\n",
    "\n",
    "まずは`while`の例。"
   ]
  },
  {
   "cell_type": "code",
   "execution_count": null,
   "metadata": {},
   "outputs": [],
   "source": [
    "#include <iostream>\n",
    "using namespace std;\n",
    "int sum = 0, val  = 1;\n",
    "// 変数valの値が10以下になるまでsumに足す\n",
    "while (val <= 10)  {\n",
    "    sum += val;   // sum + val をsumに入れる\n",
    "    ++val;        // val を1増やす\n",
    "}\n",
    "std::cout << \"1から10までの合計は \"\n",
    "          << sum << \" です。\" << std::endl;"
   ]
  },
  {
   "cell_type": "markdown",
   "metadata": {},
   "source": [
    "上のセルは`using namespace std;`がないとエラーになりました。  \n",
    "よくわからない。\n",
    "\n",
    "\n",
    "次は`for`の例です。\n"
   ]
  },
  {
   "cell_type": "code",
   "execution_count": null,
   "metadata": {},
   "outputs": [],
   "source": [
    "#include <iostream>\n",
    "using namespace std;\n",
    "int sum = 0;\n",
    "// sum values from 1 through 10 inclusive\n",
    "for (int val = 1; val <= 10; ++val)\n",
    "    sum += val;  // equivalent to sum = sum + val\n",
    "std::cout << \"Sum of 1 to 10 inclusive is \"\n",
    "          << sum << std::endl;"
   ]
  },
  {
   "cell_type": "markdown",
   "metadata": {},
   "source": [
    "```\n",
    "//sum01.cpp\n",
    "#include <iostream>\n",
    "int main()\n",
    "{\n",
    "    int sum = 0, value = 0;\n",
    "    // read until end-of-file, calculating a running total of all values read\n",
    "    while (std::cin >> value)\n",
    "        sum += value; // equivalent to sum = sum + value\n",
    "    std::cout << \"Sum is: \" << sum << std::endl;\n",
    "    return 0;\n",
    "}\n",
    "```\n",
    "このプログラムをコンパイルして、\n",
    "\n",
    "g++ sum01.cpp -o sum01\n",
    "\n",
    "じっこうすると、\n",
    "\n",
    "./sum01\n",
    "\n",
    "13 27 Ctrl-d\n",
    "\n",
    "sum is: 40\n",
    "\n",
    "となりました。Ctrl-dでなくても数字以外のものをいれれば終了して合計を出します。  \n",
    "Ctrl-cだとプログラム自体がしゅうりょうしてしまい、合計は出力されません。  \n",
    "LinuxでCtrl-dはEnd-of-Fileの意味だそうで、WindowsではこれがCtrl-zだそうです。\n",
    "\n",
    "\n",
    "テキストの次のプログラムが、  \n",
    "\n",
    "42 42 42 42 42 55 55 62 100 100 100\n",
    "\n",
    "というインプットで、\n",
    " \n",
    "42 occurs 5 times  \n",
    "55 occurs 2 times  \n",
    "62 occurs 1 times  \n",
    "100 occurs 3 times  \n",
    "\n",
    "というアウトプットになるプログラムで、こういうのをmainの中の入出力でやるのがイヤになってきたので、なんとか関数にしたい。  \n",
    "しかし、配列とかまだぜんぜんわからないのでどうしたらよいか。\n",
    "\n",
    "ネットでつぎのような関数のプログラムを見つけました。"
   ]
  },
  {
   "cell_type": "code",
   "execution_count": null,
   "metadata": {},
   "outputs": [],
   "source": [
    "// avarage\n",
    "template <typename T>\n",
    "T Average(T *atArray, int nNumValues)\n",
    "{\n",
    "    T tSum = 0;\n",
    "    for (int nCount=0; nCount < nNumValues; nCount++)\n",
    "        tSum += atArray[nCount];\n",
    "\n",
    "    tSum /= nNumValues;\n",
    "    return tSum;\n",
    "}"
   ]
  },
  {
   "cell_type": "code",
   "execution_count": null,
   "metadata": {},
   "outputs": [],
   "source": [
    "int a[] = {1,23,4};\n",
    "Average(a, 3)"
   ]
  },
  {
   "cell_type": "markdown",
   "metadata": {},
   "source": [
    "これを改造して、  \n",
    "\n",
    "int a[]={42 42 42 42 42 55 55 62 100 100 100};  \n",
    "countConsecutive(a, 11) \n",
    "\n",
    "としたら目的の同じ数字をカウントするような、関数countConsecutive()を作ろう。\n",
    "\n",
    "\n"
   ]
  },
  {
   "cell_type": "code",
   "execution_count": null,
   "metadata": {},
   "outputs": [],
   "source": [
    "// countConsecutive()\n",
    "#include <iostream>\n",
    "template <typename T>\n",
    "T countConsecutive(T *atArray, int nNumValue) {\n",
    "// 数える値がcurrVal、新たな値はvalに入れる\n",
    "int currVal = atArray[0], val = atArray[0];\n",
    "int i = 1, cnt = 1; // 配列の位置がiで、cntに数える値の数を入れる\n",
    "while (i < nNumValue) { // 配列のある限り実行する\n",
    "    val = atArray[i];\n",
    "    if (val == currVal)   //  もしvalの値とcurrValの値が同じならば\n",
    "        ++cnt;            // cntの値を増やす\n",
    "    else { // 違ったところでそれまでの値と数を出力する\n",
    "        std::cout << currVal << \" occurs \"\n",
    "                  << cnt << \" times\" << std::endl;\n",
    "        currVal = val;    // remember the new value\n",
    "        cnt = 1;          // reset the counter\n",
    "    }\n",
    "    ++i;\n",
    "}  // while loop ends here\n",
    "// remember to print the count for the last value in the file\n",
    "std::cout << currVal <<  \" occurs \"\n",
    "          << cnt << \" times\" << std::endl;\n",
    "return 0;\n",
    "}"
   ]
  },
  {
   "cell_type": "code",
   "execution_count": null,
   "metadata": {},
   "outputs": [],
   "source": [
    "int a[]={42, 42, 42, 42, 42, 55, 55, 62, 100, 100, 100};\n",
    "countConsecutive(a, 11)"
   ]
  },
  {
   "cell_type": "markdown",
   "metadata": {},
   "source": [
    "できた！！   \n",
    "同じ結果になりました。  \n",
    "問題ないと思います。\n",
    "\n",
    "\n",
    "### クラス\n",
    "C++ではデータ構造をクラスを定義する、という形で行います。  \n",
    "クラスは型を定義し、その型に関する操作(operation)を定義します。  \n",
    "\n",
    "このテキストでは本屋プログラムを作成します。  \n",
    "\n",
    "クラスを使うには3つのことを知る必要があります。\n",
    "\n",
    "* クラスの名前\n",
    "* どこで定義されているか\n",
    "* そのクラスはどのような操作ができるのか\n",
    "\n",
    "本屋プログラムのクラス名は Sales_itemで、すでにSales_item.hというヘッダーに定義されているものとします。\n",
    "\n",
    "Sales_itemクラスのもう的は売上金額集計、売上冊数、本一冊当たりの平均価格です。\n",
    "\n",
    "情報がどのように蓄えられるかはどうでもいいです。  \n",
    "クラスを使うにはどのように実装されたかは考えません。\n",
    "われわれが必要なのはそのタイプのオブジェクトにどんな操作ができるかを知ることです。\n",
    "\n",
    "すべてのクラスは型を定義します。  \n",
    "方の名前はクラスの名前と同じです。\n",
    "Sales_itemクラスはSales_itemという型を定義します。\n",
    "そして、既存の型とどうように変数の型を定義することができます。\n",
    "\n",
    "Sales_item item;\n",
    "\n",
    "と書けば、itemがSales_item型のオブジェクトだ、と言っていることになります。\n",
    "\n",
    "Sales_item型の変数について、できることは\n",
    "\n",
    "* isbnという関数でそのSales_itemのISBNを取り出す\n",
    "* input(>>)とoutput(<<)という演算子を使ってSales_itemにreadとwrite操作をする\n",
    "* add(+)という演算子をつかって2つのSales_itemオブジェクトをくわえる。\n",
    "\n",
    "これは、2つ同じISBNである必要がありますが、足した結果のSales_itemオブジェクトはもとのSales_itemの売上冊数と売上金額の合計になります。\n",
    "\n",
    "* 代入演算子(+=)を使ってSales_itemオブジェクトをたのSales_itemオブジェクトに足すことができる。\n",
    "\n",
    "Sales_itemクラスを作る人はそのオブジェクトが作られる時の挙動、代入時の挙動、足し算、インプット、アウトプットの挙動などすべてのアクションをプログラムする必要があります。\n",
    "\n",
    "一般的なクラスについては上記以外の挙動もすべて定義されますが、今回Sales_itemについては上記の操作に限定することにしましょう。\n",
    "\n",
    "#### Sales_item sの読み込み(reading)と書き込み(writing)\n",
    "\n",
    "この時点で仮おきのプログラムです。このままでは評価(実行)しないでください。"
   ]
  },
  {
   "cell_type": "markdown",
   "metadata": {},
   "source": [
    "```\n",
    "# include <iostream>\n",
    "# include \"Sales_item.h\"\n",
    "int main()\n",
    "{\n",
    "    Sales_item book;\n",
    "    // ISBNと売上冊数、価格が読み込まれる\n",
    "    std::cin >> book;\n",
    "    // ISBNと売上冊数、総売上、平均価格が出力される\n",
    "    std::cout << book << std::endl;\n",
    "    return 0;\n",
    "}\n",
    "// input \n",
    "// 0-201-70353-X 4 24.99\n",
    "// output\n",
    "// 0-201-70353-X 4 99.96 24.99\n",
    "// 意味はある本が24.99ドルで4冊売れた。と書き込まれて、読みだすとある本が4冊売れて、売上総額は99.96ドルで平均価格は24.99ドル、というもの。\n",
    "```"
   ]
  },
  {
   "cell_type": "markdown",
   "metadata": {},
   "source": [
    "`# include`で標準ライブラリーから読み込まれるヘッダーは山カッコ`<>`で囲まれます。  \n",
    "ライブラリー以外から読み込まれるものは引用符`\"\"`で囲まれます。\n",
    "\n",
    "アイデア  \n",
    "標準入力からの入力のところ`std:cin >>`をファイルからの入力に変えたらそのままつかえるかもしれない。  \n",
    "やってみよう。"
   ]
  },
  {
   "cell_type": "code",
   "execution_count": null,
   "metadata": {},
   "outputs": [],
   "source": [
    "#include <iostream>\n",
    "#include <fstream>\n",
    "#include <string>\n",
    "#include \"./mycpp/Sales_item.h\"\n",
    "using namespace std;"
   ]
  },
  {
   "cell_type": "code",
   "execution_count": null,
   "metadata": {},
   "outputs": [],
   "source": [
    "template <typename ...T>\n",
    "int mymain()\n",
    "{\n",
    "    Sales_item book;\n",
    "    ifstream ifs(\"./mycpp/data_book_input01.txt\");\n",
    "    ifs >> book;\n",
    "    // ISBNと売上冊数、総売上、平均価格が出力される\n",
    "    std::cout << book << std::endl;\n",
    "    return 0;\n",
    "}"
   ]
  },
  {
   "cell_type": "code",
   "execution_count": null,
   "metadata": {},
   "outputs": [],
   "source": [
    "mymain()"
   ]
  },
  {
   "cell_type": "markdown",
   "metadata": {},
   "source": [
    "できた！！\n",
    "`0-201-70353-X 4 99.96 24.99`と表示されます。\n",
    "\n",
    "整理すると、ふつうのC++の教科書はスタンドアローンのプログラムでmainがあって標準入力からデータを入力するものが多い。  \n",
    "それをJupyter notebook上でやるときの変更点。\n",
    "1. #includeの行とusing namespace std;の行は本体と別のセルにして、本体のセルを評価する前に評価する\n",
    "1. 本体はtemplate `<typename ...T>` `int mymain() {}`とする\n",
    "1. `cin >>`がある場合は、データを別途用意し、`ifstream is(\"data.txt\")` `ifs >>`とする\n",
    "\n",
    "以上\n",
    "\n",
    "次に2つの売上を足すプログラムです。  \n",
    "同じようにやってみます。"
   ]
  },
  {
   "cell_type": "code",
   "execution_count": null,
   "metadata": {},
   "outputs": [],
   "source": [
    "#include <iostream>\n",
    "#include <fstream>\n",
    "#include <string>\n",
    "#include \"./mycpp/Sales_item.h\"\n",
    "using namespace std;"
   ]
  },
  {
   "cell_type": "code",
   "execution_count": null,
   "metadata": {},
   "outputs": [],
   "source": [
    "template <typename ...T>\n",
    "int mymain()\n",
    "{\n",
    "    Sales_item item1, item2;\n",
    "    ifstream ifs(\"./mycpp/data_book02.txt\");\n",
    "    ifs >> item1 >> item2; // 2つの売上データを読み込む\n",
    "    std::cout << item1 + item2 << std::endl;\n",
    "    return 0;\n",
    "}"
   ]
  },
  {
   "cell_type": "code",
   "execution_count": null,
   "metadata": {},
   "outputs": [],
   "source": [
    "mymain()"
   ]
  },
  {
   "cell_type": "markdown",
   "metadata": {},
   "source": [
    "`data_book02.txt`の内容は\n",
    "```\n",
    "0-201-78345-X 3 20.00\n",
    "0-201-78345-X 2 25.00```\n",
    "でアウトプットは```0-201-78345-X 5 110 22```となりました。\n",
    "\n",
    "\n",
    "\n",
    "#### メンバー関数\n",
    "次はメンバー関数の例です。"
   ]
  },
  {
   "cell_type": "code",
   "execution_count": null,
   "metadata": {},
   "outputs": [],
   "source": [
    "#include <iostream>\n",
    "#include <fstream>\n",
    "#include <string>\n",
    "#include \"./mycpp/Sales_item.h\"\n",
    "using namespace std;"
   ]
  },
  {
   "cell_type": "code",
   "execution_count": null,
   "metadata": {},
   "outputs": [],
   "source": [
    "template <typename ...T>\n",
    "int mymain()\n",
    "{\n",
    "    Sales_item item1, item2;\n",
    "    ifstream ifs(\"./mycpp/data_book03.txt\");\n",
    "    ifs >> item1 >> item2; // 2つの売上データを読み込む\n",
    "    \n",
    "    // item1とitem2が同じ本かどうかをチェックする\n",
    "    if (item1.isbn() == item2.isbn()) {\n",
    "        std::cout << item1 + item2 << std::endl;\n",
    "        return 0; \n",
    "    } else {\n",
    "        std:cerr << \"データは同じISBNでなければなりません\" << std::endl;\n",
    "        return -1; // 失敗\n",
    "    }\n",
    "    std::cout << item1 + item2 << std::endl;\n",
    "    return 0;\n",
    "}"
   ]
  },
  {
   "cell_type": "code",
   "execution_count": null,
   "metadata": {},
   "outputs": [],
   "source": [
    "mymain()"
   ]
  },
  {
   "cell_type": "markdown",
   "metadata": {},
   "source": [
    "わざと違うデータを読み込ませたところ\"データは同じISBNでなければなりません\"と出力されました。\n",
    "\n",
    "このプログラムで使われている`isbn()`がメンバー関数です。  \n",
    "メンバー関数はメソッドとも呼ばれます。  \n",
    "クラスについて定義される関数です。\n",
    "\n",
    "\n",
    "### アイデア\n",
    "ここまで来てなんですが、入力をファイルからやるのなら、プログラムが`main()`である必要がないのではないか。  \n",
    "わざわざ`mymain()`を起動するだけ面倒ではないか。  \n",
    "せっかくのreplなのだからそのセルで充足するようにjupyter notebookはできているのではないか。\n",
    "\n",
    "たとえば今のプログラムを次のようにする。実験。"
   ]
  },
  {
   "cell_type": "code",
   "execution_count": null,
   "metadata": {},
   "outputs": [],
   "source": [
    "#include <iostream>\n",
    "#include <fstream>\n",
    "#include <string>\n",
    "#include \"./mycpp/Sales_item.h\"\n",
    "using namespace std;\n",
    "\n",
    "Sales_item item1, item2;\n",
    "ifstream ifs(\"./mycpp/data_book03.txt\");\n",
    "ifs >> item1 >> item2; // 2つの売上データを読み込む\n",
    "\n",
    "// item1とitem2が同じ本かどうかをチェックする\n",
    "if (item1.isbn() == item2.isbn()) {\n",
    "    std::cout << item1 + item2 << std::endl;\n",
    "    return 0; \n",
    "} else {\n",
    "    std:cerr << \"データは同じISBNでなければなりません\" << std::endl;\n",
    "    return -1; // 失敗\n",
    "}\n",
    "std::cout << item1 + item2 << std::endl;\n"
   ]
  },
  {
   "cell_type": "markdown",
   "metadata": {},
   "source": [
    "おー！ うまくいきました。あたりまえか。  \n",
    "ということは、テキストのプログラムは、`int main(){}`をとって、セルのなかで実行すればよい。  \n",
    "\n",
    "\n",
    "さて、テキスト(C++ Primer, Fifth Edition)の方はすこし複雑になってきました。\n",
    "\n",
    "data_book_sales01.txtという入力用ファイルに次のような売上データが入っています。\n",
    "```\n",
    "0-201-70353-X 4 24.99\n",
    "0-201-82470-1 4 45.39\n",
    "0-201-88954-4 2 15.00 \n",
    "0-201-88954-4 5 12.00 \n",
    "0-201-88954-4 7 12.00 \n",
    "0-201-88954-4 2 12.00 \n",
    "0-399-82477-1 2 45.39\n",
    "0-399-82477-1 3 45.39\n",
    "0-201-78345-X 3 20.00\n",
    "0-201-78345-X 2 25.00\n",
    "```\n"
   ]
  },
  {
   "cell_type": "code",
   "execution_count": null,
   "metadata": {},
   "outputs": [],
   "source": [
    "#include <iostream>\n",
    "#include <fstream>\n",
    "#include <string>\n",
    "#include \"./mycpp/Sales_item.h\"\n",
    "using namespace std;\n",
    "\n",
    "Sales_item total;\n",
    "ifstream ifs(\"./mycpp/data_book_sales01.txt\");\n",
    "\n",
    "// 最初の取引データを読み込み取引データがあることを確認する\n",
    "if (ifs >> total) {\n",
    "    Sales_item trans; // 取引データの合計を入れる変数\n",
    "    // 残りのデータを読み込む\n",
    "    while (ifs >> trans) {\n",
    "        // 同じ本かどうか\n",
    "        if (total.isbn() == trans.isbn())\n",
    "            total += trans; // 同じなら取引データをupdateする\n",
    "        else {\n",
    "            // 本が変わったらそれまでのデータを出力する\n",
    "            std::cout << total << std::endl;\n",
    "            total = trans;  // totalを次の本にする\n",
    "        }\n",
    "    }\n",
    "    std::cout << total << std::endl; // 最後の取引を出力する\n",
    "} else {\n",
    "    // データがない場合の警告\n",
    "    std::cerr << \"でーたがない?!\" << std::endl;\n",
    "    return -1;  // 失敗\n",
    "}\n"
   ]
  },
  {
   "cell_type": "markdown",
   "metadata": {},
   "source": [
    "```\n",
    "0-201-70353-X 4 99.96 24.99\n",
    "0-201-82470-1 4 181.56 45.39\n",
    "0-201-88954-4 16 198 12.375\n",
    "0-399-82477-1 5 226.95 45.39\n",
    "0-201-78345-X 5 110 22\n",
    "```\n",
    "と出力されました。成功です。\n",
    "\n",
    "試しにデータのファル名を存在しないファイル名にすると、cerrの内容`\"でーたがない?!\"`が表示されました。\n",
    "\n",
    "入力データがグルーピングされていないとうまく走りませんが、ソートされている風でもないのが不思議です。\n",
    "\n",
    "\n",
    "\n",
    "ちょっと関係ないけど、signed to unsignedの自動変換についての、参考プログラムです。"
   ]
  },
  {
   "cell_type": "code",
   "execution_count": null,
   "metadata": {},
   "outputs": [],
   "source": [
    "#include <iostream>\n",
    "using namespace std;\n",
    "\n",
    "unsigned u = 10, u2 = 42;\n",
    "std::cout << u2 - u << std::endl; // 32\n",
    "std::cout << u - u2 << std::endl; // 4294967264\n",
    "int i = 10, i2 = 42;\n",
    "std::cout << i2 - i << std::endl; // 32\n",
    "std::cout << i - i2 << std::endl; // -32"
   ]
  },
  {
   "cell_type": "markdown",
   "metadata": {},
   "source": [
    "次のは日本語の実験。stringでもarrayでも行けるのかな。よくわからない。"
   ]
  },
  {
   "cell_type": "code",
   "execution_count": null,
   "metadata": {},
   "outputs": [],
   "source": [
    "#include <iostream>\n",
    "#include <string>\n",
    "using namespace std;\n",
    "\n",
    "char a[]=\"これはarray\";\n",
    "string mystr=\"これはstring\";\n",
    "\n",
    "std::cout << a << \",,,\" << mystr << endl;"
   ]
  },
  {
   "cell_type": "code",
   "execution_count": null,
   "metadata": {},
   "outputs": [],
   "source": [
    "#include <iostream>\n",
    "using namespace std;\n",
    "\n",
    "std::cout << \"Hi \\x4dO\\115!\\n\";  // prints Hi MOM!\n",
    "std::cout << \"\\x41\\101\" << endl; // \\x は16進数、\\xxxは8進数でいずれも'A'(65)を表す"
   ]
  },
  {
   "cell_type": "code",
   "execution_count": null,
   "metadata": {},
   "outputs": [],
   "source": [
    "int month = 9, day = 7;\n",
    "int month2 = 011, day2 = 07;"
   ]
  },
  {
   "cell_type": "code",
   "execution_count": null,
   "metadata": {},
   "outputs": [],
   "source": [
    "month2"
   ]
  },
  {
   "cell_type": "code",
   "execution_count": null,
   "metadata": {},
   "outputs": [],
   "source": [
    "\"who goes with F\\145rgus?\\012\\012kkk?\""
   ]
  },
  {
   "cell_type": "markdown",
   "metadata": {},
   "source": [
    "stringの初期化の実験 s1==s2==s3で、ばななばななばななと表示されます。"
   ]
  },
  {
   "cell_type": "code",
   "execution_count": null,
   "metadata": {},
   "outputs": [],
   "source": [
    "#include <iostream>\n",
    "using namespace std;\n",
    "string s1 {\"ばなな\"};\n",
    "string s2 = string(\"ばなな\"); \n",
    "string s3 = \"ばなな\";\n",
    "if (s1 == s2 && s1 == s3)\n",
    "    std::cout << s1 << s2 << s3 << endl;"
   ]
  },
  {
   "cell_type": "code",
   "execution_count": null,
   "metadata": {},
   "outputs": [],
   "source": [
    "#include <iostream>\n",
    "#include <fstream>\n",
    "using namespace std;\n",
    "\n",
    "ifstream ifs(\"./mycpp/somedata.txt\");\n",
    "\n",
    "// ifs >> int input_value; // エラー\n",
    "\n",
    "int input_value;\n",
    "ifs >> input_value;\n",
    "std::cout << input_value << endl;"
   ]
  },
  {
   "cell_type": "code",
   "execution_count": null,
   "metadata": {},
   "outputs": [],
   "source": [
    "// int i = {3.14} // error\n",
    "int i = {3} // ok"
   ]
  },
  {
   "cell_type": "code",
   "execution_count": null,
   "metadata": {},
   "outputs": [],
   "source": [
    "// double salary = wage = 9999.99; // error\n",
    "double wage = 9999.99;\n",
    "double salaray = wage;"
   ]
  },
  {
   "cell_type": "code",
   "execution_count": null,
   "metadata": {},
   "outputs": [],
   "source": [
    "#include <string>\n",
    "using namespace std;\n",
    "string global_str;\n",
    "global_str; // \"\"が初期値"
   ]
  },
  {
   "cell_type": "markdown",
   "metadata": {},
   "source": [
    "`extern`の実験。通常の`int n`と違って、何度でも評価できる。  \n",
    "通常の`int n`とかは定義なので、定義はなんどもできない。`int n = 1`とかも同じ。  \n",
    "代入`n = 3`は何度でもできる。  見かけは`=`で似ているが、定義の時に使われているのは初期化であって、代入ではない。  \n",
    "\n",
    "`extern`は宣言であって、定義ではないので、以下のコードは何度でも評価できる。"
   ]
  },
  {
   "cell_type": "code",
   "execution_count": null,
   "metadata": {},
   "outputs": [],
   "source": [
    "extern int n;"
   ]
  },
  {
   "cell_type": "markdown",
   "metadata": {},
   "source": [
    "`extern int n = 3;`と書くと、externがついていても、実態は定義なので、1度しか評価できない。"
   ]
  },
  {
   "cell_type": "code",
   "execution_count": null,
   "metadata": {},
   "outputs": [],
   "source": [
    "extern int n = 3;"
   ]
  },
  {
   "cell_type": "code",
   "execution_count": null,
   "metadata": {},
   "outputs": [],
   "source": [
    "double Double=3.14;"
   ]
  },
  {
   "cell_type": "code",
   "execution_count": null,
   "metadata": {},
   "outputs": [],
   "source": [
    "#include <iostream>\n",
    "int main()\n",
    "{\n",
    "int sum = 0;\n",
    "for (int val = 1; val <= 10; ++val)\n",
    "sum += val;  // equivalent to sum = sum + val\n",
    "std::cout << \"Sum of 1 to 10 inclusive is \"\n",
    "<< sum << std::endl;\n",
    "return 0;\n",
    "}"
   ]
  },
  {
   "cell_type": "code",
   "execution_count": null,
   "metadata": {},
   "outputs": [],
   "source": [
    "main()"
   ]
  },
  {
   "cell_type": "code",
   "execution_count": null,
   "metadata": {},
   "outputs": [],
   "source": [
    "#include <iostream>\n",
    "#include <fstream>\n",
    "#include <string>\n",
    "#include \"./mycpp/Sales_item.h\"\n",
    "using namespace std;"
   ]
  },
  {
   "cell_type": "markdown",
   "metadata": {},
   "source": [
    "次はスコープの話。  \n",
    "1から10まで合計するプログラムです。"
   ]
  },
  {
   "cell_type": "code",
   "execution_count": null,
   "metadata": {},
   "outputs": [],
   "source": [
    "#include <iostream>\n",
    "//template <typename ...T>\n",
    "int sum()\n",
    "{\n",
    "    int sum = 0;\n",
    "    for (int val = 1; val <= 10; ++val)\n",
    "        sum += val; \n",
    "    std::cout << \"Sum of 1 to 10 inclusive is \" << sum << std::endl;\n",
    "    return 0;\n",
    "}"
   ]
  },
  {
   "cell_type": "code",
   "execution_count": null,
   "metadata": {},
   "outputs": [],
   "source": [
    "sum()"
   ]
  },
  {
   "cell_type": "markdown",
   "metadata": {},
   "source": [
    "これはうまく行った。`Sum of 1 to 10 inclusive is 55`と表示される。のですが、なんとなく、`template <typename ...T>`がわからないので、ネットで検索したサンプルで少し実験します。\n",
    "\n",
    "\n",
    "次の例は引数がintでもdoubleでも同じ関数で計算するという、本来のtemplateの例と言っていいのかな。  \n",
    "`constrexpr`がわからないのはともかく、これってグローバル変数なのですか。"
   ]
  },
  {
   "cell_type": "code",
   "execution_count": null,
   "metadata": {},
   "outputs": [],
   "source": [
    "template<class T>\n",
    "constexpr T pi = T(3.1415926535897932385L);  // variable template\n",
    "\n",
    "template<class T>\n",
    "T circular_area(T r) // function template\n",
    "{\n",
    "    return pi<T> * r * r; // pi<T> is a variable template instantiation\n",
    "}"
   ]
  },
  {
   "cell_type": "code",
   "execution_count": null,
   "metadata": {},
   "outputs": [],
   "source": [
    "circular_area(1.0)"
   ]
  },
  {
   "cell_type": "markdown",
   "metadata": {},
   "source": [
    "とりあえず期待していたように動く。\n",
    "```\n",
    "circular_area(1) // (int) 3\n",
    "circular_area(1.0) // (double) 3.1415927\n",
    "```\n",
    "となります。\n",
    "\n"
   ]
  },
  {
   "cell_type": "code",
   "execution_count": null,
   "metadata": {},
   "outputs": [],
   "source": [
    "template<class T>\n",
    "constexpr T pi = T(3.1415926535897932385L);  // variable template\n",
    "\n",
    "template <typename T>\n",
    "T add_pi(T x)\n",
    "{\n",
    "    return pi<T> + x;\n",
    "}"
   ]
  },
  {
   "cell_type": "code",
   "execution_count": null,
   "metadata": {},
   "outputs": [],
   "source": [
    "add_pi(80.5)"
   ]
  },
  {
   "cell_type": "code",
   "execution_count": null,
   "metadata": {},
   "outputs": [],
   "source": [
    "template<class T>\n",
    "// T three = T(3.0);\n",
    "// T three = 3;\n",
    "T three = 'A';\n",
    "template<class T>\n",
    "T add_three(T x)\n",
    "{\n",
    "    three<T> = 3;\n",
    "    return three<T> + x;\n",
    "};\n",
    "template<class T>\n",
    "T add_twice(T x)\n",
    "{\n",
    "   return add_three(x) + x;\n",
    "}"
   ]
  },
  {
   "cell_type": "code",
   "execution_count": null,
   "metadata": {},
   "outputs": [],
   "source": [
    "add_twice(7)"
   ]
  },
  {
   "cell_type": "markdown",
   "metadata": {},
   "source": [
    "なるほど。少なくとも、JupyterのC++上では、グローバル変数のように扱える。  \n",
    "よくわからないが、ま、先へ進もう。"
   ]
  },
  {
   "cell_type": "code",
   "execution_count": null,
   "metadata": {},
   "outputs": [],
   "source": [
    "#include <iostream>\n",
    "using namespace std;\n",
    "int i = 100, sum = 0;\n",
    "for (int i=0; i !=10; ++i)\n",
    "    sum +=i;\n",
    "std::cout << i << \":\" << sum << std::endl;"
   ]
  },
  {
   "cell_type": "markdown",
   "metadata": {},
   "source": [
    "`100:45`と表示されます。\n",
    "\n",
    "100と表されるiとforの中のiがスコープが違うということかな。"
   ]
  },
  {
   "cell_type": "code",
   "execution_count": null,
   "metadata": {},
   "outputs": [],
   "source": [
    "int twice(int x)\n",
    "{\n",
    "    return x+x;\n",
    "}"
   ]
  },
  {
   "cell_type": "code",
   "execution_count": null,
   "metadata": {},
   "outputs": [],
   "source": [
    "twice(3)"
   ]
  },
  {
   "cell_type": "code",
   "execution_count": null,
   "metadata": {},
   "outputs": [],
   "source": [
    "#include <iostream>\n",
    "using namespace std;\n",
    "std::cout << twice(3) << endl;"
   ]
  },
  {
   "cell_type": "markdown",
   "metadata": {},
   "source": [
    "上の`twice`の例は、twice()を定義したセルがあって、twice()が使えるようになって、それを`cout`するにはヘッダーが必要、という例。"
   ]
  },
  {
   "cell_type": "code",
   "execution_count": null,
   "metadata": {},
   "outputs": [],
   "source": [
    "#include <iostream>\n",
    "using namespace std;\n",
    "int reused = 42; "
   ]
  },
  {
   "cell_type": "code",
   "execution_count": null,
   "metadata": {},
   "outputs": [],
   "source": [
    "int mymain()\n",
    "{\n",
    "    int unique = 0;\n",
    "    std::cout << reused << \" \" << unique << std::endl;\n",
    "    int reused = 0; // new, local object named reused hides global reused\n",
    "    // output #2: uses local reused; prints 0 0\n",
    "    std::cout << reused << \" \" << unique << std::endl;\n",
    "    // output #3: explicitly requests the global reused; prints 42 0\n",
    "    std::cout << ::reused << \" \" << unique << std::endl;\n",
    "    return 0;\n",
    "}"
   ]
  },
  {
   "cell_type": "code",
   "execution_count": null,
   "metadata": {},
   "outputs": [],
   "source": [
    "mymain()"
   ]
  },
  {
   "cell_type": "markdown",
   "metadata": {},
   "source": [
    "これは、目的通り、\n",
    "```\n",
    "42 0\n",
    "0 0\n",
    "42 0\n",
    "```\n",
    "と出力されます。\n",
    "\n",
    "うむ。またちょっと混乱してきた。上記のmymain()の定義の中でグローバル変数reusedを使っているので、そのセルを評価してからでないと評価できない。\n",
    "\n",
    "で、グローバル変数を評価しているセルの内容と一緒にして評価すると、ここでは関数定義できません、というエラーになる。\n"
   ]
  },
  {
   "cell_type": "code",
   "execution_count": null,
   "metadata": {},
   "outputs": [],
   "source": [
    "#include <iostream>\n",
    "using namespace std;\n",
    "int reused = 42; \n",
    "\n",
    "int mymain()\n",
    "{\n",
    "    int unique = 0;\n",
    "    std::cout << reused << \" \" << unique << std::endl;\n",
    "    int reused = 0; // new, local object named reused hides global reused\n",
    "    // output #2: uses local reused; prints 0 0\n",
    "    std::cout << reused << \" \" << unique << std::endl;\n",
    "    // output #3: explicitly requests the global reused; prints 42 0\n",
    "    std::cout << ::reused << \" \" << unique << std::endl;\n",
    "    return 0;\n",
    "}"
   ]
  },
  {
   "cell_type": "markdown",
   "metadata": {},
   "source": [
    "`error: function definition is not allowed here`となります。\n",
    "\n",
    "とりあえず、分ければいい、と覚えておこう。  \n",
    "関数定義を複数やりたいときも分けて定義することになる。"
   ]
  },
  {
   "cell_type": "code",
   "execution_count": null,
   "metadata": {},
   "outputs": [],
   "source": [
    "int add_three(int x)\n",
    "{\n",
    "    int three = 3;\n",
    "    return three + x;\n",
    "};"
   ]
  },
  {
   "cell_type": "code",
   "execution_count": null,
   "metadata": {},
   "outputs": [],
   "source": [
    "int add_twice(int x)\n",
    "{\n",
    "   return add_three(x) + x;\n",
    "}"
   ]
  },
  {
   "cell_type": "code",
   "execution_count": null,
   "metadata": {},
   "outputs": [],
   "source": [
    "add_twice(7)"
   ]
  },
  {
   "cell_type": "markdown",
   "metadata": {},
   "source": [
    "add_three()の関数定義とadd_twice()の関数定義を一つのセルに入れると、後のほうの定義がここでは関数定義はできませんというエラーになります。  \n",
    "\n",
    "分ければ問題ない。  \n",
    "しかし！！ ちょっと前に`template<class T>`をつけて一つのファイルでやってたよね。  \n",
    "あれは別世界の話か。  \n",
    "勉強を続ければまた出てくるでしょう。\n",
    "\n",
    "### 参照変数\n",
    "次は参照変数の話です。\n"
   ]
  },
  {
   "cell_type": "code",
   "execution_count": null,
   "metadata": {},
   "outputs": [],
   "source": [
    "int ival = 1024;\n",
    "int &refVal = ival; // refValはivalの別名\n",
    "// int &refVal2; // エラー\n",
    "\n",
    "refVal"
   ]
  },
  {
   "cell_type": "markdown",
   "metadata": {},
   "source": [
    "`1024`と表示されます。\n",
    "\n",
    "参照変数は値をコピーするのではなくて、同じオブジェクトに束縛されます。\n",
    "束縛先を変えることはできません。定義時に初期化する（束縛する）必要があります。  \n",
    "参照変数はオブジェクトではなく、aliasです。\n",
    "\n",
    "次の例ではrefValに2を代入すると、ivalが2になっているのがわかります。"
   ]
  },
  {
   "cell_type": "code",
   "execution_count": null,
   "metadata": {},
   "outputs": [],
   "source": [
    "refVal = 2;\n",
    "ival"
   ]
  },
  {
   "cell_type": "markdown",
   "metadata": {},
   "source": [
    "### ポインター\n",
    "ポインターはオブジェクトです。参照変数はオブジェクトでない。  \n",
    "ポインターは代入したり、コピーしたりできる。  \n",
    "参照変数と違い、普通の変数と同様に初期化せずに定義することができる。  \n",
    "むずかしいと言われる。  \n",
    "ポインターが原因のエラーのデバッグが問題とされている。  \n",
    "`*d`の形で定義され、変数にも`*`をつける。"
   ]
  },
  {
   "cell_type": "code",
   "execution_count": null,
   "metadata": {},
   "outputs": [],
   "source": [
    "int *ip1, *ip2;  // both ip1 and ip2 are pointers to int\n",
    "double dp, *dp2; // dp2 is a pointer to double; dp is a double"
   ]
  },
  {
   "cell_type": "markdown",
   "metadata": {},
   "source": [
    "ポインターは他のオブジェクトのアドレスを持ちます。  \n",
    "オブジェクトのアドレスは`&`という`address-of`演算子を用いて得ることができます。  "
   ]
  },
  {
   "cell_type": "code",
   "execution_count": null,
   "metadata": {},
   "outputs": [],
   "source": [
    "int ival = 42;\n",
    "int *p = &ival; // p holds the address of ival; p is a pointer to ival"
   ]
  },
  {
   "cell_type": "markdown",
   "metadata": {},
   "source": [
    "上のセルの2行目の意味はpというポインターを定義し、intであるオブジェクト、その名称はival、にポイントするよう初期化している。\n",
    "\n",
    "参照変数はオブジェクトではないので、アドレスをもたない。  \n",
    "したがって、参照変数にポイントするようなポインターは定義できない。\n",
    "\n",
    "やってみるか。"
   ]
  },
  {
   "cell_type": "code",
   "execution_count": null,
   "metadata": {},
   "outputs": [],
   "source": [
    "int ival = 42;\n",
    "int &refVal = ival;\n",
    "int *p;\n",
    "p = &refVal;\n",
    "ival = 43;\n",
    "*p"
   ]
  },
  {
   "cell_type": "markdown",
   "metadata": {},
   "source": [
    "`43`と表示されます。  \n",
    "あれ、できてしまってるのかな。\n",
    "というより、多分、元のvalにポイントしているのだよね。"
   ]
  },
  {
   "cell_type": "code",
   "execution_count": null,
   "metadata": {},
   "outputs": [],
   "source": [
    "*p = 55;\n",
    "ival"
   ]
  },
  {
   "cell_type": "code",
   "execution_count": null,
   "metadata": {},
   "outputs": [],
   "source": [
    "p"
   ]
  },
  {
   "cell_type": "code",
   "execution_count": null,
   "metadata": {},
   "outputs": [],
   "source": [
    "int &r2 = *p;\n",
    "r2"
   ]
  },
  {
   "cell_type": "markdown",
   "metadata": {},
   "source": [
    "### Null Ponter ヌルポインター\n",
    "次のどのやり方でもnull pointerになります。  \n",
    "評価したあと別のセルで`p2`とか入れて評価すると`nullptr`と表示されます。"
   ]
  },
  {
   "cell_type": "code",
   "execution_count": null,
   "metadata": {},
   "outputs": [],
   "source": [
    "int *p1 = nullptr;\n",
    "int *p2 = 0;\n",
    "// int *p3 = NULL; // エラー"
   ]
  },
  {
   "cell_type": "code",
   "execution_count": null,
   "metadata": {},
   "outputs": [],
   "source": [
    "p1"
   ]
  },
  {
   "cell_type": "markdown",
   "metadata": {},
   "source": [
    "初期化されていないポインターはバグの原因で危険なので、必ず初期化ことが大事です。  \n",
    "可能ならばポインターが指し示すオブジェクトが作られてからポインターを定義することにすべきです。  \n",
    "もしそれができないのならnullptrかゼロで初期化し、プログラムでポインターがオブジェクトを示していないことを見つけられるようにしておく。  \n",
    "\n",
    "問題  \n",
    "次のプログラムはなにをしているか。"
   ]
  },
  {
   "cell_type": "code",
   "execution_count": null,
   "metadata": {},
   "outputs": [],
   "source": [
    "int i = 42;\n",
    "int *p1 = &i;\n",
    "*p1 = *p1 * *p1;\n",
    "*p1 // 1764"
   ]
  },
  {
   "cell_type": "code",
   "execution_count": null,
   "metadata": {},
   "outputs": [],
   "source": [
    "int j = 38;\n",
    "p1 = &j;\n",
    "*p1 // 38"
   ]
  },
  {
   "cell_type": "code",
   "execution_count": null,
   "metadata": {},
   "outputs": [],
   "source": [
    "int i = 0;\n",
    "int *ip = 0;\n",
    "ip // nullptr"
   ]
  },
  {
   "cell_type": "code",
   "execution_count": null,
   "metadata": {},
   "outputs": [],
   "source": [
    "int i = 0;\n",
    "int *p = &i;\n",
    "*p"
   ]
  },
  {
   "cell_type": "markdown",
   "metadata": {},
   "source": [
    "`if (p)` の実験"
   ]
  },
  {
   "cell_type": "code",
   "execution_count": null,
   "metadata": {
    "scrolled": true
   },
   "outputs": [],
   "source": [
    "#include <iostream>\n",
    "using namespace std;\n",
    "int i = 0;\n",
    "// int *p = &i; // p\n",
    "int *p = 0; // not p\n",
    "if (p) std::cout << \"p\" << endl; else std::cout << \"not p\" << endl;"
   ]
  },
  {
   "cell_type": "markdown",
   "metadata": {},
   "source": [
    "`void*`の実験"
   ]
  },
  {
   "cell_type": "code",
   "execution_count": null,
   "metadata": {
    "scrolled": true
   },
   "outputs": [],
   "source": [
    "int i = 42;\n",
    "void *p = &i;\n",
    "*p"
   ]
  },
  {
   "cell_type": "markdown",
   "metadata": {},
   "source": [
    "これは警告がでて、アウトプットは`(void) @0x7f809edd2b80`でした。"
   ]
  },
  {
   "cell_type": "code",
   "execution_count": null,
   "metadata": {},
   "outputs": [],
   "source": [
    "int i = 1024, *p = &i, &r = i;\n",
    "r"
   ]
  },
  {
   "cell_type": "markdown",
   "metadata": {},
   "source": [
    "`int* p1, p2;` と書けば、p1はポインターで、p2はintです。`*`は`*p1`と書いた方が間違えないと思う。"
   ]
  },
  {
   "cell_type": "code",
   "execution_count": null,
   "metadata": {},
   "outputs": [],
   "source": [
    "int i = 42;\n",
    "int *p;        // p is a pointer to int\n",
    "int *&r = p;   // r is a reference to the pointer p\n",
    "r = &i; //  r refers to a pointer; assigning &i to r makes p point to i\n",
    "*r = 0; //  dereferencing r yields i, the object to which p points; changes i to 0"
   ]
  },
  {
   "cell_type": "markdown",
   "metadata": {},
   "source": [
    "うむ。わかりません。"
   ]
  },
  {
   "cell_type": "code",
   "execution_count": null,
   "metadata": {
    "scrolled": true
   },
   "outputs": [],
   "source": [
    "// int* ip, &r = ip; // エラー\n",
    "// int *ip, *&r=ip; // これなら通る\n",
    "int i, *ip = 0; // ipはnullptr\n",
    "// int* ip, ip2;"
   ]
  },
  {
   "cell_type": "code",
   "execution_count": null,
   "metadata": {},
   "outputs": [],
   "source": [
    "ip"
   ]
  },
  {
   "cell_type": "code",
   "execution_count": null,
   "metadata": {},
   "outputs": [],
   "source": [
    "const int bufSize = 512;    // input buffer size"
   ]
  },
  {
   "cell_type": "code",
   "execution_count": null,
   "metadata": {},
   "outputs": [],
   "source": [
    "// const int i = get_size();  // ok: initialized at run time\n",
    "const int j = 42;          // ok: initialized at compile time\n",
    "// const int k;               // error: k is uninitialized const"
   ]
  },
  {
   "cell_type": "code",
   "execution_count": null,
   "metadata": {},
   "outputs": [],
   "source": [
    "// const int buf; // エラー\n",
    "int cnt = 0;\n",
    "const int sz = cnt;\n",
    "++cnt; ++sz; // constは変更できない"
   ]
  },
  {
   "cell_type": "code",
   "execution_count": null,
   "metadata": {},
   "outputs": [],
   "source": [
    "const int ci = 1024;\n",
    "const int &r1 = ci;   // ok: both reference and underlying object are const\n",
    "// r1 = 42;              // error: r1 is a reference to const\n",
    "// int &r2 = ci;         // error: non const reference to a const object\n"
   ]
  },
  {
   "cell_type": "code",
   "execution_count": null,
   "metadata": {},
   "outputs": [],
   "source": [
    "int i = 42;\n",
    "const int &r1 = i;      // we can bind a const int& to a plain int object\n",
    "const int &r2 = 42;     // ok: r1 is a reference to const\n",
    "const int &r3 = r1 * 2; // ok: r3 is a reference to const\n",
    "// int &r4 = r1 * 2;        // error: r4 is a plain, non const reference\n"
   ]
  },
  {
   "cell_type": "code",
   "execution_count": null,
   "metadata": {},
   "outputs": [],
   "source": [
    "int i = 42;\n",
    "int &r1 = i;          // r1 bound to i\n",
    "const int &r2 = i;    // r2 also bound to i; but cannot be used to change i\n",
    "r1 = 0;               // r1 is not const; i is now 0\n",
    "// r2 = 0;               // error: r2 is a reference to const\n",
    "i = 8;\n",
    "r2 // (const int) 8"
   ]
  },
  {
   "cell_type": "code",
   "execution_count": null,
   "metadata": {},
   "outputs": [],
   "source": [
    "const double pi = 3.14;   // pi is const; its value may not be changed\n",
    "// double *ptr = &pi;        // error: ptr is a plain pointer\n",
    "const double *cptr = &pi; // ok: cptr may point to a double that is const\n",
    "// *cptr = 42;               // error: cannot assign to *cptr\n",
    "double dval = 42;       // dval is a double; its value can be changed\n",
    "cptr = &dval;             // ok: but can't change dval through cptr\n",
    "*cptr // 42.000000"
   ]
  },
  {
   "cell_type": "code",
   "execution_count": null,
   "metadata": {},
   "outputs": [],
   "source": [
    "int errNumb = 0;\n",
    "int *const curErr = &errNumb;  // curErr will always point to errNumb\n",
    "const double pi = 3.14159;\n",
    "const double *const pip = &pi; // pip is a const pointer to a const object\n",
    "\n",
    "// *pip = 2.72;     // error: pip is a pointer to const\n",
    "// if the object to which curErr points (i.e., errNumb) is nonzero\n",
    "// if (*curErr) {\n",
    "//    errorHandler();\n",
    "//    *curErr = 0; // ok: reset the value of the object to which curErr is bound\n",
    "// }"
   ]
  },
  {
   "cell_type": "code",
   "execution_count": null,
   "metadata": {},
   "outputs": [],
   "source": [
    "// int i = -1, &r = 0; // error\n",
    "int i2 = -1;\n",
    "int *const p2 = &i2;\n",
    "const int i = -1, &r = 0;\n",
    "const int *const p3 = &i2;\n",
    "const int *p1 = &i2;\n",
    "// const int &const r2; // error\n",
    "const int i3= i, &r = i;\n"
   ]
  },
  {
   "cell_type": "code",
   "execution_count": null,
   "metadata": {},
   "outputs": [],
   "source": [
    "//int i, *const cp; // エラー cpがconstポインターなのに初期化されていない\n",
    "// int *p1, *const p2; // エラー p2がconstポインターなのに初期化されていない\n",
    "// const int ic, &r = ic; // エラー icがconstポインターなのに初期化されていない\n",
    "//const int *const p3; // エラー p3がconstポインターなのに初期化されていない\n",
    "const int *p; // エラーにはならないが使えない"
   ]
  },
  {
   "cell_type": "code",
   "execution_count": null,
   "metadata": {},
   "outputs": [],
   "source": [
    "int i = 42; const int ic = i; const int *p1 = &i; const int *const p3 = &i; int *const p2 = &i;\n",
    "i = ic;\n",
    "// p1 = p3; error: cannot assign to variable 'p3' with const-qualified type 'const int *const'\n",
    "p1 = &ic; \n",
    "// p3 = &ic;  error: cannot assign to variable 'p3' with const-qualified type 'const int *const'\n",
    "// p2 = p1;  error: cannot assign to variable 'p2' with const-qualified type 'int *const'\n",
    "// ic = *p3;  error: cannot assign to variable 'ic' with const-qualified type 'const int'"
   ]
  },
  {
   "cell_type": "code",
   "execution_count": null,
   "metadata": {},
   "outputs": [],
   "source": [
    "int i = 0;\n",
    "int *const p1 = &i;  // we can't change the value of p1; const is top-level\n",
    "const int ci = 42;   // we cannot change ci; const is top-level\n",
    "const int *p2 = &ci; // we can change p2; const is low-level\n",
    "const int *const p3 = p2; // right-most const is top-level, left-most is not\n",
    "const int &r = ci;  // const in reference types is always low-level\n",
    "i = ci;  // ok: copying the value of ci; top-level const in ci is ignored\n",
    "p2 = p3; // ok: pointed-to type matches; top-level const in p3 is ignored\n",
    "\n",
    "// int *p = p3; // error: p3 has a low-level const but p doesn't\n",
    "p2 = p3;     // ok: p2 has the same low-level const qualification as p3\n",
    "p2 = &i;     // ok: we can convert int* to const int*\n",
    "// int &r = ci; // error: can't bind an ordinary int& to a const int object\n",
    "const int &r2 = i; // ok: can bind const int& to plain int\n"
   ]
  },
  {
   "cell_type": "code",
   "execution_count": null,
   "metadata": {},
   "outputs": [],
   "source": [
    "int i = 42;\n",
    "const int v2 = 0; \n",
    "int v1 = v2;\n",
    "int *p1 = &v1, &r1 = v1;\n",
    "const int *p2 = &v2, *const p3 = &i, &r2 = v2;\n",
    "\n",
    "r1 = v2;\n",
    "// p1 = p2;  error: assigning to 'int *' from incompatible type 'const int *'\n",
    "p2 = p1;\n",
    "// p1 = p3;   error: assigning to 'int *' from incompatible type 'const int *const'\n",
    "\n",
    "p2 = p3;\n"
   ]
  },
  {
   "cell_type": "code",
   "execution_count": null,
   "metadata": {},
   "outputs": [],
   "source": [
    "const int max_files = 20;    // max_files is a constant expression\n",
    "const int limit = max_files + 1; // limit is a constant expression\n",
    "int staff_size = 27;       // staff_size is not a constant expression\n",
    "// const int sz = get_size(); // sz is not a constant expression"
   ]
  },
  {
   "cell_type": "code",
   "execution_count": null,
   "metadata": {},
   "outputs": [],
   "source": [
    "constexpr int mf = 20;        // 20 is a constant expression\n",
    "constexpr int limit = mf + 1; // mf + 1 is a constant expression\n",
    "// constexpr int sz = size();    // ok only if size is a constexpr function"
   ]
  },
  {
   "cell_type": "code",
   "execution_count": null,
   "metadata": {},
   "outputs": [],
   "source": [
    "#include <string>\n",
    "using namespace std;\n",
    "// constexpr string s = \"this\";\n",
    "constexpr int i = 42;"
   ]
  },
  {
   "cell_type": "code",
   "execution_count": null,
   "metadata": {},
   "outputs": [],
   "source": [
    "// int null = 0, *p = null;  error: cannot initialize a variable of type 'int *' with an lvalue of type 'int'\n",
    "int null = 0, *p = &null;"
   ]
  },
  {
   "cell_type": "code",
   "execution_count": null,
   "metadata": {},
   "outputs": [],
   "source": [
    "typedef double wages;   // wages is a synonym for double\n",
    "typedef wages base, *p; // base is a synonym for double, p for double*"
   ]
  },
  {
   "cell_type": "code",
   "execution_count": null,
   "metadata": {},
   "outputs": [],
   "source": [
    "#include \"./mycpp/Sales_item.h\"\n",
    "using SI = Sales_item;  // SI is a synonym for Sales_item"
   ]
  },
  {
   "cell_type": "code",
   "execution_count": null,
   "metadata": {},
   "outputs": [],
   "source": [
    "wages hourly, weekly;    // same as double hourly, weekly;\n",
    "SI item;                 // same as Sales_item item"
   ]
  },
  {
   "cell_type": "code",
   "execution_count": null,
   "metadata": {},
   "outputs": [],
   "source": [
    "typedef char *pstring;\n",
    "const pstring cstr = 0; // cstr is a constant pointer to char\n",
    "const pstring *ps;      // ps is a pointer to a constant pointer to char"
   ]
  },
  {
   "cell_type": "code",
   "execution_count": null,
   "metadata": {},
   "outputs": [],
   "source": [
    "// const char *cstr = 0; // wrong interpretation of const pstring cstr"
   ]
  },
  {
   "cell_type": "code",
   "execution_count": null,
   "metadata": {},
   "outputs": [],
   "source": [
    "// auto item = val1 + val2; // item initialized to the result of val1 + val2"
   ]
  },
  {
   "cell_type": "code",
   "execution_count": null,
   "metadata": {},
   "outputs": [],
   "source": [
    "auto i = 0, *p = &i;      // ok: i is int and p is a pointer to int\n",
    "// auto sz = 0, pi = 3.14;   // error: inconsistent types for sz and pi"
   ]
  },
  {
   "cell_type": "code",
   "execution_count": null,
   "metadata": {},
   "outputs": [],
   "source": [
    "int i = 0, &r = i;\n",
    "auto a = r;  // a is an int (r is an alias for i, which has type int)"
   ]
  },
  {
   "cell_type": "code",
   "execution_count": null,
   "metadata": {},
   "outputs": [],
   "source": [
    "const int ci = i, &cr = ci;\n",
    "auto b = ci;  // b is an int (top-level const in ci is dropped)\n",
    "auto c = cr;  // c is an int (cr is an alias for ci whose const is top-level)\n",
    "auto d = &i;  // d is an int*(& of an int object is int*)\n",
    "auto e = &ci; // e is const int*(& of a const object is low-level const)"
   ]
  },
  {
   "cell_type": "code",
   "execution_count": null,
   "metadata": {},
   "outputs": [],
   "source": [
    "const auto f = ci; // deduced type of ci is int; f has type const int"
   ]
  },
  {
   "cell_type": "code",
   "execution_count": null,
   "metadata": {},
   "outputs": [],
   "source": [
    "auto &g = ci;       // g is a const int& that is bound to ci\n",
    "// auto &h = 42;       // error: we can't bind a plain reference to a literal\n",
    "const auto &j = 42; // ok: we can bind a const reference to a literal"
   ]
  },
  {
   "cell_type": "code",
   "execution_count": null,
   "metadata": {},
   "outputs": [],
   "source": [
    "auto k = ci, &l = i;    // k is int; l is int&\n",
    "auto &m = ci, *p = &ci; // m is a const int&;p is a pointer to const int\n",
    "// auto &n = i, *p2 = &ci; // error: type deduced from i is int; type deduced from &ci is const int"
   ]
  },
  {
   "cell_type": "code",
   "execution_count": null,
   "metadata": {},
   "outputs": [],
   "source": [
    "a = 42;   \n",
    "b = 42;   \n",
    "c = 42;\n",
    "// d = 42;    error: assigning to 'int *' from incompatible type 'int'\n",
    "// e = 42;   error: assigning to 'const int *' from incompatible type 'int'\n",
    "// g = 42;  error: cannot assign to variable 'g' with const-qualified type 'const int &'"
   ]
  },
  {
   "cell_type": "code",
   "execution_count": null,
   "metadata": {},
   "outputs": [],
   "source": [
    "// Determine the types deduced in each of the following definitions\n",
    "const int i = 42;\n",
    "auto j = i; \n",
    "const auto &k = i; \n",
    "auto *p = &i;\n",
    "const auto j2 = i, &k2 = i;"
   ]
  },
  {
   "cell_type": "code",
   "execution_count": null,
   "metadata": {},
   "outputs": [],
   "source": [
    "// decltype(f()) sum = x; // sum has whatever type f returns"
   ]
  },
  {
   "cell_type": "code",
   "execution_count": null,
   "metadata": {},
   "outputs": [],
   "source": [
    "const int ci = 0, &cj = ci;\n",
    "decltype(ci) x = 0; // x has type const int\n",
    "decltype(cj) y = x; // y has type const int& and is bound to x\n",
    "// decltype(cj) z;     // error: z is a reference and must be initialized"
   ]
  },
  {
   "cell_type": "code",
   "execution_count": null,
   "metadata": {},
   "outputs": [],
   "source": [
    "// decltype of an expression can be a reference type\n",
    "int i = 42, *p = &i, &r = i;\n",
    "decltype(r + 0) b;  // ok: addition yields an int; b is an (uninitialized) int\n",
    "// decltype(*p) c;     // error: c is int& and must be initialized"
   ]
  },
  {
   "cell_type": "code",
   "execution_count": null,
   "metadata": {},
   "outputs": [],
   "source": [
    "// decltype of a parenthesized variable is always a reference\n",
    "decltype((i)) d;    // error: d is int& and must be initialized\n",
    "decltype(i) e;      // ok: e is an (uninitialized) int"
   ]
  },
  {
   "cell_type": "code",
   "execution_count": null,
   "metadata": {},
   "outputs": [],
   "source": [
    "//  In the following code, determine the type of each variable and the value each variable has when the code finishes:\n",
    "int a = 3, b = 4;\n",
    "decltype(a) c = a;\n",
    "decltype((b)) d = a;\n",
    "++c; // cは4になるがaは3のまま\n",
    "++d; // aが4になる"
   ]
  },
  {
   "cell_type": "code",
   "execution_count": null,
   "metadata": {
    "scrolled": true
   },
   "outputs": [],
   "source": [
    "// determine the type and value of each variable in this code:\n",
    "int a = 3, b = 4;\n",
    "decltype(a) c = a;\n",
    "decltype(a = b) d = a; // warning: expression with side effects has no effect in an unevaluated context"
   ]
  },
  {
   "cell_type": "code",
   "execution_count": null,
   "metadata": {},
   "outputs": [],
   "source": [
    "#include <string>\n",
    "using namespace std;\n",
    "struct Sales_data {\n",
    "    std::string bookNo;\n",
    "    unsigned units_sold = 0;\n",
    "    double revenue = 0.0;\n",
    "}"
   ]
  },
  {
   "cell_type": "code",
   "execution_count": null,
   "metadata": {},
   "outputs": [],
   "source": [
    "// クラス定義のあとに`;`が必要。なぜなら続いてクラス変数定義をするから\n",
    "struct Sales_data { /* ... */ }; // クラス定義\n",
    "Sales_data accum, trans, *salesptr; // クラス変数定義"
   ]
  },
  {
   "cell_type": "code",
   "execution_count": null,
   "metadata": {},
   "outputs": [],
   "source": [
    "/*\n",
    "struct Foo { /* empty   */ } // Note: no semicolon\n",
    "int main()\n",
    "{\n",
    "   return 0;\n",
    "}\n",
    "*/"
   ]
  },
  {
   "cell_type": "code",
   "execution_count": null,
   "metadata": {},
   "outputs": [],
   "source": [
    "int(3.14)"
   ]
  },
  {
   "cell_type": "code",
   "execution_count": null,
   "metadata": {},
   "outputs": [],
   "source": [
    "(int)3.14"
   ]
  },
  {
   "cell_type": "code",
   "execution_count": null,
   "metadata": {},
   "outputs": [],
   "source": [
    "#include <iostream>\n",
    "using namespace std;\n",
    "int n = 1000, d = 4;\n",
    "if (n%d) {\n",
    "    std:: cout << n << \" は \" << d << \" で割り切れない。\" << endl;\n",
    "}  \n",
    "else {\n",
    "    std::cout << n << \" は \" << d << \" で割り切れる。\" << endl;\n",
    "}"
   ]
  },
  {
   "cell_type": "code",
   "execution_count": null,
   "metadata": {},
   "outputs": [],
   "source": [
    "#include <iostream>\n",
    "using namespace std;\n",
    "int a = 0;\n",
    "if (a) {\n",
    "    std:: cout << \"a は 0 ではありません \" << endl;\n",
    "}  \n",
    "else {\n",
    "    std::cout << \" a は 0 です\" << endl;\n",
    "}"
   ]
  },
  {
   "cell_type": "code",
   "execution_count": null,
   "metadata": {},
   "outputs": [],
   "source": [
    "#include <iostream>\n",
    "using namespace std;\n",
    "int a = 0, b = 1;\n",
    "if (a*b) {\n",
    "    std:: cout << \"a*B は 0 ではありません \" << endl;\n",
    "}  \n",
    "else {\n",
    "    std::cout << \" a*b は 0 です\" << endl;\n",
    "}"
   ]
  },
  {
   "cell_type": "code",
   "execution_count": null,
   "metadata": {},
   "outputs": [],
   "source": [
    "#include <iostream>\n",
    "using namespace std;\n",
    "int a = 1, b = 3, x= 2;\n",
    "if(a <= x && x <= b){\n",
    "    cout << \"x は a と b の間にある。\";\n",
    "}\n",
    "else {\n",
    "    cout << \"x は a と b の間にはない。\";\n",
    "}"
   ]
  },
  {
   "cell_type": "code",
   "execution_count": null,
   "metadata": {},
   "outputs": [],
   "source": [
    "#include <iostream>\n",
    "using namespace std;\n",
    "int a = 1, b = 2, x = 3;\n",
    "if(x <= a || b <= x){\n",
    "    std::cout << \"x は a と b の間にない。\";\n",
    "}\n",
    "else {\n",
    "    std::cout << \"x は a と b の間にある。\";\n",
    "}"
   ]
  },
  {
   "cell_type": "code",
   "execution_count": null,
   "metadata": {},
   "outputs": [],
   "source": [
    "int mymax(int x, int y){\n",
    " if (x < y)\n",
    "        return y;\n",
    "    else\n",
    "        return x;\n",
    "} // なぜセミコロンがあってもなくてもいいのか\n",
    "mymax(3, 4)"
   ]
  },
  {
   "cell_type": "code",
   "execution_count": null,
   "metadata": {},
   "outputs": [],
   "source": [
    "#include <iostream>\n",
    "using namespace std;\n",
    "int rank = 23;\n",
    "switch (rank)\n",
    "{\n",
    "    case 1:\n",
    "        cout << \" 優勝者には、海外旅行です \" << endl;\n",
    "        break;\n",
    "    case 2:\n",
    "        cout << \" 2位のあなたには、国内旅行です \" << endl;\n",
    "        break;\n",
    "    case 3:\n",
    "        cout << \"3 位のあなたには、図書券です \" << endl;\n",
    "        break;\n",
    "    default:\n",
    "        cout << \" タオルをどうぞ \" << endl;\n",
    "        break;\n",
    "}"
   ]
  },
  {
   "cell_type": "code",
   "execution_count": null,
   "metadata": {},
   "outputs": [],
   "source": [
    "// leap year\n",
    "#include <iostream>\n",
    "using namespace std;\n",
    "int year = 2018;\n",
    "if (year%400 == 0){\n",
    "    cout << year << \" はうるう年です \";\n",
    "}\n",
    "else if (year%4 == 0 && year%100 != 0)\n",
    "{\n",
    "    cout << year << \" はうるう年です \";\n",
    "}\n",
    "else {\n",
    "    cout << year << \" はうるう年ではありません \";\n",
    "}"
   ]
  },
  {
   "cell_type": "code",
   "execution_count": null,
   "metadata": {},
   "outputs": [],
   "source": [
    "#include <cmath>\n",
    "using namespace std;\n",
    "sqrt(-4)"
   ]
  },
  {
   "cell_type": "code",
   "execution_count": null,
   "metadata": {},
   "outputs": [],
   "source": [
    "// 二次元方程式 quadratic equation\n",
    "#include <iostream>\n",
    "#include <cmath>\n",
    "using namespace std;\n",
    "double a=1,b=2,c=3;\n",
    "double D,x1,x2,x3,x4;\n",
    "D = b*b -4*a*c;\n",
    "x1 = (-b + sqrt(D))/(2*a);\n",
    "x2 = (-b - sqrt(D))/(2*a);\n",
    "if(a == 0.0 && b == 0.0){\n",
    "    cout << \" 解はありません \" << endl;\n",
    "}\n",
    "else if(a == 0.0 && b != 0.0){\n",
    "x1 = -c/b;\n",
    "    cout << \" 解は \" << x1 << \" です \" << endl;\n",
    "}\n",
    "else if (D > 0.0){\n",
    "    cout << \" 解は \" << x1 << \" と \" << x2 << \" です \";\n",
    "}\n",
    "else if(D == 0){\n",
    "    cout << \" 解は重解となり \" << x1 << \" です \" << endl;\n",
    "}\n",
    "else {\n",
    "    x3 = -b/(2*a);\n",
    "    x4 = sqrt(-D);\n",
    "    cout << \" 解は \" << x3 <<\"+\" << \"i\" << x4 << \" と \" << x3 << \"-\" << \"i\" << x4 << \" です \"<< endl;\n",
    "}"
   ]
  },
  {
   "cell_type": "markdown",
   "metadata": {},
   "source": [
    "### アイデア -- Jupyterで読むC言語の古典\n",
    "Jupyterの素晴らしさはCodeセルに入れたコードを実際に`Ctrl-Enter`で評価（実行）しながら読み進めることができることで、紙のテキストから写経して実行してエラーを出しながら勉強するのを100倍くらい効率化して学習できる。\n",
    "\n",
    "いまは、Pythonのテキストくらいしかないが、さまざまなテキストをJupyter化すれば世界の学習能力が上がるのではないか。\n",
    "\n",
    "また、いま勉強する人が勉強しながら入れたものをgithubで公開してくれれば、つぎの人からはそれをバージョンアップしていけばよいと思う。\n",
    "\n",
    "出版されたテキストはすごく最近のものでも、部分によっては即座に陳腐化したり、一般的でなくなったりする。  \n",
    "コンパイラーのエラーの文章もどんどｎ変化する。\n",
    "\n",
    "Jupyterならば少なくともその環境では動く状態を見ながら勉強できる。\n",
    "\n",
    "とか、考えました。C++頑張ろう。"
   ]
  },
  {
   "cell_type": "markdown",
   "metadata": {},
   "source": [
    "### 三項演算子\n",
    "条件 ? 式 : 式\n",
    "```\n",
    "min = (x < y ? x : y);\n",
    "```\n",
    "三項演算子は複雑なときには用いない。"
   ]
  },
  {
   "cell_type": "code",
   "execution_count": null,
   "metadata": {},
   "outputs": [],
   "source": [
    "#include <iostream>\n",
    "using namespace std;\n",
    "int a = 3, b = 4;\n",
    "cout << \" 大きい方は \" << (a > b ? a : b) << endl;"
   ]
  },
  {
   "cell_type": "markdown",
   "metadata": {},
   "source": [
    "`大きい方は 4`と出力されます。"
   ]
  },
  {
   "cell_type": "markdown",
   "metadata": {},
   "source": [
    "### 変数のスコープ\n",
    "次のプログラムの意味を考える。 例によって、2つのセルを評価してください。`Shift`を押して両方選んでから`Ctrl-Enter`で評価（実行）してもいいですし、上を評価したあとに下を評価しても同じです。"
   ]
  },
  {
   "cell_type": "code",
   "execution_count": null,
   "metadata": {},
   "outputs": [],
   "source": [
    "#include <iostream>\n",
    "using namespace std;\n",
    "int x = 11;"
   ]
  },
  {
   "cell_type": "code",
   "execution_count": null,
   "metadata": {},
   "outputs": [],
   "source": [
    "int mymain()\n",
    "{\n",
    "    int x = 22;\n",
    "    {\n",
    "        int x = 33;\n",
    "        cout << \"関数の中のブロックの中では, x = \" << x << endl;\n",
    "    }\n",
    "    cout << \"関数の中では x = \" << x << endl;\n",
    "    cout << \"関数の中でスコープ解決演算子 :: を用いると x = \" << ::x << endl;\n",
    "    return 0;\n",
    "}\n",
    "mymain()"
   ]
  },
  {
   "cell_type": "markdown",
   "metadata": {},
   "source": [
    "```\n",
    "関数の中のブロックの中では, x = 33\n",
    "関数の中では x = 22\n",
    "関数の中でスコープ解決演算子 :: を用いると x = 11\n",
    "```\n",
    "と出力されます。\n",
    "\n",
    "問題  \n",
    "変数a, bを入れ替えるswap(a,b)という関数をつくり、a = 10, b = 20で試してみる。  \n",
    "今の知識ではできないので、  \n",
    "変数a, bを入れ替える、というだけにする。"
   ]
  },
  {
   "cell_type": "code",
   "execution_count": null,
   "metadata": {},
   "outputs": [],
   "source": [
    "#include <iostream>\n",
    "using namespace std;\n",
    "int a = 10, b = 20, w;\n",
    "cout << \"a = \" << a << endl;\n",
    "cout << \"b = \" << b << endl;\n",
    "// swap\n",
    "w = a; a = b; b = w;\n",
    "// result\n",
    "cout << \"a = \" << a << endl;\n",
    "cout << \"b = \" << b << endl;"
   ]
  },
  {
   "cell_type": "markdown",
   "metadata": {},
   "source": [
    "```\n",
    "a = 10\n",
    "b = 20\n",
    "a = 20\n",
    "b = 10\n",
    "```\n",
    "と出力されました。\n",
    "\n",
    "そもそも、C++で複数の戻り値の関数って作れるの？  \n",
    "文字列や配列なんかどうしているの？  \n",
    "グローバル変数を変更してしまうの？ \n",
    "\n",
    "まあ、いずれわかるでしょう。\n",
    "\n",
    "問題  \n",
    "1から100までの数の二乗の合計を計算せよ。"
   ]
  },
  {
   "cell_type": "code",
   "execution_count": null,
   "metadata": {},
   "outputs": [],
   "source": [
    "#include <iostream>\n",
    "using namespace std;\n",
    "int j=1,s=0;\n",
    "while(j <= 100){\n",
    "    s = s + j*j;\n",
    "    j+=1;\n",
    "}\n",
    "cout << s << endl;"
   ]
  },
  {
   "cell_type": "markdown",
   "metadata": {},
   "source": [
    "`338350`と出力されました。合っているのかな。\n",
    "\n",
    "問題  \n",
    "逆数の和 $s = 1 + 1/2 + 1/3 + \\dots +  1/n$を求める。  \n",
    "ただし、$n$は$s$より大きい整数$s$のうち最小な整数。"
   ]
  },
  {
   "cell_type": "code",
   "execution_count": null,
   "metadata": {},
   "outputs": [],
   "source": [
    "#include <iostream>\n",
    "using namespace std;\n",
    "int bound = 10;\n",
    "double sum = 0.0;\n",
    "int i = 0;\n",
    "while(sum < bound){\n",
    "    sum += 1.0/++i;\n",
    "}\n",
    "cout << \" 最初の \" << i << \" 項の逆数の和は \" << sum << endl;"
   ]
  },
  {
   "cell_type": "markdown",
   "metadata": {},
   "source": [
    "`最初の 12367 項の逆数の和は 10`と出力されました。合っているのかな。\n",
    "\n",
    "問題  \n",
    "次のプログラムはなにをしているのか。"
   ]
  },
  {
   "cell_type": "code",
   "execution_count": null,
   "metadata": {},
   "outputs": [],
   "source": [
    "#include <iostream>\n",
    "using namespace std;\n",
    "int m,n;\n",
    "char c = ' ';\n",
    "n = 100;\n",
    "for (m=2; n != 1; m++){\n",
    "    while(n%m == 0){\n",
    "        n = n/m;\n",
    "        cout << c << m;\n",
    "        c =  ',';\n",
    "    }\n",
    "}"
   ]
  },
  {
   "cell_type": "markdown",
   "metadata": {},
   "source": [
    "n=100のとき`2,2,5,5`と出力されるので、素因数分解ですね。\n",
    "\n",
    "問題  \n",
    "素数判定する。"
   ]
  },
  {
   "cell_type": "code",
   "execution_count": null,
   "metadata": {},
   "outputs": [],
   "source": [
    "#include <iostream>\n",
    "using namespace std;\n",
    "int num, minRemainder=1, remainder, index = 2;\n",
    "num = 9987;\n",
    "if(num == 1){\n",
    "    minRemainder = 0; // 1は素数ではないとする\n",
    "}\n",
    "while(index < num){\n",
    "    remainder = num % index; // 余り計算\n",
    "    if(remainder < minRemainder){ // 余りが0なら割り切れるので\n",
    "        minRemainder=0; // 素数ではない\n",
    "    }\n",
    "    index++;\n",
    "}\n",
    "if(minRemainder != 0){\n",
    "    cout << num << \" は素数です \" << endl;\n",
    "}\n",
    "else{\n",
    "    cout << num << \" は素数ではありません \" << endl;\n",
    "}"
   ]
  },
  {
   "cell_type": "markdown",
   "metadata": {},
   "source": [
    "`9987 は素数ではありません `と出力されます。\n",
    "\n",
    "データをstringで入力する方法がわかったので、実験してみる。  \n",
    "sstreamとstringstreamという言葉が出てくる。  \n",
    "fstreamとifstreamに相当するのかな。"
   ]
  },
  {
   "cell_type": "code",
   "execution_count": null,
   "metadata": {},
   "outputs": [],
   "source": [
    "#include <iostream>\n",
    "#include <string>\n",
    "#include <sstream>\n",
    "using namespace std;\n",
    "string s = \"5 1 3\";\n",
    "int a;\n",
    "stringstream ss(s);\n",
    "if (ss >> a) {\n",
    "    cout << a << endl; \n",
    "    ss >> a;\n",
    "    cout << a << endl;\n",
    "    return 0;\n",
    "} else {\n",
    "    // データがない場合の警告\n",
    "    std::cerr << \"でーたがない?!\" << std::endl;\n",
    "    return -1;  // 失敗\n",
    "}"
   ]
  },
  {
   "cell_type": "markdown",
   "metadata": {},
   "source": [
    "```\n",
    "5\n",
    "1\n",
    "```\n",
    "と出力される。\n",
    "\n",
    "\n",
    "\n",
    "問題  \n",
    "数字の平均、最大値、最小値を求める。  \n",
    "というのをこれを使ってやってみよう。"
   ]
  },
  {
   "cell_type": "code",
   "execution_count": null,
   "metadata": {},
   "outputs": [],
   "source": [
    "#include <iostream>\n",
    "#include <string>\n",
    "#include <sstream>\n",
    "using namespace std;\n",
    "string s = \"5 2 3 8 10 9 8 1 1 1 3\";\n",
    "int max, min, sum, ini, data;\n",
    "double n;\n",
    "stringstream ss(s);\n",
    "if(ss >> ini){\n",
    "    max = min = sum = ini;\n",
    "    n = 1.0;\n",
    "    while(ss >> data){\n",
    "    sum += data;\n",
    "    ++n;\n",
    "    if(data >=max){\n",
    "        max = data;\n",
    "    }\n",
    "    else if(data < min) {\n",
    "        min = data;\n",
    "    }\n",
    "    }\n",
    "    cout << \"min = \" << min << \", max = \" << max << \", average = \" << sum/n << endl;\n",
    "}\n",
    "else {\n",
    "    // データがない場合の警告\n",
    "    std::cerr << \"でーたがない?!\" << std::endl;\n",
    "}\n"
   ]
  },
  {
   "cell_type": "markdown",
   "metadata": {},
   "source": [
    "`min = 1, max = 10, average = 4.63636`と出力されました。\n",
    "\n",
    "問題  \n",
    "do $\\dots$ whileを用いて    \n",
    "1から100までの数の二乗の合計を計算せよ。"
   ]
  },
  {
   "cell_type": "code",
   "execution_count": null,
   "metadata": {},
   "outputs": [],
   "source": [
    "#include <iostream>\n",
    "using namespace std;\n",
    "int j=1,s=0;\n",
    "do {\n",
    "    s = s + j*j;\n",
    "    j+=1;\n",
    "} while(j <= 100);\n",
    "cout << s << endl;"
   ]
  },
  {
   "cell_type": "markdown",
   "metadata": {},
   "source": [
    "`338350`と出力されました。\n",
    "\n",
    "問題  \n",
    "1から100までの階乗数を求めよ。"
   ]
  },
  {
   "cell_type": "code",
   "execution_count": null,
   "metadata": {},
   "outputs": [],
   "source": [
    "#include <iostream>\n",
    "using namespace std;\n",
    "long bound = 100;\n",
    "cout << bound << \" までの階乗数は 1\";\n",
    "long f= 1, i = 1;\n",
    "do {\n",
    "    i++;\n",
    "    f *= i;\n",
    "    cout << \", \" << f;\n",
    "}while(f < bound);"
   ]
  },
  {
   "cell_type": "markdown",
   "metadata": {},
   "source": [
    "`100 までの階乗数は 1, 2, 6, 24, 120`と出力されます。なんとなく問題の趣旨と違う気がする。まあいいか。\n",
    "\n",
    "\n",
    "\n",
    "問題\n",
    "do  ……  whileを用いて\n",
    "1から100までの数の二乗の合計を計算せよ。"
   ]
  },
  {
   "cell_type": "code",
   "execution_count": null,
   "metadata": {},
   "outputs": [],
   "source": [
    "#include <iostream>\n",
    "using namespace std;\n",
    "int s=0;\n",
    "for(int j= 1; j <= 100; j++){\n",
    "  s = s + j*j;\n",
    "}\n",
    "cout << s << endl;"
   ]
  },
  {
   "cell_type": "markdown",
   "metadata": {},
   "source": [
    "`338350`と出力されます。\n",
    "\n",
    "\n",
    "問題  \n",
    "forを用いて、1から100までの階乗数を求めよ。"
   ]
  },
  {
   "cell_type": "code",
   "execution_count": null,
   "metadata": {},
   "outputs": [],
   "source": [
    "#include <iostream>\n",
    "using namespace std;\n",
    "long bound = 100;\n",
    "cout << bound << \" までの階乗数は 1\";\n",
    "long f = 1;\n",
    "for(int i=2; f <= bound; i++) {\n",
    "    f *= i;\n",
    "    cout << \", \" << f;\n",
    "}"
   ]
  },
  {
   "cell_type": "markdown",
   "metadata": {},
   "source": [
    "`100 までの階乗数は 1, 2, 6, 24, 120`と出力されます。\n",
    "\n",
    "問題  \n",
    "forループをつかて、素数判定を行え。"
   ]
  },
  {
   "cell_type": "code",
   "execution_count": null,
   "metadata": {},
   "outputs": [],
   "source": [
    "#include <iostream>\n",
    "using namespace std;\n",
    "int n = 175;\n",
    "\n",
    "if(n < 2){\n",
    "    cout << n << \" は素数ではありません \" << endl;\n",
    "}\n",
    "else if(n < 4) {\n",
    "    cout << n << \" は素数です \" << endl;\n",
    "}\n",
    "else if(n%2 == 0){\n",
    "    cout << n << \" = 2*\" << n/2 << endl;\n",
    "}\n",
    "else {\n",
    "    for(int d=3; d <= n/2; d+=2){\n",
    "        if (n%d == 0){\n",
    "            cout << n << \" = \" << d << \"*\" << n/d << endl;\n",
    "            // exit(0);\n",
    "        }\n",
    "    }\n",
    "    cout << n << \" は素数です \" << endl;\n",
    "}"
   ]
  },
  {
   "cell_type": "markdown",
   "metadata": {},
   "source": [
    "```\n",
    "175 = 5*35\n",
    "175 = 7*25\n",
    "175 = 25*7\n",
    "175 = 35*5\n",
    "175 は素数です\n",
    "```\n",
    "となってしまうので、ダメです。素数判定になっていません。\n",
    "\n",
    "問題  \n",
    "forループを2重に使ってアスタリスクを表示する。"
   ]
  },
  {
   "cell_type": "code",
   "execution_count": null,
   "metadata": {},
   "outputs": [],
   "source": [
    "#include <iostream>\n",
    "using namespace std;\n",
    "for(int j=1; j <= 5; j++){\n",
    "    for(int i=1; i <= j; i++){\n",
    "        cout << \"*\";\n",
    "    }\n",
    "    cout << endl;\n",
    "}"
   ]
  },
  {
   "cell_type": "markdown",
   "metadata": {},
   "source": [
    "```\n",
    "*\n",
    "**\n",
    "***\n",
    "****\n",
    "*****\n",
    "```\n",
    "と表示されました。\n",
    "\n",
    "問題  \n",
    "アスタリスクを右詰めで表示する。"
   ]
  },
  {
   "cell_type": "code",
   "execution_count": null,
   "metadata": {},
   "outputs": [],
   "source": [
    "#include <iostream>\n",
    "using namespace std;\n",
    "int k;\n",
    "for(k = 4; k >=0; k--){\n",
    "    for(int j=1; j <= k; j++){\n",
    "        cout << \" \";\n",
    "    }\n",
    "    for(int i=1; i <= 5-k; i++){\n",
    "        cout << \"*\";\n",
    "    }\n",
    "    cout << endl;\n",
    "}"
   ]
  },
  {
   "cell_type": "markdown",
   "metadata": {},
   "source": [
    "```\n",
    "    *\n",
    "   **\n",
    "  ***\n",
    " ****\n",
    "*****\n",
    "```\n",
    "と表示されました。\n",
    "\n",
    "\n",
    "### continue to breakの違い\n",
    "\n"
   ]
  },
  {
   "cell_type": "code",
   "execution_count": null,
   "metadata": {},
   "outputs": [],
   "source": [
    "#include <iostream>\n",
    "using namespace std;\n",
    "\n",
    "int n;\n",
    "for(; ;){\n",
    "    n = 3;\n",
    "    if(n%2 == 0) continue;\n",
    "    if(n%3 == 0) break;\n",
    "    cout << \"ループの最後 \" << endl;\n",
    "}\n",
    "cout << \"ループの外 \" << endl;\n"
   ]
  },
  {
   "cell_type": "markdown",
   "metadata": {},
   "source": [
    "n=3で`ループの外`が表示されました。それ以外では`ループの最後`が無限回表示されてしまいます。\n",
    "\n",
    "### ランダム\n",
    "\n",
    "rand()は毎回同じ乱数を発生する。\n"
   ]
  },
  {
   "cell_type": "code",
   "execution_count": null,
   "metadata": {},
   "outputs": [],
   "source": [
    "#include <iostream>\n",
    "#include <cstdlib>\n",
    "using namespace std;\n",
    "\n",
    "for(int i=0; i < 8; i++){\n",
    "    cout << rand() << endl;\n",
    "}\n",
    "cout << \"RAND_MAX = \" << RAND_MAX << endl;\n"
   ]
  },
  {
   "cell_type": "markdown",
   "metadata": {},
   "source": [
    "srand()関数を用いるとseedを用いて擬似乱数を発生する。\n"
   ]
  },
  {
   "cell_type": "code",
   "execution_count": null,
   "metadata": {},
   "outputs": [],
   "source": [
    "#include <iostream>\n",
    "#include <cstdlib>\n",
    "using namespace std;\n",
    "\n",
    "unsigned seed = time(NULL);\n",
    "cout << \"seed = \" << seed << endl;\n",
    "srand(seed);\n",
    "for(int i=0; i < 8;i++){\n",
    "    cout << rand() << endl;\n",
    "}\n"
   ]
  },
  {
   "cell_type": "code",
   "execution_count": null,
   "metadata": {},
   "outputs": [],
   "source": [
    "問題  \n",
    "決められた範囲内での乱数の発生"
   ]
  },
  {
   "cell_type": "code",
   "execution_count": null,
   "metadata": {},
   "outputs": [],
   "source": [
    "#include <iostream>\n",
    "#include <cstdlib>\n",
    "#include <ctime>\n",
    "using namespace std;\n",
    "\n",
    "unsigned seed = time(NULL);\n",
    "cout << \"seed = \" << seed << endl ;\n",
    "srand(seed);\n",
    "\n",
    "int min = 0, max = 100;\n",
    "int range = max - min + 1;\n",
    "for(int i=0; i < 20;i++){\n",
    "    int r = rand()/100%range + min;\n",
    "cout << r << \" \";\n",
    "}\n",
    "cout << endl;"
   ]
  },
  {
   "cell_type": "markdown",
   "metadata": {},
   "source": [
    "```\n",
    "seed = 1523100069\n",
    "56 26 14 46 28 56 64 5 30 45 36 97 67 20 52 22 61 47 22 33\n",
    "```\n",
    "と表示されました。"
   ]
  },
  {
   "cell_type": "markdown",
   "metadata": {},
   "source": [
    "### C++ 標準ライブラリ関数\n",
    "`<cmath>` で定義されている関数  \n",
    "acos(x), asin(x), atan(x), ceil(x), cos(x), exp(x), fabs(x), floor(x), log(x), log10(x), pow(x,p), sin(x), sqrt(x), tan(x)\n",
    "\n",
    "ヘッダーファイル  \n",
    "`<cassert> <cctype> <cfloat> <climits> <cmath> <cstdio> <cstdlib> <string> <ctime> <iostream> <fstream> `\n",
    "\n",
    "\n",
    "### ユーザー関数\n"
   ]
  },
  {
   "cell_type": "code",
   "execution_count": null,
   "metadata": {},
   "outputs": [],
   "source": [
    "int max(int x, int y)\n",
    "{\n",
    "    if (x < y) return y;\n",
    "else return x;\n",
    "}\n",
    "max (4, 3)"
   ]
  },
  {
   "cell_type": "markdown",
   "metadata": {},
   "source": [
    "問題  \n",
    "学校名、所在地を表示する関数を作って、表示する。  \n",
    "以下の4つのセルを`Shift`を押しながら選んで、`Ctrl-Shift`で評価する。"
   ]
  },
  {
   "cell_type": "code",
   "execution_count": null,
   "metadata": {},
   "outputs": [],
   "source": [
    "#include <iostream>\n",
    "using namespace std;"
   ]
  },
  {
   "cell_type": "code",
   "execution_count": null,
   "metadata": {},
   "outputs": [],
   "source": [
    "// 関数 school の定義\n",
    "void school(void)\n",
    "{\n",
    "    cout << \" 広島工業大学 \" << endl;\n",
    "}"
   ]
  },
  {
   "cell_type": "code",
   "execution_count": null,
   "metadata": {},
   "outputs": [],
   "source": [
    "// 関数 address の定義\n",
    "void address(void)\n",
    "{\n",
    "    cout << \" 広島市佐伯区三宅 2-1-1\" << endl;\n",
    "}"
   ]
  },
  {
   "cell_type": "code",
   "execution_count": null,
   "metadata": {},
   "outputs": [],
   "source": [
    "school();\n",
    "address();"
   ]
  },
  {
   "cell_type": "code",
   "execution_count": null,
   "metadata": {},
   "outputs": [],
   "source": [
    "```\n",
    " 広島工業大学 \n",
    " 広島市佐伯区三宅 2-1-1\n",
    " ```\n",
    " と表示されました。\n",
    " \n",
    " "
   ]
  },
  {
   "cell_type": "code",
   "execution_count": 1,
   "metadata": {},
   "outputs": [
    {
     "name": "stderr",
     "output_type": "stream",
     "text": [
      "\u001b[1minput_line_3:4:2: \u001b[0m\u001b[0;1;31merror: \u001b[0m\u001b[1mfunction definition is not allowed here\u001b[0m\n",
      " {\n",
      "\u001b[0;1;32m ^\n",
      "\u001b[0m\u001b[1minput_line_3:11:1: \u001b[0m\u001b[0;1;31merror: \u001b[0m\u001b[1mfunction definition is not allowed here\u001b[0m\n",
      "{};\n",
      "\u001b[0;1;32m^\n",
      "\u001b[0m\u001b[1minput_line_3:13:1: \u001b[0m\u001b[0;1;31merror: \u001b[0m\u001b[1mfunction definition is not allowed here\u001b[0m\n",
      "{}\n",
      "\u001b[0;1;32m^\n",
      "\u001b[0m"
     ]
    },
    {
     "ename": "ename",
     "evalue": "evalue",
     "output_type": "error",
     "traceback": []
    }
   ],
   "source": [
    "using namespace std;\n",
    "auto f()\n",
    " {\n",
    "     return std::vector<int>{};\n",
    " }\n",
    "\n",
    "\n",
    "\n",
    "auto kkk()\n",
    "{};\n",
    "auto mmm()\n",
    "{}"
   ]
  },
  {
   "cell_type": "code",
   "execution_count": null,
   "metadata": {},
   "outputs": [],
   "source": []
  },
  {
   "cell_type": "code",
   "execution_count": null,
   "metadata": {},
   "outputs": [],
   "source": []
  },
  {
   "cell_type": "code",
   "execution_count": null,
   "metadata": {},
   "outputs": [],
   "source": []
  }
 ],
 "metadata": {
  "kernelspec": {
   "display_name": "C++17",
   "language": "C++",
   "name": "cling-cpp17"
  },
  "language_info": {
   "codemirror_mode": "c++",
   "file_extension": ".c++",
   "mimetype": "text/x-c++src",
   "name": "c++"
  }
 },
 "nbformat": 4,
 "nbformat_minor": 2
}
